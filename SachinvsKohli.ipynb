{
  "nbformat": 4,
  "nbformat_minor": 0,
  "metadata": {
    "colab": {
      "name": "SachinvsKohli.ipynb",
      "provenance": [],
      "collapsed_sections": [],
      "authorship_tag": "ABX9TyOfv7iH9ch3q7JBR9uB70na",
      "include_colab_link": true
    },
    "kernelspec": {
      "name": "python3",
      "display_name": "Python 3"
    },
    "language_info": {
      "name": "python"
    }
  },
  "cells": [
    {
      "cell_type": "markdown",
      "metadata": {
        "id": "view-in-github",
        "colab_type": "text"
      },
      "source": [
        "<a href=\"https://colab.research.google.com/github/arehvs/practice/blob/main/SachinvsKohli.ipynb\" target=\"_parent\"><img src=\"https://colab.research.google.com/assets/colab-badge.svg\" alt=\"Open In Colab\"/></a>"
      ]
    },
    {
      "cell_type": "code",
      "metadata": {
        "id": "75PInulOOl2S",
        "colab": {
          "base_uri": "https://localhost:8080/"
        },
        "outputId": "54cb6470-5c83-44a4-c86b-a350ca887c9c"
      },
      "source": [
        "import warnings\n",
        "warnings.filterwarnings('ignore')\n",
        "\n",
        "from google.colab import  drive\n",
        "drive.mount('/content/drive/')\n",
        "\n",
        "import pandas as pd\n",
        "import numpy as np\n",
        "\n",
        "import matplotlib.pyplot as plt\n",
        "\n",
        "# To display all row and column\n",
        "pd.set_option('display.max_rows', None)\n",
        "pd.set_option('display.max_columns', None)\n",
        "pd.set_option('display.expand_frame.repr', False)\n",
        "pd.set_option('max_colwidth',-1)"
      ],
      "execution_count": 2,
      "outputs": [
        {
          "output_type": "stream",
          "name": "stdout",
          "text": [
            "Mounted at /content/drive/\n"
          ]
        }
      ]
    },
    {
      "cell_type": "code",
      "metadata": {
        "colab": {
          "base_uri": "https://localhost:8080/"
        },
        "id": "tUKIAayV8LOY",
        "outputId": "cc1c423f-04cf-43fd-f0e1-39e7a1337bc2"
      },
      "source": [
        "!pip install -1 keras"
      ],
      "execution_count": 3,
      "outputs": [
        {
          "output_type": "stream",
          "name": "stdout",
          "text": [
            "\n",
            "Usage:   \n",
            "  pip3 install [options] <requirement specifier> [package-index-options] ...\n",
            "  pip3 install [options] -r <requirements file> [package-index-options] ...\n",
            "  pip3 install [options] [-e] <vcs project url> ...\n",
            "  pip3 install [options] [-e] <local project path> ...\n",
            "  pip3 install [options] <archive url/path> ...\n",
            "\n",
            "no such option: -1\n"
          ]
        }
      ]
    },
    {
      "cell_type": "code",
      "metadata": {
        "id": "shdhqJvo8Ywm"
      },
      "source": [
        "import keras"
      ],
      "execution_count": 4,
      "outputs": []
    },
    {
      "cell_type": "code",
      "metadata": {
        "id": "KMdu0hsen2Im"
      },
      "source": [
        "df = pd.read_csv('/content/drive/MyDrive/Colab Notebooks/CSV_files/ODI_data.csv')\n",
        "# fileList = drive.mount(\"/drive\", force_remount=True)\n",
        "# fileList = drive.ListFile({'q': \"'root' in parents and trashed=false\"}).GetList()\n"
      ],
      "execution_count": 5,
      "outputs": []
    },
    {
      "cell_type": "code",
      "metadata": {
        "id": "GzOXciYU8Jz-"
      },
      "source": [
        ""
      ],
      "execution_count": 5,
      "outputs": []
    },
    {
      "cell_type": "code",
      "metadata": {
        "colab": {
          "base_uri": "https://localhost:8080/",
          "height": 216
        },
        "id": "t1fKsY3lomz0",
        "outputId": "63b5c27e-2cf5-4c0e-fb04-2011c30a9a64"
      },
      "source": [
        "df.head(2)"
      ],
      "execution_count": 6,
      "outputs": [
        {
          "output_type": "execute_result",
          "data": {
            "text/html": [
              "<div>\n",
              "<style scoped>\n",
              "    .dataframe tbody tr th:only-of-type {\n",
              "        vertical-align: middle;\n",
              "    }\n",
              "\n",
              "    .dataframe tbody tr th {\n",
              "        vertical-align: top;\n",
              "    }\n",
              "\n",
              "    .dataframe thead th {\n",
              "        text-align: right;\n",
              "    }\n",
              "</style>\n",
              "<table border=\"1\" class=\"dataframe\">\n",
              "  <thead>\n",
              "    <tr style=\"text-align: right;\">\n",
              "      <th></th>\n",
              "      <th>Innings Player</th>\n",
              "      <th>Innings Runs Scored</th>\n",
              "      <th>Innings Runs Scored Num</th>\n",
              "      <th>Innings Minutes Batted</th>\n",
              "      <th>Innings Batted Flag</th>\n",
              "      <th>Innings Not Out Flag</th>\n",
              "      <th>Innings Balls Faced</th>\n",
              "      <th>Innings Boundary Fours</th>\n",
              "      <th>Innings Boundary Sixes</th>\n",
              "      <th>Innings Batting Strike Rate</th>\n",
              "      <th>Innings Number</th>\n",
              "      <th>Opposition</th>\n",
              "      <th>Ground</th>\n",
              "      <th>Innings Date</th>\n",
              "      <th>Country</th>\n",
              "      <th>50's</th>\n",
              "      <th>100's</th>\n",
              "      <th>Innings Runs Scored Buckets</th>\n",
              "      <th>Innings Overs Bowled</th>\n",
              "      <th>Innings Bowled Flag</th>\n",
              "      <th>Innings Maidens Bowled</th>\n",
              "      <th>Innings Runs Conceded</th>\n",
              "      <th>Innings Wickets Taken</th>\n",
              "      <th>4 Wickets</th>\n",
              "      <th>5 Wickets</th>\n",
              "      <th>10 Wickets</th>\n",
              "      <th>Innings Wickets Taken Buckets</th>\n",
              "      <th>Innings Economy Rate</th>\n",
              "    </tr>\n",
              "  </thead>\n",
              "  <tbody>\n",
              "    <tr>\n",
              "      <th>0</th>\n",
              "      <td>E Lewis</td>\n",
              "      <td>65</td>\n",
              "      <td>65</td>\n",
              "      <td>128</td>\n",
              "      <td>1.0</td>\n",
              "      <td>0.0</td>\n",
              "      <td>80</td>\n",
              "      <td>8</td>\n",
              "      <td>1</td>\n",
              "      <td>81.25</td>\n",
              "      <td>2</td>\n",
              "      <td>v India</td>\n",
              "      <td>Port of Spain</td>\n",
              "      <td>11-08-2019</td>\n",
              "      <td>West Indies</td>\n",
              "      <td>1.0</td>\n",
              "      <td>0.0</td>\n",
              "      <td>50-99</td>\n",
              "      <td>NaN</td>\n",
              "      <td>NaN</td>\n",
              "      <td>NaN</td>\n",
              "      <td>NaN</td>\n",
              "      <td>NaN</td>\n",
              "      <td>NaN</td>\n",
              "      <td>NaN</td>\n",
              "      <td>NaN</td>\n",
              "      <td>NaN</td>\n",
              "      <td>NaN</td>\n",
              "    </tr>\n",
              "    <tr>\n",
              "      <th>1</th>\n",
              "      <td>N Pooran</td>\n",
              "      <td>42</td>\n",
              "      <td>42</td>\n",
              "      <td>69</td>\n",
              "      <td>1.0</td>\n",
              "      <td>0.0</td>\n",
              "      <td>52</td>\n",
              "      <td>4</td>\n",
              "      <td>1</td>\n",
              "      <td>80.76</td>\n",
              "      <td>2</td>\n",
              "      <td>v India</td>\n",
              "      <td>Port of Spain</td>\n",
              "      <td>11-08-2019</td>\n",
              "      <td>West Indies</td>\n",
              "      <td>0.0</td>\n",
              "      <td>0.0</td>\n",
              "      <td>0-49</td>\n",
              "      <td>NaN</td>\n",
              "      <td>NaN</td>\n",
              "      <td>NaN</td>\n",
              "      <td>NaN</td>\n",
              "      <td>NaN</td>\n",
              "      <td>NaN</td>\n",
              "      <td>NaN</td>\n",
              "      <td>NaN</td>\n",
              "      <td>NaN</td>\n",
              "      <td>NaN</td>\n",
              "    </tr>\n",
              "  </tbody>\n",
              "</table>\n",
              "</div>"
            ],
            "text/plain": [
              "  Innings Player Innings Runs Scored Innings Runs Scored Num Innings Minutes Batted  Innings Batted Flag  Innings Not Out Flag Innings Balls Faced Innings Boundary Fours Innings Boundary Sixes Innings Batting Strike Rate Innings Number Opposition         Ground Innings Date      Country  50's  100's Innings Runs Scored Buckets Innings Overs Bowled  Innings Bowled Flag Innings Maidens Bowled Innings Runs Conceded Innings Wickets Taken  4 Wickets  5 Wickets  10 Wickets Innings Wickets Taken Buckets Innings Economy Rate\n",
              "0  E Lewis        65                  65                      128                    1.0                  0.0                   80                  8                      1                      81.25                       2              v India    Port of Spain  11-08-2019   West Indies  1.0   0.0    50-99                       NaN                 NaN                   NaN                    NaN                   NaN                  NaN        NaN        NaN          NaN                           NaN                \n",
              "1  N Pooran       42                  42                      69                     1.0                  0.0                   52                  4                      1                      80.76                       2              v India    Port of Spain  11-08-2019   West Indies  0.0   0.0    0-49                        NaN                 NaN                   NaN                    NaN                   NaN                  NaN        NaN        NaN          NaN                           NaN                "
            ]
          },
          "metadata": {},
          "execution_count": 6
        }
      ]
    },
    {
      "cell_type": "code",
      "metadata": {
        "id": "hLfIk56SopBu",
        "colab": {
          "base_uri": "https://localhost:8080/"
        },
        "outputId": "00f78940-2da5-4c8f-fc66-f060760d1aa2"
      },
      "source": [
        "# Length of whole df\n",
        "len(df)"
      ],
      "execution_count": 7,
      "outputs": [
        {
          "output_type": "execute_result",
          "data": {
            "text/plain": [
              "171968"
            ]
          },
          "metadata": {},
          "execution_count": 7
        }
      ]
    },
    {
      "cell_type": "code",
      "metadata": {
        "id": "U9szsbWHoycN",
        "colab": {
          "base_uri": "https://localhost:8080/"
        },
        "outputId": "441794ae-65d4-4e1c-9ef7-41efbfdd339d"
      },
      "source": [
        "# length of columns\n",
        "len(df.columns)"
      ],
      "execution_count": 8,
      "outputs": [
        {
          "output_type": "execute_result",
          "data": {
            "text/plain": [
              "28"
            ]
          },
          "metadata": {},
          "execution_count": 8
        }
      ]
    },
    {
      "cell_type": "code",
      "metadata": {
        "id": "6YBJPmLKo98V"
      },
      "source": [
        "  # Criteria\n",
        "  # Runs Per Inning\n",
        "  # Strike rate\n",
        "  # 100s\n",
        "  # 50s\n",
        "  # Team contribution "
      ],
      "execution_count": 9,
      "outputs": []
    },
    {
      "cell_type": "code",
      "metadata": {
        "id": "mJbuot9fqCUy",
        "colab": {
          "base_uri": "https://localhost:8080/"
        },
        "outputId": "58b9516c-9e18-4af2-956b-58627fd99dbe"
      },
      "source": [
        "# Unique Runs scored\n",
        "df['Innings Runs Scored Num'].unique()"
      ],
      "execution_count": 10,
      "outputs": [
        {
          "output_type": "execute_result",
          "data": {
            "text/plain": [
              "array(['65', '42', '18', '17', '13', '11', '5', '0', '120', '71', '20',\n",
              "       '16', '3', '2', '1', '-', nan, '40', '6', '4', '87', '54', '46',\n",
              "       '30', '12', '69', '39', '14', '10', '9', '8', '7', '82', '52',\n",
              "       '41', '15', '98', '43', '19', '111', '48', '36', '25', '67', '60',\n",
              "       '84', '59', '55', '47', '85', '49', '45', '34', '29', '22', '74',\n",
              "       '28', '77', '50', '32', '23', '35', '122', '100', '95', '103',\n",
              "       '113', '53', '96', '27', '64', '58', '33', '31', '73', '56', '86',\n",
              "       '62', '106', '24', '57', '104', '26', '66', '51', '118', '105',\n",
              "       '101', '21', '79', '44', '102', '88', '80', '72', '97', '68', '89',\n",
              "       '38', '83', '63', '148', '166', '90', '76', '37', '70', '124',\n",
              "       '94', '140', '153', '107', '117', '121', '92', '78', '75', '114',\n",
              "       '115', '130', '128', '151', '110', '138', '135', '109', '61',\n",
              "       '179', '170', '112', '116', '91', '143', '93', '123', '145', '81',\n",
              "       '150', '162', '108', '131', '133', '137', '146', '139', '125',\n",
              "       '129', '157', '152', '144', '99', '127', '210', '147', '126',\n",
              "       '181', '160', '180', '208', '176', '168', '141', '132', '119',\n",
              "       '154', '185', '134', '156', '164', '173', '178', '171', '149',\n",
              "       '237', '159', '161', '215', '264', '136', '169', '209', '174',\n",
              "       '189', '183', '163', '219', '158', '175', '177', '200', '194',\n",
              "       '142', '172', '186', '188', '167'], dtype=object)"
            ]
          },
          "metadata": {},
          "execution_count": 10
        }
      ]
    },
    {
      "cell_type": "code",
      "metadata": {
        "id": "uuDj7EV9qUaG"
      },
      "source": [
        "# Removing '-' from the data set\n",
        "df = df[df['Innings Runs Scored Num'] != '-']"
      ],
      "execution_count": 11,
      "outputs": []
    },
    {
      "cell_type": "code",
      "metadata": {
        "id": "n9TqxSb-rBDo",
        "colab": {
          "base_uri": "https://localhost:8080/"
        },
        "outputId": "0c538494-024b-4afb-d2dc-1a59b45d074e"
      },
      "source": [
        "df['Innings Runs Scored Num'].unique()"
      ],
      "execution_count": 12,
      "outputs": [
        {
          "output_type": "execute_result",
          "data": {
            "text/plain": [
              "array(['65', '42', '18', '17', '13', '11', '5', '0', '120', '71', '20',\n",
              "       '16', '3', '2', '1', nan, '40', '6', '4', '87', '54', '46', '30',\n",
              "       '12', '69', '39', '14', '10', '9', '8', '7', '82', '52', '41',\n",
              "       '15', '98', '43', '19', '111', '48', '36', '25', '67', '60', '84',\n",
              "       '59', '55', '47', '85', '49', '45', '34', '29', '22', '74', '28',\n",
              "       '77', '50', '32', '23', '35', '122', '100', '95', '103', '113',\n",
              "       '53', '96', '27', '64', '58', '33', '31', '73', '56', '86', '62',\n",
              "       '106', '24', '57', '104', '26', '66', '51', '118', '105', '101',\n",
              "       '21', '79', '44', '102', '88', '80', '72', '97', '68', '89', '38',\n",
              "       '83', '63', '148', '166', '90', '76', '37', '70', '124', '94',\n",
              "       '140', '153', '107', '117', '121', '92', '78', '75', '114', '115',\n",
              "       '130', '128', '151', '110', '138', '135', '109', '61', '179',\n",
              "       '170', '112', '116', '91', '143', '93', '123', '145', '81', '150',\n",
              "       '162', '108', '131', '133', '137', '146', '139', '125', '129',\n",
              "       '157', '152', '144', '99', '127', '210', '147', '126', '181',\n",
              "       '160', '180', '208', '176', '168', '141', '132', '119', '154',\n",
              "       '185', '134', '156', '164', '173', '178', '171', '149', '237',\n",
              "       '159', '161', '215', '264', '136', '169', '209', '174', '189',\n",
              "       '183', '163', '219', '158', '175', '177', '200', '194', '142',\n",
              "       '172', '186', '188', '167'], dtype=object)"
            ]
          },
          "metadata": {},
          "execution_count": 12
        }
      ]
    },
    {
      "cell_type": "code",
      "metadata": {
        "id": "LLtq9pKLrgrf"
      },
      "source": [
        ""
      ],
      "execution_count": 12,
      "outputs": []
    },
    {
      "cell_type": "code",
      "metadata": {
        "id": "UEsjaHjhrGVP"
      },
      "source": [
        "# Removing 'nan'\n",
        "df = df.dropna(subset = ['Innings Runs Scored Num'])"
      ],
      "execution_count": 13,
      "outputs": []
    },
    {
      "cell_type": "code",
      "metadata": {
        "id": "EIzT51WXrhSv",
        "colab": {
          "base_uri": "https://localhost:8080/"
        },
        "outputId": "90633655-2311-4c46-b573-0abff4b29cf8"
      },
      "source": [
        "df['Innings Runs Scored Num'].unique()"
      ],
      "execution_count": 14,
      "outputs": [
        {
          "output_type": "execute_result",
          "data": {
            "text/plain": [
              "array(['65', '42', '18', '17', '13', '11', '5', '0', '120', '71', '20',\n",
              "       '16', '3', '2', '1', '40', '6', '4', '87', '54', '46', '30', '12',\n",
              "       '69', '39', '14', '10', '9', '8', '7', '82', '52', '41', '15',\n",
              "       '98', '43', '19', '111', '48', '36', '25', '67', '60', '84', '59',\n",
              "       '55', '47', '85', '49', '45', '34', '29', '22', '74', '28', '77',\n",
              "       '50', '32', '23', '35', '122', '100', '95', '103', '113', '53',\n",
              "       '96', '27', '64', '58', '33', '31', '73', '56', '86', '62', '106',\n",
              "       '24', '57', '104', '26', '66', '51', '118', '105', '101', '21',\n",
              "       '79', '44', '102', '88', '80', '72', '97', '68', '89', '38', '83',\n",
              "       '63', '148', '166', '90', '76', '37', '70', '124', '94', '140',\n",
              "       '153', '107', '117', '121', '92', '78', '75', '114', '115', '130',\n",
              "       '128', '151', '110', '138', '135', '109', '61', '179', '170',\n",
              "       '112', '116', '91', '143', '93', '123', '145', '81', '150', '162',\n",
              "       '108', '131', '133', '137', '146', '139', '125', '129', '157',\n",
              "       '152', '144', '99', '127', '210', '147', '126', '181', '160',\n",
              "       '180', '208', '176', '168', '141', '132', '119', '154', '185',\n",
              "       '134', '156', '164', '173', '178', '171', '149', '237', '159',\n",
              "       '161', '215', '264', '136', '169', '209', '174', '189', '183',\n",
              "       '163', '219', '158', '175', '177', '200', '194', '142', '172',\n",
              "       '186', '188', '167'], dtype=object)"
            ]
          },
          "metadata": {},
          "execution_count": 14
        }
      ]
    },
    {
      "cell_type": "code",
      "metadata": {
        "id": "ONAIbfKerpEm"
      },
      "source": [
        "# convert into a datetime\n",
        "df['Innings Date'] = pd.to_datetime(df['Innings Date'])"
      ],
      "execution_count": 15,
      "outputs": []
    },
    {
      "cell_type": "code",
      "metadata": {
        "id": "4RGAHQ82sHQP"
      },
      "source": [
        "df['year'] = df['Innings Date'].dt.year\n",
        "# creating new column for year from the Innings Date"
      ],
      "execution_count": 16,
      "outputs": []
    },
    {
      "cell_type": "code",
      "metadata": {
        "id": "VLMX1DrssSk-",
        "colab": {
          "base_uri": "https://localhost:8080/",
          "height": 168
        },
        "outputId": "c802d5e3-be54-44ad-ed6b-052b2c3c76d1"
      },
      "source": [
        "df.tail(1)"
      ],
      "execution_count": 17,
      "outputs": [
        {
          "output_type": "execute_result",
          "data": {
            "text/html": [
              "<div>\n",
              "<style scoped>\n",
              "    .dataframe tbody tr th:only-of-type {\n",
              "        vertical-align: middle;\n",
              "    }\n",
              "\n",
              "    .dataframe tbody tr th {\n",
              "        vertical-align: top;\n",
              "    }\n",
              "\n",
              "    .dataframe thead th {\n",
              "        text-align: right;\n",
              "    }\n",
              "</style>\n",
              "<table border=\"1\" class=\"dataframe\">\n",
              "  <thead>\n",
              "    <tr style=\"text-align: right;\">\n",
              "      <th></th>\n",
              "      <th>Innings Player</th>\n",
              "      <th>Innings Runs Scored</th>\n",
              "      <th>Innings Runs Scored Num</th>\n",
              "      <th>Innings Minutes Batted</th>\n",
              "      <th>Innings Batted Flag</th>\n",
              "      <th>Innings Not Out Flag</th>\n",
              "      <th>Innings Balls Faced</th>\n",
              "      <th>Innings Boundary Fours</th>\n",
              "      <th>Innings Boundary Sixes</th>\n",
              "      <th>Innings Batting Strike Rate</th>\n",
              "      <th>Innings Number</th>\n",
              "      <th>Opposition</th>\n",
              "      <th>Ground</th>\n",
              "      <th>Innings Date</th>\n",
              "      <th>Country</th>\n",
              "      <th>50's</th>\n",
              "      <th>100's</th>\n",
              "      <th>Innings Runs Scored Buckets</th>\n",
              "      <th>Innings Overs Bowled</th>\n",
              "      <th>Innings Bowled Flag</th>\n",
              "      <th>Innings Maidens Bowled</th>\n",
              "      <th>Innings Runs Conceded</th>\n",
              "      <th>Innings Wickets Taken</th>\n",
              "      <th>4 Wickets</th>\n",
              "      <th>5 Wickets</th>\n",
              "      <th>10 Wickets</th>\n",
              "      <th>Innings Wickets Taken Buckets</th>\n",
              "      <th>Innings Economy Rate</th>\n",
              "      <th>year</th>\n",
              "    </tr>\n",
              "  </thead>\n",
              "  <tbody>\n",
              "    <tr>\n",
              "      <th>171941</th>\n",
              "      <td>RW Marsh</td>\n",
              "      <td>10*</td>\n",
              "      <td>10</td>\n",
              "      <td>24</td>\n",
              "      <td>1.0</td>\n",
              "      <td>1.0</td>\n",
              "      <td>18</td>\n",
              "      <td>2</td>\n",
              "      <td>0</td>\n",
              "      <td>55.55</td>\n",
              "      <td>2</td>\n",
              "      <td>v England</td>\n",
              "      <td>Melbourne</td>\n",
              "      <td>1971-05-01</td>\n",
              "      <td>Australia</td>\n",
              "      <td>0.0</td>\n",
              "      <td>0.0</td>\n",
              "      <td>0-49</td>\n",
              "      <td>NaN</td>\n",
              "      <td>NaN</td>\n",
              "      <td>NaN</td>\n",
              "      <td>NaN</td>\n",
              "      <td>NaN</td>\n",
              "      <td>NaN</td>\n",
              "      <td>NaN</td>\n",
              "      <td>NaN</td>\n",
              "      <td>NaN</td>\n",
              "      <td>NaN</td>\n",
              "      <td>1971</td>\n",
              "    </tr>\n",
              "  </tbody>\n",
              "</table>\n",
              "</div>"
            ],
            "text/plain": [
              "       Innings Player Innings Runs Scored Innings Runs Scored Num Innings Minutes Batted  Innings Batted Flag  Innings Not Out Flag Innings Balls Faced Innings Boundary Fours Innings Boundary Sixes Innings Batting Strike Rate Innings Number Opposition     Ground Innings Date    Country  50's  100's Innings Runs Scored Buckets Innings Overs Bowled  Innings Bowled Flag Innings Maidens Bowled Innings Runs Conceded Innings Wickets Taken  4 Wickets  5 Wickets  10 Wickets Innings Wickets Taken Buckets Innings Economy Rate  year\n",
              "171941  RW Marsh       10*                 10                      24                     1.0                  1.0                   18                  2                      0                      55.55                       2              v England  Melbourne 1971-05-01    Australia  0.0   0.0    0-49                        NaN                 NaN                   NaN                    NaN                   NaN                  NaN        NaN        NaN          NaN                           NaN                  1971"
            ]
          },
          "metadata": {},
          "execution_count": 17
        }
      ]
    },
    {
      "cell_type": "code",
      "metadata": {
        "id": "FRmtmqnNsXaS"
      },
      "source": [
        "# Sachin 1994-2004\n",
        "# Virat 2009-2019"
      ],
      "execution_count": 18,
      "outputs": []
    },
    {
      "cell_type": "code",
      "metadata": {
        "id": "lprINbQegzpV"
      },
      "source": [
        "df['Innings Runs Scored Num'] = df['Innings Runs Scored Num'].astype(int)\n",
        "df['Innings Balls Faced'] = df['Innings Balls Faced'].astype(int)\n",
        "df['Innings Not Out Flag'] = df['Innings Not Out Flag'].astype(int)\n",
        "# Change into IntegerType"
      ],
      "execution_count": 19,
      "outputs": []
    },
    {
      "cell_type": "code",
      "metadata": {
        "id": "DZxQcZBisvPV"
      },
      "source": [
        "# Sachin DF\n",
        "sachin_df = df[(df.year >= 1994) & (df.year <= 2004 )]\n",
        "\n",
        "# virat Df\n",
        "virat_df = df[(df.year >= 2009) & (df.year <= 2019)]"
      ],
      "execution_count": 20,
      "outputs": []
    },
    {
      "cell_type": "code",
      "metadata": {
        "id": "yXv46e9PtER_",
        "colab": {
          "base_uri": "https://localhost:8080/",
          "height": 216
        },
        "outputId": "2aade1bd-6f72-425f-ec3c-5c44210fdfc9"
      },
      "source": [
        "sachin_df.head(2)"
      ],
      "execution_count": 21,
      "outputs": [
        {
          "output_type": "execute_result",
          "data": {
            "text/html": [
              "<div>\n",
              "<style scoped>\n",
              "    .dataframe tbody tr th:only-of-type {\n",
              "        vertical-align: middle;\n",
              "    }\n",
              "\n",
              "    .dataframe tbody tr th {\n",
              "        vertical-align: top;\n",
              "    }\n",
              "\n",
              "    .dataframe thead th {\n",
              "        text-align: right;\n",
              "    }\n",
              "</style>\n",
              "<table border=\"1\" class=\"dataframe\">\n",
              "  <thead>\n",
              "    <tr style=\"text-align: right;\">\n",
              "      <th></th>\n",
              "      <th>Innings Player</th>\n",
              "      <th>Innings Runs Scored</th>\n",
              "      <th>Innings Runs Scored Num</th>\n",
              "      <th>Innings Minutes Batted</th>\n",
              "      <th>Innings Batted Flag</th>\n",
              "      <th>Innings Not Out Flag</th>\n",
              "      <th>Innings Balls Faced</th>\n",
              "      <th>Innings Boundary Fours</th>\n",
              "      <th>Innings Boundary Sixes</th>\n",
              "      <th>Innings Batting Strike Rate</th>\n",
              "      <th>Innings Number</th>\n",
              "      <th>Opposition</th>\n",
              "      <th>Ground</th>\n",
              "      <th>Innings Date</th>\n",
              "      <th>Country</th>\n",
              "      <th>50's</th>\n",
              "      <th>100's</th>\n",
              "      <th>Innings Runs Scored Buckets</th>\n",
              "      <th>Innings Overs Bowled</th>\n",
              "      <th>Innings Bowled Flag</th>\n",
              "      <th>Innings Maidens Bowled</th>\n",
              "      <th>Innings Runs Conceded</th>\n",
              "      <th>Innings Wickets Taken</th>\n",
              "      <th>4 Wickets</th>\n",
              "      <th>5 Wickets</th>\n",
              "      <th>10 Wickets</th>\n",
              "      <th>Innings Wickets Taken Buckets</th>\n",
              "      <th>Innings Economy Rate</th>\n",
              "      <th>year</th>\n",
              "    </tr>\n",
              "  </thead>\n",
              "  <tbody>\n",
              "    <tr>\n",
              "      <th>77610</th>\n",
              "      <td>V Sehwag</td>\n",
              "      <td>70</td>\n",
              "      <td>70</td>\n",
              "      <td>85</td>\n",
              "      <td>1.0</td>\n",
              "      <td>0</td>\n",
              "      <td>52</td>\n",
              "      <td>9</td>\n",
              "      <td>2</td>\n",
              "      <td>134.61</td>\n",
              "      <td>1</td>\n",
              "      <td>v Bangladesh</td>\n",
              "      <td>Dhaka</td>\n",
              "      <td>2004-12-27</td>\n",
              "      <td>India</td>\n",
              "      <td>1.0</td>\n",
              "      <td>0.0</td>\n",
              "      <td>50-99</td>\n",
              "      <td>NaN</td>\n",
              "      <td>NaN</td>\n",
              "      <td>NaN</td>\n",
              "      <td>NaN</td>\n",
              "      <td>NaN</td>\n",
              "      <td>NaN</td>\n",
              "      <td>NaN</td>\n",
              "      <td>NaN</td>\n",
              "      <td>NaN</td>\n",
              "      <td>NaN</td>\n",
              "      <td>2004</td>\n",
              "    </tr>\n",
              "    <tr>\n",
              "      <th>77611</th>\n",
              "      <td>Yuvraj Singh</td>\n",
              "      <td>69</td>\n",
              "      <td>69</td>\n",
              "      <td>34</td>\n",
              "      <td>1.0</td>\n",
              "      <td>0</td>\n",
              "      <td>32</td>\n",
              "      <td>8</td>\n",
              "      <td>3</td>\n",
              "      <td>215.62</td>\n",
              "      <td>1</td>\n",
              "      <td>v Bangladesh</td>\n",
              "      <td>Dhaka</td>\n",
              "      <td>2004-12-27</td>\n",
              "      <td>India</td>\n",
              "      <td>1.0</td>\n",
              "      <td>0.0</td>\n",
              "      <td>50-99</td>\n",
              "      <td>NaN</td>\n",
              "      <td>NaN</td>\n",
              "      <td>NaN</td>\n",
              "      <td>NaN</td>\n",
              "      <td>NaN</td>\n",
              "      <td>NaN</td>\n",
              "      <td>NaN</td>\n",
              "      <td>NaN</td>\n",
              "      <td>NaN</td>\n",
              "      <td>NaN</td>\n",
              "      <td>2004</td>\n",
              "    </tr>\n",
              "  </tbody>\n",
              "</table>\n",
              "</div>"
            ],
            "text/plain": [
              "      Innings Player Innings Runs Scored  Innings Runs Scored Num Innings Minutes Batted  Innings Batted Flag  Innings Not Out Flag  Innings Balls Faced Innings Boundary Fours Innings Boundary Sixes Innings Batting Strike Rate Innings Number    Opposition Ground Innings Date Country  50's  100's Innings Runs Scored Buckets Innings Overs Bowled  Innings Bowled Flag Innings Maidens Bowled Innings Runs Conceded Innings Wickets Taken  4 Wickets  5 Wickets  10 Wickets Innings Wickets Taken Buckets Innings Economy Rate  year\n",
              "77610  V Sehwag       70                  70                       85                     1.0                  0                     52                   9                      2                      134.61                      1              v Bangladesh  Dhaka 2004-12-27    India   1.0   0.0    50-99                       NaN                 NaN                   NaN                    NaN                   NaN                  NaN        NaN        NaN          NaN                           NaN                  2004\n",
              "77611  Yuvraj Singh   69                  69                       34                     1.0                  0                     32                   8                      3                      215.62                      1              v Bangladesh  Dhaka 2004-12-27    India   1.0   0.0    50-99                       NaN                 NaN                   NaN                    NaN                   NaN                  NaN        NaN        NaN          NaN                           NaN                  2004"
            ]
          },
          "metadata": {},
          "execution_count": 21
        }
      ]
    },
    {
      "cell_type": "code",
      "metadata": {
        "id": "P5bUH71EtQiX",
        "colab": {
          "base_uri": "https://localhost:8080/",
          "height": 216
        },
        "outputId": "6e7a6afc-fa76-41c9-cc25-747be3e12f4e"
      },
      "source": [
        "virat_df.head(2)"
      ],
      "execution_count": 22,
      "outputs": [
        {
          "output_type": "execute_result",
          "data": {
            "text/html": [
              "<div>\n",
              "<style scoped>\n",
              "    .dataframe tbody tr th:only-of-type {\n",
              "        vertical-align: middle;\n",
              "    }\n",
              "\n",
              "    .dataframe tbody tr th {\n",
              "        vertical-align: top;\n",
              "    }\n",
              "\n",
              "    .dataframe thead th {\n",
              "        text-align: right;\n",
              "    }\n",
              "</style>\n",
              "<table border=\"1\" class=\"dataframe\">\n",
              "  <thead>\n",
              "    <tr style=\"text-align: right;\">\n",
              "      <th></th>\n",
              "      <th>Innings Player</th>\n",
              "      <th>Innings Runs Scored</th>\n",
              "      <th>Innings Runs Scored Num</th>\n",
              "      <th>Innings Minutes Batted</th>\n",
              "      <th>Innings Batted Flag</th>\n",
              "      <th>Innings Not Out Flag</th>\n",
              "      <th>Innings Balls Faced</th>\n",
              "      <th>Innings Boundary Fours</th>\n",
              "      <th>Innings Boundary Sixes</th>\n",
              "      <th>Innings Batting Strike Rate</th>\n",
              "      <th>Innings Number</th>\n",
              "      <th>Opposition</th>\n",
              "      <th>Ground</th>\n",
              "      <th>Innings Date</th>\n",
              "      <th>Country</th>\n",
              "      <th>50's</th>\n",
              "      <th>100's</th>\n",
              "      <th>Innings Runs Scored Buckets</th>\n",
              "      <th>Innings Overs Bowled</th>\n",
              "      <th>Innings Bowled Flag</th>\n",
              "      <th>Innings Maidens Bowled</th>\n",
              "      <th>Innings Runs Conceded</th>\n",
              "      <th>Innings Wickets Taken</th>\n",
              "      <th>4 Wickets</th>\n",
              "      <th>5 Wickets</th>\n",
              "      <th>10 Wickets</th>\n",
              "      <th>Innings Wickets Taken Buckets</th>\n",
              "      <th>Innings Economy Rate</th>\n",
              "      <th>year</th>\n",
              "    </tr>\n",
              "  </thead>\n",
              "  <tbody>\n",
              "    <tr>\n",
              "      <th>0</th>\n",
              "      <td>E Lewis</td>\n",
              "      <td>65</td>\n",
              "      <td>65</td>\n",
              "      <td>128</td>\n",
              "      <td>1.0</td>\n",
              "      <td>0</td>\n",
              "      <td>80</td>\n",
              "      <td>8</td>\n",
              "      <td>1</td>\n",
              "      <td>81.25</td>\n",
              "      <td>2</td>\n",
              "      <td>v India</td>\n",
              "      <td>Port of Spain</td>\n",
              "      <td>2019-11-08</td>\n",
              "      <td>West Indies</td>\n",
              "      <td>1.0</td>\n",
              "      <td>0.0</td>\n",
              "      <td>50-99</td>\n",
              "      <td>NaN</td>\n",
              "      <td>NaN</td>\n",
              "      <td>NaN</td>\n",
              "      <td>NaN</td>\n",
              "      <td>NaN</td>\n",
              "      <td>NaN</td>\n",
              "      <td>NaN</td>\n",
              "      <td>NaN</td>\n",
              "      <td>NaN</td>\n",
              "      <td>NaN</td>\n",
              "      <td>2019</td>\n",
              "    </tr>\n",
              "    <tr>\n",
              "      <th>1</th>\n",
              "      <td>N Pooran</td>\n",
              "      <td>42</td>\n",
              "      <td>42</td>\n",
              "      <td>69</td>\n",
              "      <td>1.0</td>\n",
              "      <td>0</td>\n",
              "      <td>52</td>\n",
              "      <td>4</td>\n",
              "      <td>1</td>\n",
              "      <td>80.76</td>\n",
              "      <td>2</td>\n",
              "      <td>v India</td>\n",
              "      <td>Port of Spain</td>\n",
              "      <td>2019-11-08</td>\n",
              "      <td>West Indies</td>\n",
              "      <td>0.0</td>\n",
              "      <td>0.0</td>\n",
              "      <td>0-49</td>\n",
              "      <td>NaN</td>\n",
              "      <td>NaN</td>\n",
              "      <td>NaN</td>\n",
              "      <td>NaN</td>\n",
              "      <td>NaN</td>\n",
              "      <td>NaN</td>\n",
              "      <td>NaN</td>\n",
              "      <td>NaN</td>\n",
              "      <td>NaN</td>\n",
              "      <td>NaN</td>\n",
              "      <td>2019</td>\n",
              "    </tr>\n",
              "  </tbody>\n",
              "</table>\n",
              "</div>"
            ],
            "text/plain": [
              "  Innings Player Innings Runs Scored  Innings Runs Scored Num Innings Minutes Batted  Innings Batted Flag  Innings Not Out Flag  Innings Balls Faced Innings Boundary Fours Innings Boundary Sixes Innings Batting Strike Rate Innings Number Opposition         Ground Innings Date      Country  50's  100's Innings Runs Scored Buckets Innings Overs Bowled  Innings Bowled Flag Innings Maidens Bowled Innings Runs Conceded Innings Wickets Taken  4 Wickets  5 Wickets  10 Wickets Innings Wickets Taken Buckets Innings Economy Rate  year\n",
              "0  E Lewis        65                  65                       128                    1.0                  0                     80                   8                      1                      81.25                       2              v India    Port of Spain 2019-11-08    West Indies  1.0   0.0    50-99                       NaN                 NaN                   NaN                    NaN                   NaN                  NaN        NaN        NaN          NaN                           NaN                  2019\n",
              "1  N Pooran       42                  42                       69                     1.0                  0                     52                   4                      1                      80.76                       2              v India    Port of Spain 2019-11-08    West Indies  0.0   0.0    0-49                        NaN                 NaN                   NaN                    NaN                   NaN                  NaN        NaN        NaN          NaN                           NaN                  2019"
            ]
          },
          "metadata": {},
          "execution_count": 22
        }
      ]
    },
    {
      "cell_type": "code",
      "metadata": {
        "id": "HmFwpZdVtaRX"
      },
      "source": [
        ""
      ],
      "execution_count": 22,
      "outputs": []
    },
    {
      "cell_type": "code",
      "metadata": {
        "id": "8Yw_XeUL0LMp"
      },
      "source": [
        "# Runs per innings = Total Runs / Total innings\n",
        "# Strikerate = 100* (Total Runs / Total balls)\n",
        "# 100's = sum(100's)\n",
        "# 50's = sum(50's)\n",
        "# Team contribution = Players Runs / Team Runs"
      ],
      "execution_count": 23,
      "outputs": []
    },
    {
      "cell_type": "code",
      "metadata": {
        "id": "yZx1bKq_9iM0",
        "colab": {
          "base_uri": "https://localhost:8080/"
        },
        "outputId": "8916b0cb-ffa8-48a3-942d-8d39c7f86c2c"
      },
      "source": [
        "# Get type of each column\n",
        "df.dtypes"
      ],
      "execution_count": 24,
      "outputs": [
        {
          "output_type": "execute_result",
          "data": {
            "text/plain": [
              "Innings Player                   object        \n",
              "Innings Runs Scored              object        \n",
              "Innings Runs Scored Num          int64         \n",
              "Innings Minutes Batted           object        \n",
              "Innings Batted Flag              float64       \n",
              "Innings Not Out Flag             int64         \n",
              "Innings Balls Faced              int64         \n",
              "Innings Boundary Fours           object        \n",
              "Innings Boundary Sixes           object        \n",
              "Innings Batting Strike Rate      object        \n",
              "Innings Number                   object        \n",
              "Opposition                       object        \n",
              "Ground                           object        \n",
              "Innings Date                     datetime64[ns]\n",
              "Country                          object        \n",
              "50's                             float64       \n",
              "100's                            float64       \n",
              "Innings Runs Scored Buckets      object        \n",
              "Innings Overs Bowled             object        \n",
              "Innings Bowled Flag              float64       \n",
              "Innings Maidens Bowled           object        \n",
              "Innings Runs Conceded            object        \n",
              "Innings Wickets Taken            object        \n",
              "4 Wickets                        float64       \n",
              "5 Wickets                        float64       \n",
              "10 Wickets                       float64       \n",
              "Innings Wickets Taken Buckets    object        \n",
              "Innings Economy Rate             object        \n",
              "year                             int64         \n",
              "dtype: object"
            ]
          },
          "metadata": {},
          "execution_count": 24
        }
      ]
    },
    {
      "cell_type": "code",
      "metadata": {
        "id": "3DKAnFzvgdCh"
      },
      "source": [
        "# convert into csv\n",
        "sachin_df.to_csv('sachin_data.csv')"
      ],
      "execution_count": 25,
      "outputs": []
    },
    {
      "cell_type": "code",
      "metadata": {
        "colab": {
          "base_uri": "https://localhost:8080/",
          "height": 1000
        },
        "id": "nA5E4Mm6hoR1",
        "outputId": "fc6d39fc-57ab-4d2e-dcad-376bdccc46fc"
      },
      "source": [
        "# What is the total runs scored by Sachin in the frame\n",
        "sachin_df.head(20)"
      ],
      "execution_count": 26,
      "outputs": [
        {
          "output_type": "execute_result",
          "data": {
            "text/html": [
              "<div>\n",
              "<style scoped>\n",
              "    .dataframe tbody tr th:only-of-type {\n",
              "        vertical-align: middle;\n",
              "    }\n",
              "\n",
              "    .dataframe tbody tr th {\n",
              "        vertical-align: top;\n",
              "    }\n",
              "\n",
              "    .dataframe thead th {\n",
              "        text-align: right;\n",
              "    }\n",
              "</style>\n",
              "<table border=\"1\" class=\"dataframe\">\n",
              "  <thead>\n",
              "    <tr style=\"text-align: right;\">\n",
              "      <th></th>\n",
              "      <th>Innings Player</th>\n",
              "      <th>Innings Runs Scored</th>\n",
              "      <th>Innings Runs Scored Num</th>\n",
              "      <th>Innings Minutes Batted</th>\n",
              "      <th>Innings Batted Flag</th>\n",
              "      <th>Innings Not Out Flag</th>\n",
              "      <th>Innings Balls Faced</th>\n",
              "      <th>Innings Boundary Fours</th>\n",
              "      <th>Innings Boundary Sixes</th>\n",
              "      <th>Innings Batting Strike Rate</th>\n",
              "      <th>Innings Number</th>\n",
              "      <th>Opposition</th>\n",
              "      <th>Ground</th>\n",
              "      <th>Innings Date</th>\n",
              "      <th>Country</th>\n",
              "      <th>50's</th>\n",
              "      <th>100's</th>\n",
              "      <th>Innings Runs Scored Buckets</th>\n",
              "      <th>Innings Overs Bowled</th>\n",
              "      <th>Innings Bowled Flag</th>\n",
              "      <th>Innings Maidens Bowled</th>\n",
              "      <th>Innings Runs Conceded</th>\n",
              "      <th>Innings Wickets Taken</th>\n",
              "      <th>4 Wickets</th>\n",
              "      <th>5 Wickets</th>\n",
              "      <th>10 Wickets</th>\n",
              "      <th>Innings Wickets Taken Buckets</th>\n",
              "      <th>Innings Economy Rate</th>\n",
              "      <th>year</th>\n",
              "    </tr>\n",
              "  </thead>\n",
              "  <tbody>\n",
              "    <tr>\n",
              "      <th>77610</th>\n",
              "      <td>V Sehwag</td>\n",
              "      <td>70</td>\n",
              "      <td>70</td>\n",
              "      <td>85</td>\n",
              "      <td>1.0</td>\n",
              "      <td>0</td>\n",
              "      <td>52</td>\n",
              "      <td>9</td>\n",
              "      <td>2</td>\n",
              "      <td>134.61</td>\n",
              "      <td>1</td>\n",
              "      <td>v Bangladesh</td>\n",
              "      <td>Dhaka</td>\n",
              "      <td>2004-12-27</td>\n",
              "      <td>India</td>\n",
              "      <td>1.0</td>\n",
              "      <td>0.0</td>\n",
              "      <td>50-99</td>\n",
              "      <td>NaN</td>\n",
              "      <td>NaN</td>\n",
              "      <td>NaN</td>\n",
              "      <td>NaN</td>\n",
              "      <td>NaN</td>\n",
              "      <td>NaN</td>\n",
              "      <td>NaN</td>\n",
              "      <td>NaN</td>\n",
              "      <td>NaN</td>\n",
              "      <td>NaN</td>\n",
              "      <td>2004</td>\n",
              "    </tr>\n",
              "    <tr>\n",
              "      <th>77611</th>\n",
              "      <td>Yuvraj Singh</td>\n",
              "      <td>69</td>\n",
              "      <td>69</td>\n",
              "      <td>34</td>\n",
              "      <td>1.0</td>\n",
              "      <td>0</td>\n",
              "      <td>32</td>\n",
              "      <td>8</td>\n",
              "      <td>3</td>\n",
              "      <td>215.62</td>\n",
              "      <td>1</td>\n",
              "      <td>v Bangladesh</td>\n",
              "      <td>Dhaka</td>\n",
              "      <td>2004-12-27</td>\n",
              "      <td>India</td>\n",
              "      <td>1.0</td>\n",
              "      <td>0.0</td>\n",
              "      <td>50-99</td>\n",
              "      <td>NaN</td>\n",
              "      <td>NaN</td>\n",
              "      <td>NaN</td>\n",
              "      <td>NaN</td>\n",
              "      <td>NaN</td>\n",
              "      <td>NaN</td>\n",
              "      <td>NaN</td>\n",
              "      <td>NaN</td>\n",
              "      <td>NaN</td>\n",
              "      <td>NaN</td>\n",
              "      <td>2004</td>\n",
              "    </tr>\n",
              "    <tr>\n",
              "      <th>77612</th>\n",
              "      <td>R Dravid</td>\n",
              "      <td>60</td>\n",
              "      <td>60</td>\n",
              "      <td>87</td>\n",
              "      <td>1.0</td>\n",
              "      <td>0</td>\n",
              "      <td>68</td>\n",
              "      <td>5</td>\n",
              "      <td>0</td>\n",
              "      <td>88.23</td>\n",
              "      <td>1</td>\n",
              "      <td>v Bangladesh</td>\n",
              "      <td>Dhaka</td>\n",
              "      <td>2004-12-27</td>\n",
              "      <td>India</td>\n",
              "      <td>1.0</td>\n",
              "      <td>0.0</td>\n",
              "      <td>50-99</td>\n",
              "      <td>NaN</td>\n",
              "      <td>NaN</td>\n",
              "      <td>NaN</td>\n",
              "      <td>NaN</td>\n",
              "      <td>NaN</td>\n",
              "      <td>NaN</td>\n",
              "      <td>NaN</td>\n",
              "      <td>NaN</td>\n",
              "      <td>NaN</td>\n",
              "      <td>NaN</td>\n",
              "      <td>2004</td>\n",
              "    </tr>\n",
              "    <tr>\n",
              "      <th>77613</th>\n",
              "      <td>SC Ganguly</td>\n",
              "      <td>55</td>\n",
              "      <td>55</td>\n",
              "      <td>98</td>\n",
              "      <td>1.0</td>\n",
              "      <td>0</td>\n",
              "      <td>80</td>\n",
              "      <td>2</td>\n",
              "      <td>2</td>\n",
              "      <td>68.75</td>\n",
              "      <td>1</td>\n",
              "      <td>v Bangladesh</td>\n",
              "      <td>Dhaka</td>\n",
              "      <td>2004-12-27</td>\n",
              "      <td>India</td>\n",
              "      <td>1.0</td>\n",
              "      <td>0.0</td>\n",
              "      <td>50-99</td>\n",
              "      <td>NaN</td>\n",
              "      <td>NaN</td>\n",
              "      <td>NaN</td>\n",
              "      <td>NaN</td>\n",
              "      <td>NaN</td>\n",
              "      <td>NaN</td>\n",
              "      <td>NaN</td>\n",
              "      <td>NaN</td>\n",
              "      <td>NaN</td>\n",
              "      <td>NaN</td>\n",
              "      <td>2004</td>\n",
              "    </tr>\n",
              "    <tr>\n",
              "      <th>77614</th>\n",
              "      <td>SR Tendulkar</td>\n",
              "      <td>47</td>\n",
              "      <td>47</td>\n",
              "      <td>60</td>\n",
              "      <td>1.0</td>\n",
              "      <td>0</td>\n",
              "      <td>42</td>\n",
              "      <td>9</td>\n",
              "      <td>0</td>\n",
              "      <td>111.9</td>\n",
              "      <td>1</td>\n",
              "      <td>v Bangladesh</td>\n",
              "      <td>Dhaka</td>\n",
              "      <td>2004-12-27</td>\n",
              "      <td>India</td>\n",
              "      <td>0.0</td>\n",
              "      <td>0.0</td>\n",
              "      <td>0-49</td>\n",
              "      <td>NaN</td>\n",
              "      <td>NaN</td>\n",
              "      <td>NaN</td>\n",
              "      <td>NaN</td>\n",
              "      <td>NaN</td>\n",
              "      <td>NaN</td>\n",
              "      <td>NaN</td>\n",
              "      <td>NaN</td>\n",
              "      <td>NaN</td>\n",
              "      <td>NaN</td>\n",
              "      <td>2004</td>\n",
              "    </tr>\n",
              "    <tr>\n",
              "      <th>77615</th>\n",
              "      <td>M Kaif</td>\n",
              "      <td>29*</td>\n",
              "      <td>29</td>\n",
              "      <td>52</td>\n",
              "      <td>1.0</td>\n",
              "      <td>1</td>\n",
              "      <td>24</td>\n",
              "      <td>2</td>\n",
              "      <td>0</td>\n",
              "      <td>120.83</td>\n",
              "      <td>1</td>\n",
              "      <td>v Bangladesh</td>\n",
              "      <td>Dhaka</td>\n",
              "      <td>2004-12-27</td>\n",
              "      <td>India</td>\n",
              "      <td>0.0</td>\n",
              "      <td>0.0</td>\n",
              "      <td>0-49</td>\n",
              "      <td>NaN</td>\n",
              "      <td>NaN</td>\n",
              "      <td>NaN</td>\n",
              "      <td>NaN</td>\n",
              "      <td>NaN</td>\n",
              "      <td>NaN</td>\n",
              "      <td>NaN</td>\n",
              "      <td>NaN</td>\n",
              "      <td>NaN</td>\n",
              "      <td>NaN</td>\n",
              "      <td>2004</td>\n",
              "    </tr>\n",
              "    <tr>\n",
              "      <th>77616</th>\n",
              "      <td>MS Dhoni</td>\n",
              "      <td>7*</td>\n",
              "      <td>7</td>\n",
              "      <td>2</td>\n",
              "      <td>1.0</td>\n",
              "      <td>1</td>\n",
              "      <td>2</td>\n",
              "      <td>0</td>\n",
              "      <td>1</td>\n",
              "      <td>350</td>\n",
              "      <td>1</td>\n",
              "      <td>v Bangladesh</td>\n",
              "      <td>Dhaka</td>\n",
              "      <td>2004-12-27</td>\n",
              "      <td>India</td>\n",
              "      <td>0.0</td>\n",
              "      <td>0.0</td>\n",
              "      <td>0-49</td>\n",
              "      <td>NaN</td>\n",
              "      <td>NaN</td>\n",
              "      <td>NaN</td>\n",
              "      <td>NaN</td>\n",
              "      <td>NaN</td>\n",
              "      <td>NaN</td>\n",
              "      <td>NaN</td>\n",
              "      <td>NaN</td>\n",
              "      <td>NaN</td>\n",
              "      <td>NaN</td>\n",
              "      <td>2004</td>\n",
              "    </tr>\n",
              "    <tr>\n",
              "      <th>77621</th>\n",
              "      <td>Rajin Saleh</td>\n",
              "      <td>82</td>\n",
              "      <td>82</td>\n",
              "      <td>149</td>\n",
              "      <td>1.0</td>\n",
              "      <td>0</td>\n",
              "      <td>114</td>\n",
              "      <td>8</td>\n",
              "      <td>1</td>\n",
              "      <td>71.92</td>\n",
              "      <td>2</td>\n",
              "      <td>v India</td>\n",
              "      <td>Dhaka</td>\n",
              "      <td>2004-12-27</td>\n",
              "      <td>Bangladesh</td>\n",
              "      <td>1.0</td>\n",
              "      <td>0.0</td>\n",
              "      <td>50-99</td>\n",
              "      <td>NaN</td>\n",
              "      <td>NaN</td>\n",
              "      <td>NaN</td>\n",
              "      <td>NaN</td>\n",
              "      <td>NaN</td>\n",
              "      <td>NaN</td>\n",
              "      <td>NaN</td>\n",
              "      <td>NaN</td>\n",
              "      <td>NaN</td>\n",
              "      <td>NaN</td>\n",
              "      <td>2004</td>\n",
              "    </tr>\n",
              "    <tr>\n",
              "      <th>77622</th>\n",
              "      <td>Mashrafe Mortaza</td>\n",
              "      <td>39</td>\n",
              "      <td>39</td>\n",
              "      <td>12</td>\n",
              "      <td>1.0</td>\n",
              "      <td>0</td>\n",
              "      <td>20</td>\n",
              "      <td>3</td>\n",
              "      <td>3</td>\n",
              "      <td>195</td>\n",
              "      <td>2</td>\n",
              "      <td>v India</td>\n",
              "      <td>Dhaka</td>\n",
              "      <td>2004-12-27</td>\n",
              "      <td>Bangladesh</td>\n",
              "      <td>0.0</td>\n",
              "      <td>0.0</td>\n",
              "      <td>0-49</td>\n",
              "      <td>NaN</td>\n",
              "      <td>NaN</td>\n",
              "      <td>NaN</td>\n",
              "      <td>NaN</td>\n",
              "      <td>NaN</td>\n",
              "      <td>NaN</td>\n",
              "      <td>NaN</td>\n",
              "      <td>NaN</td>\n",
              "      <td>NaN</td>\n",
              "      <td>NaN</td>\n",
              "      <td>2004</td>\n",
              "    </tr>\n",
              "    <tr>\n",
              "      <th>77623</th>\n",
              "      <td>Mohammad Ashraful</td>\n",
              "      <td>32</td>\n",
              "      <td>32</td>\n",
              "      <td>52</td>\n",
              "      <td>1.0</td>\n",
              "      <td>0</td>\n",
              "      <td>34</td>\n",
              "      <td>4</td>\n",
              "      <td>0</td>\n",
              "      <td>94.11</td>\n",
              "      <td>2</td>\n",
              "      <td>v India</td>\n",
              "      <td>Dhaka</td>\n",
              "      <td>2004-12-27</td>\n",
              "      <td>Bangladesh</td>\n",
              "      <td>0.0</td>\n",
              "      <td>0.0</td>\n",
              "      <td>0-49</td>\n",
              "      <td>NaN</td>\n",
              "      <td>NaN</td>\n",
              "      <td>NaN</td>\n",
              "      <td>NaN</td>\n",
              "      <td>NaN</td>\n",
              "      <td>NaN</td>\n",
              "      <td>NaN</td>\n",
              "      <td>NaN</td>\n",
              "      <td>NaN</td>\n",
              "      <td>NaN</td>\n",
              "      <td>2004</td>\n",
              "    </tr>\n",
              "    <tr>\n",
              "      <th>77624</th>\n",
              "      <td>Mushfiqur Rahman</td>\n",
              "      <td>27*</td>\n",
              "      <td>27</td>\n",
              "      <td>42</td>\n",
              "      <td>1.0</td>\n",
              "      <td>1</td>\n",
              "      <td>44</td>\n",
              "      <td>3</td>\n",
              "      <td>0</td>\n",
              "      <td>61.36</td>\n",
              "      <td>2</td>\n",
              "      <td>v India</td>\n",
              "      <td>Dhaka</td>\n",
              "      <td>2004-12-27</td>\n",
              "      <td>Bangladesh</td>\n",
              "      <td>0.0</td>\n",
              "      <td>0.0</td>\n",
              "      <td>0-49</td>\n",
              "      <td>NaN</td>\n",
              "      <td>NaN</td>\n",
              "      <td>NaN</td>\n",
              "      <td>NaN</td>\n",
              "      <td>NaN</td>\n",
              "      <td>NaN</td>\n",
              "      <td>NaN</td>\n",
              "      <td>NaN</td>\n",
              "      <td>NaN</td>\n",
              "      <td>NaN</td>\n",
              "      <td>2004</td>\n",
              "    </tr>\n",
              "    <tr>\n",
              "      <th>77625</th>\n",
              "      <td>Khaled Mahmud</td>\n",
              "      <td>14</td>\n",
              "      <td>14</td>\n",
              "      <td>32</td>\n",
              "      <td>1.0</td>\n",
              "      <td>0</td>\n",
              "      <td>31</td>\n",
              "      <td>0</td>\n",
              "      <td>0</td>\n",
              "      <td>45.16</td>\n",
              "      <td>2</td>\n",
              "      <td>v India</td>\n",
              "      <td>Dhaka</td>\n",
              "      <td>2004-12-27</td>\n",
              "      <td>Bangladesh</td>\n",
              "      <td>0.0</td>\n",
              "      <td>0.0</td>\n",
              "      <td>0-49</td>\n",
              "      <td>NaN</td>\n",
              "      <td>NaN</td>\n",
              "      <td>NaN</td>\n",
              "      <td>NaN</td>\n",
              "      <td>NaN</td>\n",
              "      <td>NaN</td>\n",
              "      <td>NaN</td>\n",
              "      <td>NaN</td>\n",
              "      <td>NaN</td>\n",
              "      <td>NaN</td>\n",
              "      <td>2004</td>\n",
              "    </tr>\n",
              "    <tr>\n",
              "      <th>77626</th>\n",
              "      <td>Nafees Iqbal</td>\n",
              "      <td>10</td>\n",
              "      <td>10</td>\n",
              "      <td>33</td>\n",
              "      <td>1.0</td>\n",
              "      <td>0</td>\n",
              "      <td>20</td>\n",
              "      <td>2</td>\n",
              "      <td>0</td>\n",
              "      <td>50</td>\n",
              "      <td>2</td>\n",
              "      <td>v India</td>\n",
              "      <td>Dhaka</td>\n",
              "      <td>2004-12-27</td>\n",
              "      <td>Bangladesh</td>\n",
              "      <td>0.0</td>\n",
              "      <td>0.0</td>\n",
              "      <td>0-49</td>\n",
              "      <td>NaN</td>\n",
              "      <td>NaN</td>\n",
              "      <td>NaN</td>\n",
              "      <td>NaN</td>\n",
              "      <td>NaN</td>\n",
              "      <td>NaN</td>\n",
              "      <td>NaN</td>\n",
              "      <td>NaN</td>\n",
              "      <td>NaN</td>\n",
              "      <td>NaN</td>\n",
              "      <td>2004</td>\n",
              "    </tr>\n",
              "    <tr>\n",
              "      <th>77627</th>\n",
              "      <td>Khaled Mashud</td>\n",
              "      <td>10</td>\n",
              "      <td>10</td>\n",
              "      <td>25</td>\n",
              "      <td>1.0</td>\n",
              "      <td>0</td>\n",
              "      <td>16</td>\n",
              "      <td>0</td>\n",
              "      <td>0</td>\n",
              "      <td>62.5</td>\n",
              "      <td>2</td>\n",
              "      <td>v India</td>\n",
              "      <td>Dhaka</td>\n",
              "      <td>2004-12-27</td>\n",
              "      <td>Bangladesh</td>\n",
              "      <td>0.0</td>\n",
              "      <td>0.0</td>\n",
              "      <td>0-49</td>\n",
              "      <td>NaN</td>\n",
              "      <td>NaN</td>\n",
              "      <td>NaN</td>\n",
              "      <td>NaN</td>\n",
              "      <td>NaN</td>\n",
              "      <td>NaN</td>\n",
              "      <td>NaN</td>\n",
              "      <td>NaN</td>\n",
              "      <td>NaN</td>\n",
              "      <td>NaN</td>\n",
              "      <td>2004</td>\n",
              "    </tr>\n",
              "    <tr>\n",
              "      <th>77628</th>\n",
              "      <td>Aftab Ahmed</td>\n",
              "      <td>9</td>\n",
              "      <td>9</td>\n",
              "      <td>24</td>\n",
              "      <td>1.0</td>\n",
              "      <td>0</td>\n",
              "      <td>13</td>\n",
              "      <td>1</td>\n",
              "      <td>0</td>\n",
              "      <td>69.23</td>\n",
              "      <td>2</td>\n",
              "      <td>v India</td>\n",
              "      <td>Dhaka</td>\n",
              "      <td>2004-12-27</td>\n",
              "      <td>Bangladesh</td>\n",
              "      <td>0.0</td>\n",
              "      <td>0.0</td>\n",
              "      <td>0-49</td>\n",
              "      <td>NaN</td>\n",
              "      <td>NaN</td>\n",
              "      <td>NaN</td>\n",
              "      <td>NaN</td>\n",
              "      <td>NaN</td>\n",
              "      <td>NaN</td>\n",
              "      <td>NaN</td>\n",
              "      <td>NaN</td>\n",
              "      <td>NaN</td>\n",
              "      <td>NaN</td>\n",
              "      <td>2004</td>\n",
              "    </tr>\n",
              "    <tr>\n",
              "      <th>77629</th>\n",
              "      <td>Habibul Bashar</td>\n",
              "      <td>2</td>\n",
              "      <td>2</td>\n",
              "      <td>13</td>\n",
              "      <td>1.0</td>\n",
              "      <td>0</td>\n",
              "      <td>7</td>\n",
              "      <td>0</td>\n",
              "      <td>0</td>\n",
              "      <td>28.57</td>\n",
              "      <td>2</td>\n",
              "      <td>v India</td>\n",
              "      <td>Dhaka</td>\n",
              "      <td>2004-12-27</td>\n",
              "      <td>Bangladesh</td>\n",
              "      <td>0.0</td>\n",
              "      <td>0.0</td>\n",
              "      <td>0-49</td>\n",
              "      <td>NaN</td>\n",
              "      <td>NaN</td>\n",
              "      <td>NaN</td>\n",
              "      <td>NaN</td>\n",
              "      <td>NaN</td>\n",
              "      <td>NaN</td>\n",
              "      <td>NaN</td>\n",
              "      <td>NaN</td>\n",
              "      <td>NaN</td>\n",
              "      <td>NaN</td>\n",
              "      <td>2004</td>\n",
              "    </tr>\n",
              "    <tr>\n",
              "      <th>77630</th>\n",
              "      <td>Hasibul Hossain</td>\n",
              "      <td>1*</td>\n",
              "      <td>1</td>\n",
              "      <td>2</td>\n",
              "      <td>1.0</td>\n",
              "      <td>1</td>\n",
              "      <td>1</td>\n",
              "      <td>0</td>\n",
              "      <td>0</td>\n",
              "      <td>100</td>\n",
              "      <td>2</td>\n",
              "      <td>v India</td>\n",
              "      <td>Dhaka</td>\n",
              "      <td>2004-12-27</td>\n",
              "      <td>Bangladesh</td>\n",
              "      <td>0.0</td>\n",
              "      <td>0.0</td>\n",
              "      <td>0-49</td>\n",
              "      <td>NaN</td>\n",
              "      <td>NaN</td>\n",
              "      <td>NaN</td>\n",
              "      <td>NaN</td>\n",
              "      <td>NaN</td>\n",
              "      <td>NaN</td>\n",
              "      <td>NaN</td>\n",
              "      <td>NaN</td>\n",
              "      <td>NaN</td>\n",
              "      <td>NaN</td>\n",
              "      <td>2004</td>\n",
              "    </tr>\n",
              "    <tr>\n",
              "      <th>77631</th>\n",
              "      <td>Mohammad Rafique</td>\n",
              "      <td>0</td>\n",
              "      <td>0</td>\n",
              "      <td>3</td>\n",
              "      <td>1.0</td>\n",
              "      <td>0</td>\n",
              "      <td>4</td>\n",
              "      <td>0</td>\n",
              "      <td>0</td>\n",
              "      <td>0</td>\n",
              "      <td>2</td>\n",
              "      <td>v India</td>\n",
              "      <td>Dhaka</td>\n",
              "      <td>2004-12-27</td>\n",
              "      <td>Bangladesh</td>\n",
              "      <td>0.0</td>\n",
              "      <td>0.0</td>\n",
              "      <td>0-49</td>\n",
              "      <td>NaN</td>\n",
              "      <td>NaN</td>\n",
              "      <td>NaN</td>\n",
              "      <td>NaN</td>\n",
              "      <td>NaN</td>\n",
              "      <td>NaN</td>\n",
              "      <td>NaN</td>\n",
              "      <td>NaN</td>\n",
              "      <td>NaN</td>\n",
              "      <td>NaN</td>\n",
              "      <td>2004</td>\n",
              "    </tr>\n",
              "    <tr>\n",
              "      <th>77654</th>\n",
              "      <td>SP Fleming</td>\n",
              "      <td>77*</td>\n",
              "      <td>77</td>\n",
              "      <td>136</td>\n",
              "      <td>1.0</td>\n",
              "      <td>1</td>\n",
              "      <td>92</td>\n",
              "      <td>8</td>\n",
              "      <td>2</td>\n",
              "      <td>83.69</td>\n",
              "      <td>2</td>\n",
              "      <td>v Sri Lanka</td>\n",
              "      <td>Auckland</td>\n",
              "      <td>2004-12-26</td>\n",
              "      <td>New Zealand</td>\n",
              "      <td>1.0</td>\n",
              "      <td>0.0</td>\n",
              "      <td>50-99</td>\n",
              "      <td>NaN</td>\n",
              "      <td>NaN</td>\n",
              "      <td>NaN</td>\n",
              "      <td>NaN</td>\n",
              "      <td>NaN</td>\n",
              "      <td>NaN</td>\n",
              "      <td>NaN</td>\n",
              "      <td>NaN</td>\n",
              "      <td>NaN</td>\n",
              "      <td>NaN</td>\n",
              "      <td>2004</td>\n",
              "    </tr>\n",
              "    <tr>\n",
              "      <th>77655</th>\n",
              "      <td>MS Sinclair</td>\n",
              "      <td>31</td>\n",
              "      <td>31</td>\n",
              "      <td>65</td>\n",
              "      <td>1.0</td>\n",
              "      <td>0</td>\n",
              "      <td>53</td>\n",
              "      <td>4</td>\n",
              "      <td>0</td>\n",
              "      <td>58.49</td>\n",
              "      <td>2</td>\n",
              "      <td>v Sri Lanka</td>\n",
              "      <td>Auckland</td>\n",
              "      <td>2004-12-26</td>\n",
              "      <td>New Zealand</td>\n",
              "      <td>0.0</td>\n",
              "      <td>0.0</td>\n",
              "      <td>0-49</td>\n",
              "      <td>NaN</td>\n",
              "      <td>NaN</td>\n",
              "      <td>NaN</td>\n",
              "      <td>NaN</td>\n",
              "      <td>NaN</td>\n",
              "      <td>NaN</td>\n",
              "      <td>NaN</td>\n",
              "      <td>NaN</td>\n",
              "      <td>NaN</td>\n",
              "      <td>NaN</td>\n",
              "      <td>2004</td>\n",
              "    </tr>\n",
              "  </tbody>\n",
              "</table>\n",
              "</div>"
            ],
            "text/plain": [
              "          Innings Player Innings Runs Scored  Innings Runs Scored Num Innings Minutes Batted  Innings Batted Flag  Innings Not Out Flag  Innings Balls Faced Innings Boundary Fours Innings Boundary Sixes Innings Batting Strike Rate Innings Number    Opposition    Ground Innings Date      Country  50's  100's Innings Runs Scored Buckets Innings Overs Bowled  Innings Bowled Flag Innings Maidens Bowled Innings Runs Conceded Innings Wickets Taken  4 Wickets  5 Wickets  10 Wickets Innings Wickets Taken Buckets Innings Economy Rate  year\n",
              "77610  V Sehwag           70                  70                       85                     1.0                  0                     52                   9                      2                      134.61                      1              v Bangladesh  Dhaka    2004-12-27    India        1.0   0.0    50-99                       NaN                 NaN                   NaN                    NaN                   NaN                  NaN        NaN        NaN          NaN                           NaN                  2004\n",
              "77611  Yuvraj Singh       69                  69                       34                     1.0                  0                     32                   8                      3                      215.62                      1              v Bangladesh  Dhaka    2004-12-27    India        1.0   0.0    50-99                       NaN                 NaN                   NaN                    NaN                   NaN                  NaN        NaN        NaN          NaN                           NaN                  2004\n",
              "77612  R Dravid           60                  60                       87                     1.0                  0                     68                   5                      0                      88.23                       1              v Bangladesh  Dhaka    2004-12-27    India        1.0   0.0    50-99                       NaN                 NaN                   NaN                    NaN                   NaN                  NaN        NaN        NaN          NaN                           NaN                  2004\n",
              "77613  SC Ganguly         55                  55                       98                     1.0                  0                     80                   2                      2                      68.75                       1              v Bangladesh  Dhaka    2004-12-27    India        1.0   0.0    50-99                       NaN                 NaN                   NaN                    NaN                   NaN                  NaN        NaN        NaN          NaN                           NaN                  2004\n",
              "77614  SR Tendulkar       47                  47                       60                     1.0                  0                     42                   9                      0                      111.9                       1              v Bangladesh  Dhaka    2004-12-27    India        0.0   0.0    0-49                        NaN                 NaN                   NaN                    NaN                   NaN                  NaN        NaN        NaN          NaN                           NaN                  2004\n",
              "77615  M Kaif             29*                 29                       52                     1.0                  1                     24                   2                      0                      120.83                      1              v Bangladesh  Dhaka    2004-12-27    India        0.0   0.0    0-49                        NaN                 NaN                   NaN                    NaN                   NaN                  NaN        NaN        NaN          NaN                           NaN                  2004\n",
              "77616  MS Dhoni           7*                  7                        2                      1.0                  1                     2                    0                      1                      350                         1              v Bangladesh  Dhaka    2004-12-27    India        0.0   0.0    0-49                        NaN                 NaN                   NaN                    NaN                   NaN                  NaN        NaN        NaN          NaN                           NaN                  2004\n",
              "77621  Rajin Saleh        82                  82                       149                    1.0                  0                     114                  8                      1                      71.92                       2              v India       Dhaka    2004-12-27    Bangladesh   1.0   0.0    50-99                       NaN                 NaN                   NaN                    NaN                   NaN                  NaN        NaN        NaN          NaN                           NaN                  2004\n",
              "77622  Mashrafe Mortaza   39                  39                       12                     1.0                  0                     20                   3                      3                      195                         2              v India       Dhaka    2004-12-27    Bangladesh   0.0   0.0    0-49                        NaN                 NaN                   NaN                    NaN                   NaN                  NaN        NaN        NaN          NaN                           NaN                  2004\n",
              "77623  Mohammad Ashraful  32                  32                       52                     1.0                  0                     34                   4                      0                      94.11                       2              v India       Dhaka    2004-12-27    Bangladesh   0.0   0.0    0-49                        NaN                 NaN                   NaN                    NaN                   NaN                  NaN        NaN        NaN          NaN                           NaN                  2004\n",
              "77624  Mushfiqur Rahman   27*                 27                       42                     1.0                  1                     44                   3                      0                      61.36                       2              v India       Dhaka    2004-12-27    Bangladesh   0.0   0.0    0-49                        NaN                 NaN                   NaN                    NaN                   NaN                  NaN        NaN        NaN          NaN                           NaN                  2004\n",
              "77625  Khaled Mahmud      14                  14                       32                     1.0                  0                     31                   0                      0                      45.16                       2              v India       Dhaka    2004-12-27    Bangladesh   0.0   0.0    0-49                        NaN                 NaN                   NaN                    NaN                   NaN                  NaN        NaN        NaN          NaN                           NaN                  2004\n",
              "77626  Nafees Iqbal       10                  10                       33                     1.0                  0                     20                   2                      0                      50                          2              v India       Dhaka    2004-12-27    Bangladesh   0.0   0.0    0-49                        NaN                 NaN                   NaN                    NaN                   NaN                  NaN        NaN        NaN          NaN                           NaN                  2004\n",
              "77627  Khaled Mashud      10                  10                       25                     1.0                  0                     16                   0                      0                      62.5                        2              v India       Dhaka    2004-12-27    Bangladesh   0.0   0.0    0-49                        NaN                 NaN                   NaN                    NaN                   NaN                  NaN        NaN        NaN          NaN                           NaN                  2004\n",
              "77628  Aftab Ahmed        9                   9                        24                     1.0                  0                     13                   1                      0                      69.23                       2              v India       Dhaka    2004-12-27    Bangladesh   0.0   0.0    0-49                        NaN                 NaN                   NaN                    NaN                   NaN                  NaN        NaN        NaN          NaN                           NaN                  2004\n",
              "77629  Habibul Bashar     2                   2                        13                     1.0                  0                     7                    0                      0                      28.57                       2              v India       Dhaka    2004-12-27    Bangladesh   0.0   0.0    0-49                        NaN                 NaN                   NaN                    NaN                   NaN                  NaN        NaN        NaN          NaN                           NaN                  2004\n",
              "77630  Hasibul Hossain    1*                  1                        2                      1.0                  1                     1                    0                      0                      100                         2              v India       Dhaka    2004-12-27    Bangladesh   0.0   0.0    0-49                        NaN                 NaN                   NaN                    NaN                   NaN                  NaN        NaN        NaN          NaN                           NaN                  2004\n",
              "77631  Mohammad Rafique   0                   0                        3                      1.0                  0                     4                    0                      0                      0                           2              v India       Dhaka    2004-12-27    Bangladesh   0.0   0.0    0-49                        NaN                 NaN                   NaN                    NaN                   NaN                  NaN        NaN        NaN          NaN                           NaN                  2004\n",
              "77654  SP Fleming         77*                 77                       136                    1.0                  1                     92                   8                      2                      83.69                       2              v Sri Lanka   Auckland 2004-12-26    New Zealand  1.0   0.0    50-99                       NaN                 NaN                   NaN                    NaN                   NaN                  NaN        NaN        NaN          NaN                           NaN                  2004\n",
              "77655  MS Sinclair        31                  31                       65                     1.0                  0                     53                   4                      0                      58.49                       2              v Sri Lanka   Auckland 2004-12-26    New Zealand  0.0   0.0    0-49                        NaN                 NaN                   NaN                    NaN                   NaN                  NaN        NaN        NaN          NaN                           NaN                  2004"
            ]
          },
          "metadata": {},
          "execution_count": 26
        }
      ]
    },
    {
      "cell_type": "code",
      "metadata": {
        "id": "iiLW0XZciT4n"
      },
      "source": [
        "# Filtering by Innings Player Name to get Sachin's data from sachin_df\n",
        "\n",
        "# SR Tendulkar\n",
        "sdf = sachin_df[sachin_df['Innings Player'] == 'SR Tendulkar']"
      ],
      "execution_count": 27,
      "outputs": []
    },
    {
      "cell_type": "code",
      "metadata": {
        "id": "Zbd9i4krjNIK"
      },
      "source": [
        "# Filtering by Innings Player Name to get Kohli's data from virat_df\n",
        "kdf = virat_df[virat_df['Innings Player'] == 'V Kohli'\t]"
      ],
      "execution_count": 28,
      "outputs": []
    },
    {
      "cell_type": "code",
      "metadata": {
        "colab": {
          "base_uri": "https://localhost:8080/",
          "height": 360
        },
        "id": "vGT2Fdv_ii_U",
        "outputId": "6d510e4f-76a4-42af-b0b5-333fbd4065d6"
      },
      "source": [
        "sdf.head()"
      ],
      "execution_count": 29,
      "outputs": [
        {
          "output_type": "execute_result",
          "data": {
            "text/html": [
              "<div>\n",
              "<style scoped>\n",
              "    .dataframe tbody tr th:only-of-type {\n",
              "        vertical-align: middle;\n",
              "    }\n",
              "\n",
              "    .dataframe tbody tr th {\n",
              "        vertical-align: top;\n",
              "    }\n",
              "\n",
              "    .dataframe thead th {\n",
              "        text-align: right;\n",
              "    }\n",
              "</style>\n",
              "<table border=\"1\" class=\"dataframe\">\n",
              "  <thead>\n",
              "    <tr style=\"text-align: right;\">\n",
              "      <th></th>\n",
              "      <th>Innings Player</th>\n",
              "      <th>Innings Runs Scored</th>\n",
              "      <th>Innings Runs Scored Num</th>\n",
              "      <th>Innings Minutes Batted</th>\n",
              "      <th>Innings Batted Flag</th>\n",
              "      <th>Innings Not Out Flag</th>\n",
              "      <th>Innings Balls Faced</th>\n",
              "      <th>Innings Boundary Fours</th>\n",
              "      <th>Innings Boundary Sixes</th>\n",
              "      <th>Innings Batting Strike Rate</th>\n",
              "      <th>Innings Number</th>\n",
              "      <th>Opposition</th>\n",
              "      <th>Ground</th>\n",
              "      <th>Innings Date</th>\n",
              "      <th>Country</th>\n",
              "      <th>50's</th>\n",
              "      <th>100's</th>\n",
              "      <th>Innings Runs Scored Buckets</th>\n",
              "      <th>Innings Overs Bowled</th>\n",
              "      <th>Innings Bowled Flag</th>\n",
              "      <th>Innings Maidens Bowled</th>\n",
              "      <th>Innings Runs Conceded</th>\n",
              "      <th>Innings Wickets Taken</th>\n",
              "      <th>4 Wickets</th>\n",
              "      <th>5 Wickets</th>\n",
              "      <th>10 Wickets</th>\n",
              "      <th>Innings Wickets Taken Buckets</th>\n",
              "      <th>Innings Economy Rate</th>\n",
              "      <th>year</th>\n",
              "    </tr>\n",
              "  </thead>\n",
              "  <tbody>\n",
              "    <tr>\n",
              "      <th>77614</th>\n",
              "      <td>SR Tendulkar</td>\n",
              "      <td>47</td>\n",
              "      <td>47</td>\n",
              "      <td>60</td>\n",
              "      <td>1.0</td>\n",
              "      <td>0</td>\n",
              "      <td>42</td>\n",
              "      <td>9</td>\n",
              "      <td>0</td>\n",
              "      <td>111.9</td>\n",
              "      <td>1</td>\n",
              "      <td>v Bangladesh</td>\n",
              "      <td>Dhaka</td>\n",
              "      <td>2004-12-27</td>\n",
              "      <td>India</td>\n",
              "      <td>0.0</td>\n",
              "      <td>0.0</td>\n",
              "      <td>0-49</td>\n",
              "      <td>NaN</td>\n",
              "      <td>NaN</td>\n",
              "      <td>NaN</td>\n",
              "      <td>NaN</td>\n",
              "      <td>NaN</td>\n",
              "      <td>NaN</td>\n",
              "      <td>NaN</td>\n",
              "      <td>NaN</td>\n",
              "      <td>NaN</td>\n",
              "      <td>NaN</td>\n",
              "      <td>2004</td>\n",
              "    </tr>\n",
              "    <tr>\n",
              "      <th>77747</th>\n",
              "      <td>SR Tendulkar</td>\n",
              "      <td>19</td>\n",
              "      <td>19</td>\n",
              "      <td>46</td>\n",
              "      <td>1.0</td>\n",
              "      <td>0</td>\n",
              "      <td>32</td>\n",
              "      <td>3</td>\n",
              "      <td>0</td>\n",
              "      <td>59.37</td>\n",
              "      <td>1</td>\n",
              "      <td>v Bangladesh</td>\n",
              "      <td>Chattogram</td>\n",
              "      <td>2004-12-23</td>\n",
              "      <td>India</td>\n",
              "      <td>0.0</td>\n",
              "      <td>0.0</td>\n",
              "      <td>0-49</td>\n",
              "      <td>NaN</td>\n",
              "      <td>NaN</td>\n",
              "      <td>NaN</td>\n",
              "      <td>NaN</td>\n",
              "      <td>NaN</td>\n",
              "      <td>NaN</td>\n",
              "      <td>NaN</td>\n",
              "      <td>NaN</td>\n",
              "      <td>NaN</td>\n",
              "      <td>NaN</td>\n",
              "      <td>2004</td>\n",
              "    </tr>\n",
              "    <tr>\n",
              "      <th>78054</th>\n",
              "      <td>SR Tendulkar</td>\n",
              "      <td>16</td>\n",
              "      <td>16</td>\n",
              "      <td>30</td>\n",
              "      <td>1.0</td>\n",
              "      <td>0</td>\n",
              "      <td>17</td>\n",
              "      <td>2</td>\n",
              "      <td>0</td>\n",
              "      <td>94.11</td>\n",
              "      <td>1</td>\n",
              "      <td>v Pakistan</td>\n",
              "      <td>Kolkata</td>\n",
              "      <td>2004-11-13</td>\n",
              "      <td>India</td>\n",
              "      <td>0.0</td>\n",
              "      <td>0.0</td>\n",
              "      <td>0-49</td>\n",
              "      <td>NaN</td>\n",
              "      <td>NaN</td>\n",
              "      <td>NaN</td>\n",
              "      <td>NaN</td>\n",
              "      <td>NaN</td>\n",
              "      <td>NaN</td>\n",
              "      <td>NaN</td>\n",
              "      <td>NaN</td>\n",
              "      <td>NaN</td>\n",
              "      <td>NaN</td>\n",
              "      <td>2004</td>\n",
              "    </tr>\n",
              "    <tr>\n",
              "      <th>79590</th>\n",
              "      <td>SR Tendulkar</td>\n",
              "      <td>74</td>\n",
              "      <td>74</td>\n",
              "      <td>170</td>\n",
              "      <td>1.0</td>\n",
              "      <td>0</td>\n",
              "      <td>100</td>\n",
              "      <td>7</td>\n",
              "      <td>1</td>\n",
              "      <td>74</td>\n",
              "      <td>2</td>\n",
              "      <td>v Sri Lanka</td>\n",
              "      <td>Colombo (RPS)</td>\n",
              "      <td>2004-01-08</td>\n",
              "      <td>India</td>\n",
              "      <td>1.0</td>\n",
              "      <td>0.0</td>\n",
              "      <td>50-99</td>\n",
              "      <td>NaN</td>\n",
              "      <td>NaN</td>\n",
              "      <td>NaN</td>\n",
              "      <td>NaN</td>\n",
              "      <td>NaN</td>\n",
              "      <td>NaN</td>\n",
              "      <td>NaN</td>\n",
              "      <td>NaN</td>\n",
              "      <td>NaN</td>\n",
              "      <td>NaN</td>\n",
              "      <td>2004</td>\n",
              "    </tr>\n",
              "    <tr>\n",
              "      <th>79681</th>\n",
              "      <td>SR Tendulkar</td>\n",
              "      <td>18</td>\n",
              "      <td>18</td>\n",
              "      <td>30</td>\n",
              "      <td>1.0</td>\n",
              "      <td>0</td>\n",
              "      <td>21</td>\n",
              "      <td>3</td>\n",
              "      <td>0</td>\n",
              "      <td>85.71</td>\n",
              "      <td>1</td>\n",
              "      <td>v Sri Lanka</td>\n",
              "      <td>Colombo (RPS)</td>\n",
              "      <td>2004-07-27</td>\n",
              "      <td>India</td>\n",
              "      <td>0.0</td>\n",
              "      <td>0.0</td>\n",
              "      <td>0-49</td>\n",
              "      <td>NaN</td>\n",
              "      <td>NaN</td>\n",
              "      <td>NaN</td>\n",
              "      <td>NaN</td>\n",
              "      <td>NaN</td>\n",
              "      <td>NaN</td>\n",
              "      <td>NaN</td>\n",
              "      <td>NaN</td>\n",
              "      <td>NaN</td>\n",
              "      <td>NaN</td>\n",
              "      <td>2004</td>\n",
              "    </tr>\n",
              "  </tbody>\n",
              "</table>\n",
              "</div>"
            ],
            "text/plain": [
              "      Innings Player Innings Runs Scored  Innings Runs Scored Num Innings Minutes Batted  Innings Batted Flag  Innings Not Out Flag  Innings Balls Faced Innings Boundary Fours Innings Boundary Sixes Innings Batting Strike Rate Innings Number    Opposition         Ground Innings Date Country  50's  100's Innings Runs Scored Buckets Innings Overs Bowled  Innings Bowled Flag Innings Maidens Bowled Innings Runs Conceded Innings Wickets Taken  4 Wickets  5 Wickets  10 Wickets Innings Wickets Taken Buckets Innings Economy Rate  year\n",
              "77614  SR Tendulkar   47                  47                       60                     1.0                  0                     42                   9                      0                      111.9                       1              v Bangladesh  Dhaka         2004-12-27    India   0.0   0.0    0-49                        NaN                 NaN                   NaN                    NaN                   NaN                  NaN        NaN        NaN          NaN                           NaN                  2004\n",
              "77747  SR Tendulkar   19                  19                       46                     1.0                  0                     32                   3                      0                      59.37                       1              v Bangladesh  Chattogram    2004-12-23    India   0.0   0.0    0-49                        NaN                 NaN                   NaN                    NaN                   NaN                  NaN        NaN        NaN          NaN                           NaN                  2004\n",
              "78054  SR Tendulkar   16                  16                       30                     1.0                  0                     17                   2                      0                      94.11                       1              v Pakistan    Kolkata       2004-11-13    India   0.0   0.0    0-49                        NaN                 NaN                   NaN                    NaN                   NaN                  NaN        NaN        NaN          NaN                           NaN                  2004\n",
              "79590  SR Tendulkar   74                  74                       170                    1.0                  0                     100                  7                      1                      74                          2              v Sri Lanka   Colombo (RPS) 2004-01-08    India   1.0   0.0    50-99                       NaN                 NaN                   NaN                    NaN                   NaN                  NaN        NaN        NaN          NaN                           NaN                  2004\n",
              "79681  SR Tendulkar   18                  18                       30                     1.0                  0                     21                   3                      0                      85.71                       1              v Sri Lanka   Colombo (RPS) 2004-07-27    India   0.0   0.0    0-49                        NaN                 NaN                   NaN                    NaN                   NaN                  NaN        NaN        NaN          NaN                           NaN                  2004"
            ]
          },
          "metadata": {},
          "execution_count": 29
        }
      ]
    },
    {
      "cell_type": "code",
      "metadata": {
        "colab": {
          "base_uri": "https://localhost:8080/",
          "height": 1000
        },
        "id": "6yofwtRuiwex",
        "outputId": "513b33f2-fbea-4052-a418-ca93df634183"
      },
      "source": [
        "virat_df.head(20)"
      ],
      "execution_count": 30,
      "outputs": [
        {
          "output_type": "execute_result",
          "data": {
            "text/html": [
              "<div>\n",
              "<style scoped>\n",
              "    .dataframe tbody tr th:only-of-type {\n",
              "        vertical-align: middle;\n",
              "    }\n",
              "\n",
              "    .dataframe tbody tr th {\n",
              "        vertical-align: top;\n",
              "    }\n",
              "\n",
              "    .dataframe thead th {\n",
              "        text-align: right;\n",
              "    }\n",
              "</style>\n",
              "<table border=\"1\" class=\"dataframe\">\n",
              "  <thead>\n",
              "    <tr style=\"text-align: right;\">\n",
              "      <th></th>\n",
              "      <th>Innings Player</th>\n",
              "      <th>Innings Runs Scored</th>\n",
              "      <th>Innings Runs Scored Num</th>\n",
              "      <th>Innings Minutes Batted</th>\n",
              "      <th>Innings Batted Flag</th>\n",
              "      <th>Innings Not Out Flag</th>\n",
              "      <th>Innings Balls Faced</th>\n",
              "      <th>Innings Boundary Fours</th>\n",
              "      <th>Innings Boundary Sixes</th>\n",
              "      <th>Innings Batting Strike Rate</th>\n",
              "      <th>Innings Number</th>\n",
              "      <th>Opposition</th>\n",
              "      <th>Ground</th>\n",
              "      <th>Innings Date</th>\n",
              "      <th>Country</th>\n",
              "      <th>50's</th>\n",
              "      <th>100's</th>\n",
              "      <th>Innings Runs Scored Buckets</th>\n",
              "      <th>Innings Overs Bowled</th>\n",
              "      <th>Innings Bowled Flag</th>\n",
              "      <th>Innings Maidens Bowled</th>\n",
              "      <th>Innings Runs Conceded</th>\n",
              "      <th>Innings Wickets Taken</th>\n",
              "      <th>4 Wickets</th>\n",
              "      <th>5 Wickets</th>\n",
              "      <th>10 Wickets</th>\n",
              "      <th>Innings Wickets Taken Buckets</th>\n",
              "      <th>Innings Economy Rate</th>\n",
              "      <th>year</th>\n",
              "    </tr>\n",
              "  </thead>\n",
              "  <tbody>\n",
              "    <tr>\n",
              "      <th>0</th>\n",
              "      <td>E Lewis</td>\n",
              "      <td>65</td>\n",
              "      <td>65</td>\n",
              "      <td>128</td>\n",
              "      <td>1.0</td>\n",
              "      <td>0</td>\n",
              "      <td>80</td>\n",
              "      <td>8</td>\n",
              "      <td>1</td>\n",
              "      <td>81.25</td>\n",
              "      <td>2</td>\n",
              "      <td>v India</td>\n",
              "      <td>Port of Spain</td>\n",
              "      <td>2019-11-08</td>\n",
              "      <td>West Indies</td>\n",
              "      <td>1.0</td>\n",
              "      <td>0.0</td>\n",
              "      <td>50-99</td>\n",
              "      <td>NaN</td>\n",
              "      <td>NaN</td>\n",
              "      <td>NaN</td>\n",
              "      <td>NaN</td>\n",
              "      <td>NaN</td>\n",
              "      <td>NaN</td>\n",
              "      <td>NaN</td>\n",
              "      <td>NaN</td>\n",
              "      <td>NaN</td>\n",
              "      <td>NaN</td>\n",
              "      <td>2019</td>\n",
              "    </tr>\n",
              "    <tr>\n",
              "      <th>1</th>\n",
              "      <td>N Pooran</td>\n",
              "      <td>42</td>\n",
              "      <td>42</td>\n",
              "      <td>69</td>\n",
              "      <td>1.0</td>\n",
              "      <td>0</td>\n",
              "      <td>52</td>\n",
              "      <td>4</td>\n",
              "      <td>1</td>\n",
              "      <td>80.76</td>\n",
              "      <td>2</td>\n",
              "      <td>v India</td>\n",
              "      <td>Port of Spain</td>\n",
              "      <td>2019-11-08</td>\n",
              "      <td>West Indies</td>\n",
              "      <td>0.0</td>\n",
              "      <td>0.0</td>\n",
              "      <td>0-49</td>\n",
              "      <td>NaN</td>\n",
              "      <td>NaN</td>\n",
              "      <td>NaN</td>\n",
              "      <td>NaN</td>\n",
              "      <td>NaN</td>\n",
              "      <td>NaN</td>\n",
              "      <td>NaN</td>\n",
              "      <td>NaN</td>\n",
              "      <td>NaN</td>\n",
              "      <td>NaN</td>\n",
              "      <td>2019</td>\n",
              "    </tr>\n",
              "    <tr>\n",
              "      <th>2</th>\n",
              "      <td>SO Hetmyer</td>\n",
              "      <td>18</td>\n",
              "      <td>18</td>\n",
              "      <td>31</td>\n",
              "      <td>1.0</td>\n",
              "      <td>0</td>\n",
              "      <td>20</td>\n",
              "      <td>2</td>\n",
              "      <td>0</td>\n",
              "      <td>90</td>\n",
              "      <td>2</td>\n",
              "      <td>v India</td>\n",
              "      <td>Port of Spain</td>\n",
              "      <td>2019-11-08</td>\n",
              "      <td>West Indies</td>\n",
              "      <td>0.0</td>\n",
              "      <td>0.0</td>\n",
              "      <td>0-49</td>\n",
              "      <td>NaN</td>\n",
              "      <td>NaN</td>\n",
              "      <td>NaN</td>\n",
              "      <td>NaN</td>\n",
              "      <td>NaN</td>\n",
              "      <td>NaN</td>\n",
              "      <td>NaN</td>\n",
              "      <td>NaN</td>\n",
              "      <td>NaN</td>\n",
              "      <td>NaN</td>\n",
              "      <td>2019</td>\n",
              "    </tr>\n",
              "    <tr>\n",
              "      <th>3</th>\n",
              "      <td>RL Chase</td>\n",
              "      <td>18</td>\n",
              "      <td>18</td>\n",
              "      <td>34</td>\n",
              "      <td>1.0</td>\n",
              "      <td>0</td>\n",
              "      <td>23</td>\n",
              "      <td>0</td>\n",
              "      <td>0</td>\n",
              "      <td>78.26</td>\n",
              "      <td>2</td>\n",
              "      <td>v India</td>\n",
              "      <td>Port of Spain</td>\n",
              "      <td>2019-11-08</td>\n",
              "      <td>West Indies</td>\n",
              "      <td>0.0</td>\n",
              "      <td>0.0</td>\n",
              "      <td>0-49</td>\n",
              "      <td>NaN</td>\n",
              "      <td>NaN</td>\n",
              "      <td>NaN</td>\n",
              "      <td>NaN</td>\n",
              "      <td>NaN</td>\n",
              "      <td>NaN</td>\n",
              "      <td>NaN</td>\n",
              "      <td>NaN</td>\n",
              "      <td>NaN</td>\n",
              "      <td>NaN</td>\n",
              "      <td>2019</td>\n",
              "    </tr>\n",
              "    <tr>\n",
              "      <th>4</th>\n",
              "      <td>SS Cottrell</td>\n",
              "      <td>17</td>\n",
              "      <td>17</td>\n",
              "      <td>23</td>\n",
              "      <td>1.0</td>\n",
              "      <td>0</td>\n",
              "      <td>18</td>\n",
              "      <td>2</td>\n",
              "      <td>1</td>\n",
              "      <td>94.44</td>\n",
              "      <td>2</td>\n",
              "      <td>v India</td>\n",
              "      <td>Port of Spain</td>\n",
              "      <td>2019-11-08</td>\n",
              "      <td>West Indies</td>\n",
              "      <td>0.0</td>\n",
              "      <td>0.0</td>\n",
              "      <td>0-49</td>\n",
              "      <td>NaN</td>\n",
              "      <td>NaN</td>\n",
              "      <td>NaN</td>\n",
              "      <td>NaN</td>\n",
              "      <td>NaN</td>\n",
              "      <td>NaN</td>\n",
              "      <td>NaN</td>\n",
              "      <td>NaN</td>\n",
              "      <td>NaN</td>\n",
              "      <td>NaN</td>\n",
              "      <td>2019</td>\n",
              "    </tr>\n",
              "    <tr>\n",
              "      <th>5</th>\n",
              "      <td>JO Holder</td>\n",
              "      <td>13*</td>\n",
              "      <td>13</td>\n",
              "      <td>38</td>\n",
              "      <td>1.0</td>\n",
              "      <td>1</td>\n",
              "      <td>19</td>\n",
              "      <td>0</td>\n",
              "      <td>0</td>\n",
              "      <td>68.42</td>\n",
              "      <td>2</td>\n",
              "      <td>v India</td>\n",
              "      <td>Port of Spain</td>\n",
              "      <td>2019-11-08</td>\n",
              "      <td>West Indies</td>\n",
              "      <td>0.0</td>\n",
              "      <td>0.0</td>\n",
              "      <td>0-49</td>\n",
              "      <td>NaN</td>\n",
              "      <td>NaN</td>\n",
              "      <td>NaN</td>\n",
              "      <td>NaN</td>\n",
              "      <td>NaN</td>\n",
              "      <td>NaN</td>\n",
              "      <td>NaN</td>\n",
              "      <td>NaN</td>\n",
              "      <td>NaN</td>\n",
              "      <td>NaN</td>\n",
              "      <td>2019</td>\n",
              "    </tr>\n",
              "    <tr>\n",
              "      <th>6</th>\n",
              "      <td>CH Gayle</td>\n",
              "      <td>11</td>\n",
              "      <td>11</td>\n",
              "      <td>49</td>\n",
              "      <td>1.0</td>\n",
              "      <td>0</td>\n",
              "      <td>24</td>\n",
              "      <td>1</td>\n",
              "      <td>0</td>\n",
              "      <td>45.83</td>\n",
              "      <td>2</td>\n",
              "      <td>v India</td>\n",
              "      <td>Port of Spain</td>\n",
              "      <td>2019-11-08</td>\n",
              "      <td>West Indies</td>\n",
              "      <td>0.0</td>\n",
              "      <td>0.0</td>\n",
              "      <td>0-49</td>\n",
              "      <td>NaN</td>\n",
              "      <td>NaN</td>\n",
              "      <td>NaN</td>\n",
              "      <td>NaN</td>\n",
              "      <td>NaN</td>\n",
              "      <td>NaN</td>\n",
              "      <td>NaN</td>\n",
              "      <td>NaN</td>\n",
              "      <td>NaN</td>\n",
              "      <td>NaN</td>\n",
              "      <td>2019</td>\n",
              "    </tr>\n",
              "    <tr>\n",
              "      <th>7</th>\n",
              "      <td>SD Hope</td>\n",
              "      <td>5</td>\n",
              "      <td>5</td>\n",
              "      <td>14</td>\n",
              "      <td>1.0</td>\n",
              "      <td>0</td>\n",
              "      <td>10</td>\n",
              "      <td>0</td>\n",
              "      <td>0</td>\n",
              "      <td>50</td>\n",
              "      <td>2</td>\n",
              "      <td>v India</td>\n",
              "      <td>Port of Spain</td>\n",
              "      <td>2019-11-08</td>\n",
              "      <td>West Indies</td>\n",
              "      <td>0.0</td>\n",
              "      <td>0.0</td>\n",
              "      <td>0-49</td>\n",
              "      <td>NaN</td>\n",
              "      <td>NaN</td>\n",
              "      <td>NaN</td>\n",
              "      <td>NaN</td>\n",
              "      <td>NaN</td>\n",
              "      <td>NaN</td>\n",
              "      <td>NaN</td>\n",
              "      <td>NaN</td>\n",
              "      <td>NaN</td>\n",
              "      <td>NaN</td>\n",
              "      <td>2019</td>\n",
              "    </tr>\n",
              "    <tr>\n",
              "      <th>8</th>\n",
              "      <td>CR Brathwaite</td>\n",
              "      <td>0</td>\n",
              "      <td>0</td>\n",
              "      <td>5</td>\n",
              "      <td>1.0</td>\n",
              "      <td>0</td>\n",
              "      <td>3</td>\n",
              "      <td>0</td>\n",
              "      <td>0</td>\n",
              "      <td>0</td>\n",
              "      <td>2</td>\n",
              "      <td>v India</td>\n",
              "      <td>Port of Spain</td>\n",
              "      <td>2019-11-08</td>\n",
              "      <td>West Indies</td>\n",
              "      <td>0.0</td>\n",
              "      <td>0.0</td>\n",
              "      <td>0-49</td>\n",
              "      <td>NaN</td>\n",
              "      <td>NaN</td>\n",
              "      <td>NaN</td>\n",
              "      <td>NaN</td>\n",
              "      <td>NaN</td>\n",
              "      <td>NaN</td>\n",
              "      <td>NaN</td>\n",
              "      <td>NaN</td>\n",
              "      <td>NaN</td>\n",
              "      <td>NaN</td>\n",
              "      <td>2019</td>\n",
              "    </tr>\n",
              "    <tr>\n",
              "      <th>9</th>\n",
              "      <td>KAJ Roach</td>\n",
              "      <td>0</td>\n",
              "      <td>0</td>\n",
              "      <td>5</td>\n",
              "      <td>1.0</td>\n",
              "      <td>0</td>\n",
              "      <td>3</td>\n",
              "      <td>0</td>\n",
              "      <td>0</td>\n",
              "      <td>0</td>\n",
              "      <td>2</td>\n",
              "      <td>v India</td>\n",
              "      <td>Port of Spain</td>\n",
              "      <td>2019-11-08</td>\n",
              "      <td>West Indies</td>\n",
              "      <td>0.0</td>\n",
              "      <td>0.0</td>\n",
              "      <td>0-49</td>\n",
              "      <td>NaN</td>\n",
              "      <td>NaN</td>\n",
              "      <td>NaN</td>\n",
              "      <td>NaN</td>\n",
              "      <td>NaN</td>\n",
              "      <td>NaN</td>\n",
              "      <td>NaN</td>\n",
              "      <td>NaN</td>\n",
              "      <td>NaN</td>\n",
              "      <td>NaN</td>\n",
              "      <td>2019</td>\n",
              "    </tr>\n",
              "    <tr>\n",
              "      <th>10</th>\n",
              "      <td>O Thomas</td>\n",
              "      <td>0</td>\n",
              "      <td>0</td>\n",
              "      <td>4</td>\n",
              "      <td>1.0</td>\n",
              "      <td>0</td>\n",
              "      <td>1</td>\n",
              "      <td>0</td>\n",
              "      <td>0</td>\n",
              "      <td>0</td>\n",
              "      <td>2</td>\n",
              "      <td>v India</td>\n",
              "      <td>Port of Spain</td>\n",
              "      <td>2019-11-08</td>\n",
              "      <td>West Indies</td>\n",
              "      <td>0.0</td>\n",
              "      <td>0.0</td>\n",
              "      <td>0-49</td>\n",
              "      <td>NaN</td>\n",
              "      <td>NaN</td>\n",
              "      <td>NaN</td>\n",
              "      <td>NaN</td>\n",
              "      <td>NaN</td>\n",
              "      <td>NaN</td>\n",
              "      <td>NaN</td>\n",
              "      <td>NaN</td>\n",
              "      <td>NaN</td>\n",
              "      <td>NaN</td>\n",
              "      <td>2019</td>\n",
              "    </tr>\n",
              "    <tr>\n",
              "      <th>11</th>\n",
              "      <td>V Kohli</td>\n",
              "      <td>120</td>\n",
              "      <td>120</td>\n",
              "      <td>179</td>\n",
              "      <td>1.0</td>\n",
              "      <td>0</td>\n",
              "      <td>125</td>\n",
              "      <td>14</td>\n",
              "      <td>1</td>\n",
              "      <td>96</td>\n",
              "      <td>1</td>\n",
              "      <td>v West Indies</td>\n",
              "      <td>Port of Spain</td>\n",
              "      <td>2019-11-08</td>\n",
              "      <td>India</td>\n",
              "      <td>0.0</td>\n",
              "      <td>1.0</td>\n",
              "      <td>100-149</td>\n",
              "      <td>NaN</td>\n",
              "      <td>NaN</td>\n",
              "      <td>NaN</td>\n",
              "      <td>NaN</td>\n",
              "      <td>NaN</td>\n",
              "      <td>NaN</td>\n",
              "      <td>NaN</td>\n",
              "      <td>NaN</td>\n",
              "      <td>NaN</td>\n",
              "      <td>NaN</td>\n",
              "      <td>2019</td>\n",
              "    </tr>\n",
              "    <tr>\n",
              "      <th>12</th>\n",
              "      <td>SS Iyer</td>\n",
              "      <td>71</td>\n",
              "      <td>71</td>\n",
              "      <td>101</td>\n",
              "      <td>1.0</td>\n",
              "      <td>0</td>\n",
              "      <td>68</td>\n",
              "      <td>5</td>\n",
              "      <td>1</td>\n",
              "      <td>104.41</td>\n",
              "      <td>1</td>\n",
              "      <td>v West Indies</td>\n",
              "      <td>Port of Spain</td>\n",
              "      <td>2019-11-08</td>\n",
              "      <td>India</td>\n",
              "      <td>1.0</td>\n",
              "      <td>0.0</td>\n",
              "      <td>50-99</td>\n",
              "      <td>NaN</td>\n",
              "      <td>NaN</td>\n",
              "      <td>NaN</td>\n",
              "      <td>NaN</td>\n",
              "      <td>NaN</td>\n",
              "      <td>NaN</td>\n",
              "      <td>NaN</td>\n",
              "      <td>NaN</td>\n",
              "      <td>NaN</td>\n",
              "      <td>NaN</td>\n",
              "      <td>2019</td>\n",
              "    </tr>\n",
              "    <tr>\n",
              "      <th>13</th>\n",
              "      <td>RR Pant</td>\n",
              "      <td>20</td>\n",
              "      <td>20</td>\n",
              "      <td>27</td>\n",
              "      <td>1.0</td>\n",
              "      <td>0</td>\n",
              "      <td>35</td>\n",
              "      <td>2</td>\n",
              "      <td>0</td>\n",
              "      <td>57.14</td>\n",
              "      <td>1</td>\n",
              "      <td>v West Indies</td>\n",
              "      <td>Port of Spain</td>\n",
              "      <td>2019-11-08</td>\n",
              "      <td>India</td>\n",
              "      <td>0.0</td>\n",
              "      <td>0.0</td>\n",
              "      <td>0-49</td>\n",
              "      <td>NaN</td>\n",
              "      <td>NaN</td>\n",
              "      <td>NaN</td>\n",
              "      <td>NaN</td>\n",
              "      <td>NaN</td>\n",
              "      <td>NaN</td>\n",
              "      <td>NaN</td>\n",
              "      <td>NaN</td>\n",
              "      <td>NaN</td>\n",
              "      <td>NaN</td>\n",
              "      <td>2019</td>\n",
              "    </tr>\n",
              "    <tr>\n",
              "      <th>14</th>\n",
              "      <td>RG Sharma</td>\n",
              "      <td>18</td>\n",
              "      <td>18</td>\n",
              "      <td>75</td>\n",
              "      <td>1.0</td>\n",
              "      <td>0</td>\n",
              "      <td>34</td>\n",
              "      <td>2</td>\n",
              "      <td>0</td>\n",
              "      <td>52.94</td>\n",
              "      <td>1</td>\n",
              "      <td>v West Indies</td>\n",
              "      <td>Port of Spain</td>\n",
              "      <td>2019-11-08</td>\n",
              "      <td>India</td>\n",
              "      <td>0.0</td>\n",
              "      <td>0.0</td>\n",
              "      <td>0-49</td>\n",
              "      <td>NaN</td>\n",
              "      <td>NaN</td>\n",
              "      <td>NaN</td>\n",
              "      <td>NaN</td>\n",
              "      <td>NaN</td>\n",
              "      <td>NaN</td>\n",
              "      <td>NaN</td>\n",
              "      <td>NaN</td>\n",
              "      <td>NaN</td>\n",
              "      <td>NaN</td>\n",
              "      <td>2019</td>\n",
              "    </tr>\n",
              "    <tr>\n",
              "      <th>15</th>\n",
              "      <td>RA Jadeja</td>\n",
              "      <td>16*</td>\n",
              "      <td>16</td>\n",
              "      <td>24</td>\n",
              "      <td>1.0</td>\n",
              "      <td>1</td>\n",
              "      <td>16</td>\n",
              "      <td>1</td>\n",
              "      <td>0</td>\n",
              "      <td>100</td>\n",
              "      <td>1</td>\n",
              "      <td>v West Indies</td>\n",
              "      <td>Port of Spain</td>\n",
              "      <td>2019-11-08</td>\n",
              "      <td>India</td>\n",
              "      <td>0.0</td>\n",
              "      <td>0.0</td>\n",
              "      <td>0-49</td>\n",
              "      <td>NaN</td>\n",
              "      <td>NaN</td>\n",
              "      <td>NaN</td>\n",
              "      <td>NaN</td>\n",
              "      <td>NaN</td>\n",
              "      <td>NaN</td>\n",
              "      <td>NaN</td>\n",
              "      <td>NaN</td>\n",
              "      <td>NaN</td>\n",
              "      <td>NaN</td>\n",
              "      <td>2019</td>\n",
              "    </tr>\n",
              "    <tr>\n",
              "      <th>16</th>\n",
              "      <td>KM Jadhav</td>\n",
              "      <td>16</td>\n",
              "      <td>16</td>\n",
              "      <td>27</td>\n",
              "      <td>1.0</td>\n",
              "      <td>0</td>\n",
              "      <td>14</td>\n",
              "      <td>2</td>\n",
              "      <td>0</td>\n",
              "      <td>114.28</td>\n",
              "      <td>1</td>\n",
              "      <td>v West Indies</td>\n",
              "      <td>Port of Spain</td>\n",
              "      <td>2019-11-08</td>\n",
              "      <td>India</td>\n",
              "      <td>0.0</td>\n",
              "      <td>0.0</td>\n",
              "      <td>0-49</td>\n",
              "      <td>NaN</td>\n",
              "      <td>NaN</td>\n",
              "      <td>NaN</td>\n",
              "      <td>NaN</td>\n",
              "      <td>NaN</td>\n",
              "      <td>NaN</td>\n",
              "      <td>NaN</td>\n",
              "      <td>NaN</td>\n",
              "      <td>NaN</td>\n",
              "      <td>NaN</td>\n",
              "      <td>2019</td>\n",
              "    </tr>\n",
              "    <tr>\n",
              "      <th>17</th>\n",
              "      <td>Mohammed Shami</td>\n",
              "      <td>3*</td>\n",
              "      <td>3</td>\n",
              "      <td>11</td>\n",
              "      <td>1.0</td>\n",
              "      <td>1</td>\n",
              "      <td>5</td>\n",
              "      <td>0</td>\n",
              "      <td>0</td>\n",
              "      <td>60</td>\n",
              "      <td>1</td>\n",
              "      <td>v West Indies</td>\n",
              "      <td>Port of Spain</td>\n",
              "      <td>2019-11-08</td>\n",
              "      <td>India</td>\n",
              "      <td>0.0</td>\n",
              "      <td>0.0</td>\n",
              "      <td>0-49</td>\n",
              "      <td>NaN</td>\n",
              "      <td>NaN</td>\n",
              "      <td>NaN</td>\n",
              "      <td>NaN</td>\n",
              "      <td>NaN</td>\n",
              "      <td>NaN</td>\n",
              "      <td>NaN</td>\n",
              "      <td>NaN</td>\n",
              "      <td>NaN</td>\n",
              "      <td>NaN</td>\n",
              "      <td>2019</td>\n",
              "    </tr>\n",
              "    <tr>\n",
              "      <th>18</th>\n",
              "      <td>S Dhawan</td>\n",
              "      <td>2</td>\n",
              "      <td>2</td>\n",
              "      <td>4</td>\n",
              "      <td>1.0</td>\n",
              "      <td>0</td>\n",
              "      <td>3</td>\n",
              "      <td>0</td>\n",
              "      <td>0</td>\n",
              "      <td>66.66</td>\n",
              "      <td>1</td>\n",
              "      <td>v West Indies</td>\n",
              "      <td>Port of Spain</td>\n",
              "      <td>2019-11-08</td>\n",
              "      <td>India</td>\n",
              "      <td>0.0</td>\n",
              "      <td>0.0</td>\n",
              "      <td>0-49</td>\n",
              "      <td>NaN</td>\n",
              "      <td>NaN</td>\n",
              "      <td>NaN</td>\n",
              "      <td>NaN</td>\n",
              "      <td>NaN</td>\n",
              "      <td>NaN</td>\n",
              "      <td>NaN</td>\n",
              "      <td>NaN</td>\n",
              "      <td>NaN</td>\n",
              "      <td>NaN</td>\n",
              "      <td>2019</td>\n",
              "    </tr>\n",
              "    <tr>\n",
              "      <th>19</th>\n",
              "      <td>B Kumar</td>\n",
              "      <td>1</td>\n",
              "      <td>1</td>\n",
              "      <td>6</td>\n",
              "      <td>1.0</td>\n",
              "      <td>0</td>\n",
              "      <td>2</td>\n",
              "      <td>0</td>\n",
              "      <td>0</td>\n",
              "      <td>50</td>\n",
              "      <td>1</td>\n",
              "      <td>v West Indies</td>\n",
              "      <td>Port of Spain</td>\n",
              "      <td>2019-11-08</td>\n",
              "      <td>India</td>\n",
              "      <td>0.0</td>\n",
              "      <td>0.0</td>\n",
              "      <td>0-49</td>\n",
              "      <td>NaN</td>\n",
              "      <td>NaN</td>\n",
              "      <td>NaN</td>\n",
              "      <td>NaN</td>\n",
              "      <td>NaN</td>\n",
              "      <td>NaN</td>\n",
              "      <td>NaN</td>\n",
              "      <td>NaN</td>\n",
              "      <td>NaN</td>\n",
              "      <td>NaN</td>\n",
              "      <td>2019</td>\n",
              "    </tr>\n",
              "  </tbody>\n",
              "</table>\n",
              "</div>"
            ],
            "text/plain": [
              "    Innings Player Innings Runs Scored  Innings Runs Scored Num Innings Minutes Batted  Innings Batted Flag  Innings Not Out Flag  Innings Balls Faced Innings Boundary Fours Innings Boundary Sixes Innings Batting Strike Rate Innings Number     Opposition         Ground Innings Date      Country  50's  100's Innings Runs Scored Buckets Innings Overs Bowled  Innings Bowled Flag Innings Maidens Bowled Innings Runs Conceded Innings Wickets Taken  4 Wickets  5 Wickets  10 Wickets Innings Wickets Taken Buckets Innings Economy Rate  year\n",
              "0   E Lewis         65                  65                       128                    1.0                  0                     80                   8                      1                      81.25                       2              v India        Port of Spain 2019-11-08    West Indies  1.0   0.0    50-99                       NaN                 NaN                   NaN                    NaN                   NaN                  NaN        NaN        NaN          NaN                           NaN                  2019\n",
              "1   N Pooran        42                  42                       69                     1.0                  0                     52                   4                      1                      80.76                       2              v India        Port of Spain 2019-11-08    West Indies  0.0   0.0    0-49                        NaN                 NaN                   NaN                    NaN                   NaN                  NaN        NaN        NaN          NaN                           NaN                  2019\n",
              "2   SO Hetmyer      18                  18                       31                     1.0                  0                     20                   2                      0                      90                          2              v India        Port of Spain 2019-11-08    West Indies  0.0   0.0    0-49                        NaN                 NaN                   NaN                    NaN                   NaN                  NaN        NaN        NaN          NaN                           NaN                  2019\n",
              "3   RL Chase        18                  18                       34                     1.0                  0                     23                   0                      0                      78.26                       2              v India        Port of Spain 2019-11-08    West Indies  0.0   0.0    0-49                        NaN                 NaN                   NaN                    NaN                   NaN                  NaN        NaN        NaN          NaN                           NaN                  2019\n",
              "4   SS Cottrell     17                  17                       23                     1.0                  0                     18                   2                      1                      94.44                       2              v India        Port of Spain 2019-11-08    West Indies  0.0   0.0    0-49                        NaN                 NaN                   NaN                    NaN                   NaN                  NaN        NaN        NaN          NaN                           NaN                  2019\n",
              "5   JO Holder       13*                 13                       38                     1.0                  1                     19                   0                      0                      68.42                       2              v India        Port of Spain 2019-11-08    West Indies  0.0   0.0    0-49                        NaN                 NaN                   NaN                    NaN                   NaN                  NaN        NaN        NaN          NaN                           NaN                  2019\n",
              "6   CH Gayle        11                  11                       49                     1.0                  0                     24                   1                      0                      45.83                       2              v India        Port of Spain 2019-11-08    West Indies  0.0   0.0    0-49                        NaN                 NaN                   NaN                    NaN                   NaN                  NaN        NaN        NaN          NaN                           NaN                  2019\n",
              "7   SD Hope         5                   5                        14                     1.0                  0                     10                   0                      0                      50                          2              v India        Port of Spain 2019-11-08    West Indies  0.0   0.0    0-49                        NaN                 NaN                   NaN                    NaN                   NaN                  NaN        NaN        NaN          NaN                           NaN                  2019\n",
              "8   CR Brathwaite   0                   0                        5                      1.0                  0                     3                    0                      0                      0                           2              v India        Port of Spain 2019-11-08    West Indies  0.0   0.0    0-49                        NaN                 NaN                   NaN                    NaN                   NaN                  NaN        NaN        NaN          NaN                           NaN                  2019\n",
              "9   KAJ Roach       0                   0                        5                      1.0                  0                     3                    0                      0                      0                           2              v India        Port of Spain 2019-11-08    West Indies  0.0   0.0    0-49                        NaN                 NaN                   NaN                    NaN                   NaN                  NaN        NaN        NaN          NaN                           NaN                  2019\n",
              "10  O Thomas        0                   0                        4                      1.0                  0                     1                    0                      0                      0                           2              v India        Port of Spain 2019-11-08    West Indies  0.0   0.0    0-49                        NaN                 NaN                   NaN                    NaN                   NaN                  NaN        NaN        NaN          NaN                           NaN                  2019\n",
              "11  V Kohli         120                 120                      179                    1.0                  0                     125                  14                     1                      96                          1              v West Indies  Port of Spain 2019-11-08    India        0.0   1.0    100-149                     NaN                 NaN                   NaN                    NaN                   NaN                  NaN        NaN        NaN          NaN                           NaN                  2019\n",
              "12  SS Iyer         71                  71                       101                    1.0                  0                     68                   5                      1                      104.41                      1              v West Indies  Port of Spain 2019-11-08    India        1.0   0.0    50-99                       NaN                 NaN                   NaN                    NaN                   NaN                  NaN        NaN        NaN          NaN                           NaN                  2019\n",
              "13  RR Pant         20                  20                       27                     1.0                  0                     35                   2                      0                      57.14                       1              v West Indies  Port of Spain 2019-11-08    India        0.0   0.0    0-49                        NaN                 NaN                   NaN                    NaN                   NaN                  NaN        NaN        NaN          NaN                           NaN                  2019\n",
              "14  RG Sharma       18                  18                       75                     1.0                  0                     34                   2                      0                      52.94                       1              v West Indies  Port of Spain 2019-11-08    India        0.0   0.0    0-49                        NaN                 NaN                   NaN                    NaN                   NaN                  NaN        NaN        NaN          NaN                           NaN                  2019\n",
              "15  RA Jadeja       16*                 16                       24                     1.0                  1                     16                   1                      0                      100                         1              v West Indies  Port of Spain 2019-11-08    India        0.0   0.0    0-49                        NaN                 NaN                   NaN                    NaN                   NaN                  NaN        NaN        NaN          NaN                           NaN                  2019\n",
              "16  KM Jadhav       16                  16                       27                     1.0                  0                     14                   2                      0                      114.28                      1              v West Indies  Port of Spain 2019-11-08    India        0.0   0.0    0-49                        NaN                 NaN                   NaN                    NaN                   NaN                  NaN        NaN        NaN          NaN                           NaN                  2019\n",
              "17  Mohammed Shami  3*                  3                        11                     1.0                  1                     5                    0                      0                      60                          1              v West Indies  Port of Spain 2019-11-08    India        0.0   0.0    0-49                        NaN                 NaN                   NaN                    NaN                   NaN                  NaN        NaN        NaN          NaN                           NaN                  2019\n",
              "18  S Dhawan        2                   2                        4                      1.0                  0                     3                    0                      0                      66.66                       1              v West Indies  Port of Spain 2019-11-08    India        0.0   0.0    0-49                        NaN                 NaN                   NaN                    NaN                   NaN                  NaN        NaN        NaN          NaN                           NaN                  2019\n",
              "19  B Kumar         1                   1                        6                      1.0                  0                     2                    0                      0                      50                          1              v West Indies  Port of Spain 2019-11-08    India        0.0   0.0    0-49                        NaN                 NaN                   NaN                    NaN                   NaN                  NaN        NaN        NaN          NaN                           NaN                  2019"
            ]
          },
          "metadata": {},
          "execution_count": 30
        }
      ]
    },
    {
      "cell_type": "code",
      "metadata": {
        "colab": {
          "base_uri": "https://localhost:8080/",
          "height": 360
        },
        "id": "OG3EKveYjAqD",
        "outputId": "31e21d9c-f132-4a4e-afb3-dac19db15867"
      },
      "source": [
        "kdf.head()"
      ],
      "execution_count": 31,
      "outputs": [
        {
          "output_type": "execute_result",
          "data": {
            "text/html": [
              "<div>\n",
              "<style scoped>\n",
              "    .dataframe tbody tr th:only-of-type {\n",
              "        vertical-align: middle;\n",
              "    }\n",
              "\n",
              "    .dataframe tbody tr th {\n",
              "        vertical-align: top;\n",
              "    }\n",
              "\n",
              "    .dataframe thead th {\n",
              "        text-align: right;\n",
              "    }\n",
              "</style>\n",
              "<table border=\"1\" class=\"dataframe\">\n",
              "  <thead>\n",
              "    <tr style=\"text-align: right;\">\n",
              "      <th></th>\n",
              "      <th>Innings Player</th>\n",
              "      <th>Innings Runs Scored</th>\n",
              "      <th>Innings Runs Scored Num</th>\n",
              "      <th>Innings Minutes Batted</th>\n",
              "      <th>Innings Batted Flag</th>\n",
              "      <th>Innings Not Out Flag</th>\n",
              "      <th>Innings Balls Faced</th>\n",
              "      <th>Innings Boundary Fours</th>\n",
              "      <th>Innings Boundary Sixes</th>\n",
              "      <th>Innings Batting Strike Rate</th>\n",
              "      <th>Innings Number</th>\n",
              "      <th>Opposition</th>\n",
              "      <th>Ground</th>\n",
              "      <th>Innings Date</th>\n",
              "      <th>Country</th>\n",
              "      <th>50's</th>\n",
              "      <th>100's</th>\n",
              "      <th>Innings Runs Scored Buckets</th>\n",
              "      <th>Innings Overs Bowled</th>\n",
              "      <th>Innings Bowled Flag</th>\n",
              "      <th>Innings Maidens Bowled</th>\n",
              "      <th>Innings Runs Conceded</th>\n",
              "      <th>Innings Wickets Taken</th>\n",
              "      <th>4 Wickets</th>\n",
              "      <th>5 Wickets</th>\n",
              "      <th>10 Wickets</th>\n",
              "      <th>Innings Wickets Taken Buckets</th>\n",
              "      <th>Innings Economy Rate</th>\n",
              "      <th>year</th>\n",
              "    </tr>\n",
              "  </thead>\n",
              "  <tbody>\n",
              "    <tr>\n",
              "      <th>11</th>\n",
              "      <td>V Kohli</td>\n",
              "      <td>120</td>\n",
              "      <td>120</td>\n",
              "      <td>179</td>\n",
              "      <td>1.0</td>\n",
              "      <td>0</td>\n",
              "      <td>125</td>\n",
              "      <td>14</td>\n",
              "      <td>1</td>\n",
              "      <td>96</td>\n",
              "      <td>1</td>\n",
              "      <td>v West Indies</td>\n",
              "      <td>Port of Spain</td>\n",
              "      <td>2019-11-08</td>\n",
              "      <td>India</td>\n",
              "      <td>0.0</td>\n",
              "      <td>1.0</td>\n",
              "      <td>100-149</td>\n",
              "      <td>NaN</td>\n",
              "      <td>NaN</td>\n",
              "      <td>NaN</td>\n",
              "      <td>NaN</td>\n",
              "      <td>NaN</td>\n",
              "      <td>NaN</td>\n",
              "      <td>NaN</td>\n",
              "      <td>NaN</td>\n",
              "      <td>NaN</td>\n",
              "      <td>NaN</td>\n",
              "      <td>2019</td>\n",
              "    </tr>\n",
              "    <tr>\n",
              "      <th>327</th>\n",
              "      <td>V Kohli</td>\n",
              "      <td>1</td>\n",
              "      <td>1</td>\n",
              "      <td>8</td>\n",
              "      <td>1.0</td>\n",
              "      <td>0</td>\n",
              "      <td>6</td>\n",
              "      <td>0</td>\n",
              "      <td>0</td>\n",
              "      <td>16.66</td>\n",
              "      <td>2</td>\n",
              "      <td>v New Zealand</td>\n",
              "      <td>Manchester</td>\n",
              "      <td>2019-09-07</td>\n",
              "      <td>India</td>\n",
              "      <td>0.0</td>\n",
              "      <td>0.0</td>\n",
              "      <td>0-49</td>\n",
              "      <td>NaN</td>\n",
              "      <td>NaN</td>\n",
              "      <td>NaN</td>\n",
              "      <td>NaN</td>\n",
              "      <td>NaN</td>\n",
              "      <td>NaN</td>\n",
              "      <td>NaN</td>\n",
              "      <td>NaN</td>\n",
              "      <td>NaN</td>\n",
              "      <td>NaN</td>\n",
              "      <td>2019</td>\n",
              "    </tr>\n",
              "    <tr>\n",
              "      <th>420</th>\n",
              "      <td>V Kohli</td>\n",
              "      <td>34*</td>\n",
              "      <td>34</td>\n",
              "      <td>61</td>\n",
              "      <td>1.0</td>\n",
              "      <td>1</td>\n",
              "      <td>41</td>\n",
              "      <td>3</td>\n",
              "      <td>0</td>\n",
              "      <td>82.92</td>\n",
              "      <td>2</td>\n",
              "      <td>v Sri Lanka</td>\n",
              "      <td>Leeds</td>\n",
              "      <td>2019-06-07</td>\n",
              "      <td>India</td>\n",
              "      <td>0.0</td>\n",
              "      <td>0.0</td>\n",
              "      <td>0-49</td>\n",
              "      <td>NaN</td>\n",
              "      <td>NaN</td>\n",
              "      <td>NaN</td>\n",
              "      <td>NaN</td>\n",
              "      <td>NaN</td>\n",
              "      <td>NaN</td>\n",
              "      <td>NaN</td>\n",
              "      <td>NaN</td>\n",
              "      <td>NaN</td>\n",
              "      <td>NaN</td>\n",
              "      <td>2019</td>\n",
              "    </tr>\n",
              "    <tr>\n",
              "      <th>664</th>\n",
              "      <td>V Kohli</td>\n",
              "      <td>26</td>\n",
              "      <td>26</td>\n",
              "      <td>45</td>\n",
              "      <td>1.0</td>\n",
              "      <td>0</td>\n",
              "      <td>27</td>\n",
              "      <td>3</td>\n",
              "      <td>0</td>\n",
              "      <td>96.29</td>\n",
              "      <td>1</td>\n",
              "      <td>v Bangladesh</td>\n",
              "      <td>Birmingham</td>\n",
              "      <td>2019-02-07</td>\n",
              "      <td>India</td>\n",
              "      <td>0.0</td>\n",
              "      <td>0.0</td>\n",
              "      <td>0-49</td>\n",
              "      <td>NaN</td>\n",
              "      <td>NaN</td>\n",
              "      <td>NaN</td>\n",
              "      <td>NaN</td>\n",
              "      <td>NaN</td>\n",
              "      <td>NaN</td>\n",
              "      <td>NaN</td>\n",
              "      <td>NaN</td>\n",
              "      <td>NaN</td>\n",
              "      <td>NaN</td>\n",
              "      <td>2019</td>\n",
              "    </tr>\n",
              "    <tr>\n",
              "      <th>804</th>\n",
              "      <td>V Kohli</td>\n",
              "      <td>66</td>\n",
              "      <td>66</td>\n",
              "      <td>103</td>\n",
              "      <td>1.0</td>\n",
              "      <td>0</td>\n",
              "      <td>76</td>\n",
              "      <td>7</td>\n",
              "      <td>0</td>\n",
              "      <td>86.84</td>\n",
              "      <td>2</td>\n",
              "      <td>v England</td>\n",
              "      <td>Birmingham</td>\n",
              "      <td>2019-06-30</td>\n",
              "      <td>India</td>\n",
              "      <td>1.0</td>\n",
              "      <td>0.0</td>\n",
              "      <td>50-99</td>\n",
              "      <td>NaN</td>\n",
              "      <td>NaN</td>\n",
              "      <td>NaN</td>\n",
              "      <td>NaN</td>\n",
              "      <td>NaN</td>\n",
              "      <td>NaN</td>\n",
              "      <td>NaN</td>\n",
              "      <td>NaN</td>\n",
              "      <td>NaN</td>\n",
              "      <td>NaN</td>\n",
              "      <td>2019</td>\n",
              "    </tr>\n",
              "  </tbody>\n",
              "</table>\n",
              "</div>"
            ],
            "text/plain": [
              "    Innings Player Innings Runs Scored  Innings Runs Scored Num Innings Minutes Batted  Innings Batted Flag  Innings Not Out Flag  Innings Balls Faced Innings Boundary Fours Innings Boundary Sixes Innings Batting Strike Rate Innings Number     Opposition         Ground Innings Date Country  50's  100's Innings Runs Scored Buckets Innings Overs Bowled  Innings Bowled Flag Innings Maidens Bowled Innings Runs Conceded Innings Wickets Taken  4 Wickets  5 Wickets  10 Wickets Innings Wickets Taken Buckets Innings Economy Rate  year\n",
              "11   V Kohli        120                 120                      179                    1.0                  0                     125                  14                     1                      96                          1              v West Indies  Port of Spain 2019-11-08    India   0.0   1.0    100-149                     NaN                 NaN                   NaN                    NaN                   NaN                  NaN        NaN        NaN          NaN                           NaN                  2019\n",
              "327  V Kohli        1                   1                        8                      1.0                  0                     6                    0                      0                      16.66                       2              v New Zealand  Manchester    2019-09-07    India   0.0   0.0    0-49                        NaN                 NaN                   NaN                    NaN                   NaN                  NaN        NaN        NaN          NaN                           NaN                  2019\n",
              "420  V Kohli        34*                 34                       61                     1.0                  1                     41                   3                      0                      82.92                       2              v Sri Lanka    Leeds         2019-06-07    India   0.0   0.0    0-49                        NaN                 NaN                   NaN                    NaN                   NaN                  NaN        NaN        NaN          NaN                           NaN                  2019\n",
              "664  V Kohli        26                  26                       45                     1.0                  0                     27                   3                      0                      96.29                       1              v Bangladesh   Birmingham    2019-02-07    India   0.0   0.0    0-49                        NaN                 NaN                   NaN                    NaN                   NaN                  NaN        NaN        NaN          NaN                           NaN                  2019\n",
              "804  V Kohli        66                  66                       103                    1.0                  0                     76                   7                      0                      86.84                       2              v England      Birmingham    2019-06-30    India   1.0   0.0    50-99                       NaN                 NaN                   NaN                    NaN                   NaN                  NaN        NaN        NaN          NaN                           NaN                  2019"
            ]
          },
          "metadata": {},
          "execution_count": 31
        }
      ]
    },
    {
      "cell_type": "code",
      "metadata": {
        "colab": {
          "base_uri": "https://localhost:8080/"
        },
        "id": "iBSZUL82jph1",
        "outputId": "20b24632-1ead-4fc0-d7e1-796b6a95b74f"
      },
      "source": [
        "# Sum of Innings Runs Scored Num by SR Tendulkar\n",
        "\n",
        "sum(sdf['Innings Runs Scored Num'])"
      ],
      "execution_count": 32,
      "outputs": [
        {
          "output_type": "execute_result",
          "data": {
            "text/plain": [
              "11818"
            ]
          },
          "metadata": {},
          "execution_count": 32
        }
      ]
    },
    {
      "cell_type": "code",
      "metadata": {
        "colab": {
          "base_uri": "https://localhost:8080/"
        },
        "id": "Ceke1D2gj8n7",
        "outputId": "ae99f7ad-2460-4e1b-8bdd-183c7f311a74"
      },
      "source": [
        "# Sum of Innings Runs Scored Num by V Kohli\n",
        "sum(kdf['Innings Runs Scored Num'])"
      ],
      "execution_count": 33,
      "outputs": [
        {
          "output_type": "execute_result",
          "data": {
            "text/plain": [
              "11247"
            ]
          },
          "metadata": {},
          "execution_count": 33
        }
      ]
    },
    {
      "cell_type": "code",
      "metadata": {
        "colab": {
          "base_uri": "https://localhost:8080/"
        },
        "id": "Y_BM_FoMkCx6",
        "outputId": "edc3cf4b-08c8-4d06-af46-6603df52c7d7"
      },
      "source": [
        "# Total number of balls faced by Sachin\n",
        "sum(sdf['Innings Balls Faced'])"
      ],
      "execution_count": 34,
      "outputs": [
        {
          "output_type": "execute_result",
          "data": {
            "text/plain": [
              "13397"
            ]
          },
          "metadata": {},
          "execution_count": 34
        }
      ]
    },
    {
      "cell_type": "code",
      "metadata": {
        "colab": {
          "base_uri": "https://localhost:8080/"
        },
        "id": "aJphG82Ok0Ku",
        "outputId": "c184f600-169f-4406-dd17-6eaffc1733ac"
      },
      "source": [
        "# Total number of balls faced by Kohli\n",
        "sum(kdf['Innings Balls Faced'])"
      ],
      "execution_count": 35,
      "outputs": [
        {
          "output_type": "execute_result",
          "data": {
            "text/plain": [
              "12021"
            ]
          },
          "metadata": {},
          "execution_count": 35
        }
      ]
    },
    {
      "cell_type": "code",
      "metadata": {
        "id": "gBm4C1j_ljHR"
      },
      "source": [
        "# Runs per innings = Total Runs / Total innings"
      ],
      "execution_count": 36,
      "outputs": []
    },
    {
      "cell_type": "code",
      "metadata": {
        "colab": {
          "base_uri": "https://localhost:8080/"
        },
        "id": "t8-1X1Ctk7Gl",
        "outputId": "2a37d94a-29fd-44cb-d1f7-4fceb1cffcb5"
      },
      "source": [
        "\n",
        "# Sachin's RPI\n",
        "\n",
        "total_runs_sachin = sum(sdf['Innings Runs Scored Num'])\n",
        "total_innings_sachin = len(sdf)\n",
        "sachin_RPI = (total_runs_sachin/total_innings_sachin)\n",
        "sachin_RPI"
      ],
      "execution_count": 37,
      "outputs": [
        {
          "output_type": "execute_result",
          "data": {
            "text/plain": [
              "43.608856088560884"
            ]
          },
          "metadata": {},
          "execution_count": 37
        }
      ]
    },
    {
      "cell_type": "code",
      "metadata": {
        "colab": {
          "base_uri": "https://localhost:8080/"
        },
        "id": "Rt05hkPFlNGC",
        "outputId": "54dc8474-1558-46fc-816f-7579f8a3a229"
      },
      "source": [
        "# kohli's RPI\n",
        "\n",
        "total_runs_kohli = sum(kdf['Innings Runs Scored Num'])\n",
        "total_innings_kohli = len(kdf)\n",
        "kohli_RPI = (total_runs_kohli/total_innings_kohli)\n",
        "kohli_RPI"
      ],
      "execution_count": 38,
      "outputs": [
        {
          "output_type": "execute_result",
          "data": {
            "text/plain": [
              "50.20982142857143"
            ]
          },
          "metadata": {},
          "execution_count": 38
        }
      ]
    },
    {
      "cell_type": "code",
      "metadata": {
        "id": "9ffejtGFlxsN"
      },
      "source": [
        "# Strikerate = 100* (Total Runs / Total balls)"
      ],
      "execution_count": 39,
      "outputs": []
    },
    {
      "cell_type": "code",
      "metadata": {
        "colab": {
          "base_uri": "https://localhost:8080/"
        },
        "id": "j2nAINh8mnKL",
        "outputId": "efeb9f98-b166-4746-fb48-07f4dcd24437"
      },
      "source": [
        "# Sachin's strikerate\n",
        "sachin_sr = 100*(total_runs_sachin/sum(sdf['Innings Balls Faced']))\n",
        "sachin_sr"
      ],
      "execution_count": 40,
      "outputs": [
        {
          "output_type": "execute_result",
          "data": {
            "text/plain": [
              "88.21377920429947"
            ]
          },
          "metadata": {},
          "execution_count": 40
        }
      ]
    },
    {
      "cell_type": "code",
      "metadata": {
        "colab": {
          "base_uri": "https://localhost:8080/"
        },
        "id": "TkOWrjGcmzDj",
        "outputId": "3f37fc21-37e0-4a72-bc39-2f464eb07579"
      },
      "source": [
        "# Virat's strikerate\n",
        "virat_sr = 100*(total_runs_kohli/sum(kdf['Innings Balls Faced']))\n",
        "virat_sr"
      ],
      "execution_count": 41,
      "outputs": [
        {
          "output_type": "execute_result",
          "data": {
            "text/plain": [
              "93.56126778138258"
            ]
          },
          "metadata": {},
          "execution_count": 41
        }
      ]
    },
    {
      "cell_type": "code",
      "metadata": {
        "colab": {
          "base_uri": "https://localhost:8080/"
        },
        "id": "CJSyoKl4nAqy",
        "outputId": "2d0bdb89-d6ff-407f-87dd-e8df25553720"
      },
      "source": [
        "# 100's\n",
        "\n",
        "virat_hund = sum(kdf[\"100's\"])\n",
        "sachin_hund = sum(sdf[\"100's\"])\n",
        "print('(',virat_hund,',',sachin_hund,')')"
      ],
      "execution_count": 42,
      "outputs": [
        {
          "output_type": "stream",
          "name": "stdout",
          "text": [
            "( 42.0 , 37.0 )\n"
          ]
        }
      ]
    },
    {
      "cell_type": "code",
      "metadata": {
        "colab": {
          "base_uri": "https://localhost:8080/"
        },
        "id": "QsJYqot_nTAV",
        "outputId": "5049b991-99bc-4311-df82-00e520208c24"
      },
      "source": [
        "# 50's\n",
        "sum(kdf[\"50's\"]),sum(sdf[\"50's\"])"
      ],
      "execution_count": 43,
      "outputs": [
        {
          "output_type": "execute_result",
          "data": {
            "text/plain": [
              "(53.0, 57.0)"
            ]
          },
          "metadata": {},
          "execution_count": 43
        }
      ]
    },
    {
      "cell_type": "code",
      "metadata": {
        "colab": {
          "base_uri": "https://localhost:8080/"
        },
        "id": "sgwOXRzrn23M",
        "outputId": "2ea8e082-524e-413f-e012-4225d2ebdc50"
      },
      "source": [
        "# Team contribution = Players Runs , Team Runs\n",
        "\n",
        "# Runs scored by each player - Virat and Sachin\n",
        "sum(kdf['Innings Runs Scored Num']),sum(sdf['Innings Runs Scored Num'])"
      ],
      "execution_count": 44,
      "outputs": [
        {
          "output_type": "execute_result",
          "data": {
            "text/plain": [
              "(11247, 11818)"
            ]
          },
          "metadata": {},
          "execution_count": 44
        }
      ]
    },
    {
      "cell_type": "code",
      "metadata": {
        "colab": {
          "base_uri": "https://localhost:8080/"
        },
        "id": "jSjO8wvXoQsr",
        "outputId": "e87a38bb-9e67-4b7a-8e95-c990e9c3967a"
      },
      "source": [
        "# 1994-2004 all players data\n",
        "\n",
        "# Total number of runs scored by Indians in Sachin DF\n",
        "# sachin_df.head()\n",
        "\n",
        "sum(sachin_df[sachin_df.Country == 'India']['Innings Runs Scored Num'])"
      ],
      "execution_count": 45,
      "outputs": [
        {
          "output_type": "execute_result",
          "data": {
            "text/plain": [
              "69715"
            ]
          },
          "metadata": {},
          "execution_count": 45
        }
      ]
    },
    {
      "cell_type": "code",
      "metadata": {
        "colab": {
          "base_uri": "https://localhost:8080/"
        },
        "id": "emWc_dwpocOS",
        "outputId": "b1519e9f-48f8-40eb-a805-fc31b5d0db75"
      },
      "source": [
        "# 2009-2019 all players data\n",
        "# Total number of runs scored by Indians in Virat DF\n",
        "\n",
        "sum(virat_df[virat_df.Country == 'India']['Innings Runs Scored Num'])"
      ],
      "execution_count": 46,
      "outputs": [
        {
          "output_type": "execute_result",
          "data": {
            "text/plain": [
              "63867"
            ]
          },
          "metadata": {},
          "execution_count": 46
        }
      ]
    },
    {
      "cell_type": "code",
      "metadata": {
        "colab": {
          "base_uri": "https://localhost:8080/"
        },
        "id": "NKtMIKUApwdT",
        "outputId": "20d6d76f-16f1-4684-e779-44c38d4ae705"
      },
      "source": [
        "# Sachin's Run contribution\n",
        "100* (sum(sdf['Innings Runs Scored Num'])/sum(sachin_df[sachin_df.Country == 'India']['Innings Runs Scored Num']))\n"
      ],
      "execution_count": 47,
      "outputs": [
        {
          "output_type": "execute_result",
          "data": {
            "text/plain": [
              "16.951875493078962"
            ]
          },
          "metadata": {},
          "execution_count": 47
        }
      ]
    },
    {
      "cell_type": "code",
      "metadata": {
        "colab": {
          "base_uri": "https://localhost:8080/"
        },
        "id": "qfsNMidoqDkp",
        "outputId": "dfe30b23-8bce-4469-8ed7-1c50e0eea03a"
      },
      "source": [
        "# Kohli's Run contribution\n",
        "\n",
        "100* (sum(kdf['Innings Runs Scored Num'])/sum(virat_df[virat_df.Country == 'India']['Innings Runs Scored Num']))\n"
      ],
      "execution_count": 48,
      "outputs": [
        {
          "output_type": "execute_result",
          "data": {
            "text/plain": [
              "17.610033350556627"
            ]
          },
          "metadata": {},
          "execution_count": 48
        }
      ]
    },
    {
      "cell_type": "markdown",
      "metadata": {
        "id": "evAybbovskW0"
      },
      "source": [
        "# Visualization"
      ]
    },
    {
      "cell_type": "code",
      "metadata": {
        "colab": {
          "base_uri": "https://localhost:8080/"
        },
        "id": "k1QkuP-evaxl",
        "outputId": "9bc797be-69db-41a8-b1bb-2fde020bed70"
      },
      "source": [
        "sachin_df.groupby(['Innings Player'])['Innings Runs Scored Num'].sum().sort_values(ascending= False).head(10)"
      ],
      "execution_count": 49,
      "outputs": [
        {
          "output_type": "execute_result",
          "data": {
            "text/plain": [
              "Innings Player\n",
              "SR Tendulkar      11818\n",
              "SC Ganguly        9911 \n",
              "ST Jayasuriya     9297 \n",
              "Inzamam-ul-Haq    8561 \n",
              "R Dravid          7751 \n",
              "RT Ponting        7422 \n",
              "Saeed Anwar       7320 \n",
              "JH Kallis         7267 \n",
              "MS Atapattu       7253 \n",
              "MG Bevan          6912 \n",
              "Name: Innings Runs Scored Num, dtype: int64"
            ]
          },
          "metadata": {},
          "execution_count": 49
        }
      ]
    },
    {
      "cell_type": "code",
      "metadata": {
        "colab": {
          "base_uri": "https://localhost:8080/",
          "height": 265
        },
        "id": "b4HgmZopqP-d",
        "outputId": "27ce3ed9-9d3f-413b-fda6-2fc6969c3e44"
      },
      "source": [
        "sachin_df.groupby(['Innings Player'])['Innings Runs Scored Num'].sum().sort_values(ascending= False).head(10).plot(kind='barh')\n",
        "plt.show()"
      ],
      "execution_count": 50,
      "outputs": [
        {
          "output_type": "display_data",
          "data": {
            "image/png": "[encoded data removed]",
            "text/plain": [
              "<Figure size 432x288 with 1 Axes>"
            ]
          },
          "metadata": {
            "needs_background": "light"
          }
        }
      ]
    },
    {
      "cell_type": "code",
      "metadata": {
        "colab": {
          "base_uri": "https://localhost:8080/"
        },
        "id": "sDeqCspRvdzz",
        "outputId": "a2fc2533-1320-4598-df45-98a6a87ad68a"
      },
      "source": [
        "virat_df.groupby(['Innings Player'])['Innings Runs Scored Num'].sum().sort_values(ascending= False).head(10)"
      ],
      "execution_count": 51,
      "outputs": [
        {
          "output_type": "execute_result",
          "data": {
            "text/plain": [
              "Innings Player\n",
              "V Kohli           11247\n",
              "RG Sharma         8083 \n",
              "HM Amla           7745 \n",
              "TM Dilshan        7296 \n",
              "KC Sangakkara     7275 \n",
              "AB de Villiers    7247 \n",
              "LRPL Taylor       7059 \n",
              "MS Dhoni          6838 \n",
              "EJG Morgan        6748 \n",
              "MJ Guptill        6626 \n",
              "Name: Innings Runs Scored Num, dtype: int64"
            ]
          },
          "metadata": {},
          "execution_count": 51
        }
      ]
    },
    {
      "cell_type": "code",
      "metadata": {
        "colab": {
          "base_uri": "https://localhost:8080/",
          "height": 265
        },
        "id": "jv0p3Z8GsJtT",
        "outputId": "1b2910c1-d695-411d-d0b1-520e23d53df7"
      },
      "source": [
        "virat_df.groupby(['Innings Player'])['Innings Runs Scored Num'].sum().sort_values(ascending= False).head(10).plot(kind='barh')\n",
        "plt.show()"
      ],
      "execution_count": 52,
      "outputs": [
        {
          "output_type": "display_data",
          "data": {
            "image/png": "[encoded data removed]",
            "text/plain": [
              "<Figure size 432x288 with 1 Axes>"
            ]
          },
          "metadata": {
            "needs_background": "light"
          }
        }
      ]
    },
    {
      "cell_type": "code",
      "metadata": {
        "colab": {
          "base_uri": "https://localhost:8080/",
          "height": 360
        },
        "id": "_R0tc_SEusOc",
        "outputId": "a16cb183-8669-41f8-c9c0-341e6182baf6"
      },
      "source": [
        "sdf.head()"
      ],
      "execution_count": 53,
      "outputs": [
        {
          "output_type": "execute_result",
          "data": {
            "text/html": [
              "<div>\n",
              "<style scoped>\n",
              "    .dataframe tbody tr th:only-of-type {\n",
              "        vertical-align: middle;\n",
              "    }\n",
              "\n",
              "    .dataframe tbody tr th {\n",
              "        vertical-align: top;\n",
              "    }\n",
              "\n",
              "    .dataframe thead th {\n",
              "        text-align: right;\n",
              "    }\n",
              "</style>\n",
              "<table border=\"1\" class=\"dataframe\">\n",
              "  <thead>\n",
              "    <tr style=\"text-align: right;\">\n",
              "      <th></th>\n",
              "      <th>Innings Player</th>\n",
              "      <th>Innings Runs Scored</th>\n",
              "      <th>Innings Runs Scored Num</th>\n",
              "      <th>Innings Minutes Batted</th>\n",
              "      <th>Innings Batted Flag</th>\n",
              "      <th>Innings Not Out Flag</th>\n",
              "      <th>Innings Balls Faced</th>\n",
              "      <th>Innings Boundary Fours</th>\n",
              "      <th>Innings Boundary Sixes</th>\n",
              "      <th>Innings Batting Strike Rate</th>\n",
              "      <th>Innings Number</th>\n",
              "      <th>Opposition</th>\n",
              "      <th>Ground</th>\n",
              "      <th>Innings Date</th>\n",
              "      <th>Country</th>\n",
              "      <th>50's</th>\n",
              "      <th>100's</th>\n",
              "      <th>Innings Runs Scored Buckets</th>\n",
              "      <th>Innings Overs Bowled</th>\n",
              "      <th>Innings Bowled Flag</th>\n",
              "      <th>Innings Maidens Bowled</th>\n",
              "      <th>Innings Runs Conceded</th>\n",
              "      <th>Innings Wickets Taken</th>\n",
              "      <th>4 Wickets</th>\n",
              "      <th>5 Wickets</th>\n",
              "      <th>10 Wickets</th>\n",
              "      <th>Innings Wickets Taken Buckets</th>\n",
              "      <th>Innings Economy Rate</th>\n",
              "      <th>year</th>\n",
              "    </tr>\n",
              "  </thead>\n",
              "  <tbody>\n",
              "    <tr>\n",
              "      <th>77614</th>\n",
              "      <td>SR Tendulkar</td>\n",
              "      <td>47</td>\n",
              "      <td>47</td>\n",
              "      <td>60</td>\n",
              "      <td>1.0</td>\n",
              "      <td>0</td>\n",
              "      <td>42</td>\n",
              "      <td>9</td>\n",
              "      <td>0</td>\n",
              "      <td>111.9</td>\n",
              "      <td>1</td>\n",
              "      <td>v Bangladesh</td>\n",
              "      <td>Dhaka</td>\n",
              "      <td>2004-12-27</td>\n",
              "      <td>India</td>\n",
              "      <td>0.0</td>\n",
              "      <td>0.0</td>\n",
              "      <td>0-49</td>\n",
              "      <td>NaN</td>\n",
              "      <td>NaN</td>\n",
              "      <td>NaN</td>\n",
              "      <td>NaN</td>\n",
              "      <td>NaN</td>\n",
              "      <td>NaN</td>\n",
              "      <td>NaN</td>\n",
              "      <td>NaN</td>\n",
              "      <td>NaN</td>\n",
              "      <td>NaN</td>\n",
              "      <td>2004</td>\n",
              "    </tr>\n",
              "    <tr>\n",
              "      <th>77747</th>\n",
              "      <td>SR Tendulkar</td>\n",
              "      <td>19</td>\n",
              "      <td>19</td>\n",
              "      <td>46</td>\n",
              "      <td>1.0</td>\n",
              "      <td>0</td>\n",
              "      <td>32</td>\n",
              "      <td>3</td>\n",
              "      <td>0</td>\n",
              "      <td>59.37</td>\n",
              "      <td>1</td>\n",
              "      <td>v Bangladesh</td>\n",
              "      <td>Chattogram</td>\n",
              "      <td>2004-12-23</td>\n",
              "      <td>India</td>\n",
              "      <td>0.0</td>\n",
              "      <td>0.0</td>\n",
              "      <td>0-49</td>\n",
              "      <td>NaN</td>\n",
              "      <td>NaN</td>\n",
              "      <td>NaN</td>\n",
              "      <td>NaN</td>\n",
              "      <td>NaN</td>\n",
              "      <td>NaN</td>\n",
              "      <td>NaN</td>\n",
              "      <td>NaN</td>\n",
              "      <td>NaN</td>\n",
              "      <td>NaN</td>\n",
              "      <td>2004</td>\n",
              "    </tr>\n",
              "    <tr>\n",
              "      <th>78054</th>\n",
              "      <td>SR Tendulkar</td>\n",
              "      <td>16</td>\n",
              "      <td>16</td>\n",
              "      <td>30</td>\n",
              "      <td>1.0</td>\n",
              "      <td>0</td>\n",
              "      <td>17</td>\n",
              "      <td>2</td>\n",
              "      <td>0</td>\n",
              "      <td>94.11</td>\n",
              "      <td>1</td>\n",
              "      <td>v Pakistan</td>\n",
              "      <td>Kolkata</td>\n",
              "      <td>2004-11-13</td>\n",
              "      <td>India</td>\n",
              "      <td>0.0</td>\n",
              "      <td>0.0</td>\n",
              "      <td>0-49</td>\n",
              "      <td>NaN</td>\n",
              "      <td>NaN</td>\n",
              "      <td>NaN</td>\n",
              "      <td>NaN</td>\n",
              "      <td>NaN</td>\n",
              "      <td>NaN</td>\n",
              "      <td>NaN</td>\n",
              "      <td>NaN</td>\n",
              "      <td>NaN</td>\n",
              "      <td>NaN</td>\n",
              "      <td>2004</td>\n",
              "    </tr>\n",
              "    <tr>\n",
              "      <th>79590</th>\n",
              "      <td>SR Tendulkar</td>\n",
              "      <td>74</td>\n",
              "      <td>74</td>\n",
              "      <td>170</td>\n",
              "      <td>1.0</td>\n",
              "      <td>0</td>\n",
              "      <td>100</td>\n",
              "      <td>7</td>\n",
              "      <td>1</td>\n",
              "      <td>74</td>\n",
              "      <td>2</td>\n",
              "      <td>v Sri Lanka</td>\n",
              "      <td>Colombo (RPS)</td>\n",
              "      <td>2004-01-08</td>\n",
              "      <td>India</td>\n",
              "      <td>1.0</td>\n",
              "      <td>0.0</td>\n",
              "      <td>50-99</td>\n",
              "      <td>NaN</td>\n",
              "      <td>NaN</td>\n",
              "      <td>NaN</td>\n",
              "      <td>NaN</td>\n",
              "      <td>NaN</td>\n",
              "      <td>NaN</td>\n",
              "      <td>NaN</td>\n",
              "      <td>NaN</td>\n",
              "      <td>NaN</td>\n",
              "      <td>NaN</td>\n",
              "      <td>2004</td>\n",
              "    </tr>\n",
              "    <tr>\n",
              "      <th>79681</th>\n",
              "      <td>SR Tendulkar</td>\n",
              "      <td>18</td>\n",
              "      <td>18</td>\n",
              "      <td>30</td>\n",
              "      <td>1.0</td>\n",
              "      <td>0</td>\n",
              "      <td>21</td>\n",
              "      <td>3</td>\n",
              "      <td>0</td>\n",
              "      <td>85.71</td>\n",
              "      <td>1</td>\n",
              "      <td>v Sri Lanka</td>\n",
              "      <td>Colombo (RPS)</td>\n",
              "      <td>2004-07-27</td>\n",
              "      <td>India</td>\n",
              "      <td>0.0</td>\n",
              "      <td>0.0</td>\n",
              "      <td>0-49</td>\n",
              "      <td>NaN</td>\n",
              "      <td>NaN</td>\n",
              "      <td>NaN</td>\n",
              "      <td>NaN</td>\n",
              "      <td>NaN</td>\n",
              "      <td>NaN</td>\n",
              "      <td>NaN</td>\n",
              "      <td>NaN</td>\n",
              "      <td>NaN</td>\n",
              "      <td>NaN</td>\n",
              "      <td>2004</td>\n",
              "    </tr>\n",
              "  </tbody>\n",
              "</table>\n",
              "</div>"
            ],
            "text/plain": [
              "      Innings Player Innings Runs Scored  Innings Runs Scored Num Innings Minutes Batted  Innings Batted Flag  Innings Not Out Flag  Innings Balls Faced Innings Boundary Fours Innings Boundary Sixes Innings Batting Strike Rate Innings Number    Opposition         Ground Innings Date Country  50's  100's Innings Runs Scored Buckets Innings Overs Bowled  Innings Bowled Flag Innings Maidens Bowled Innings Runs Conceded Innings Wickets Taken  4 Wickets  5 Wickets  10 Wickets Innings Wickets Taken Buckets Innings Economy Rate  year\n",
              "77614  SR Tendulkar   47                  47                       60                     1.0                  0                     42                   9                      0                      111.9                       1              v Bangladesh  Dhaka         2004-12-27    India   0.0   0.0    0-49                        NaN                 NaN                   NaN                    NaN                   NaN                  NaN        NaN        NaN          NaN                           NaN                  2004\n",
              "77747  SR Tendulkar   19                  19                       46                     1.0                  0                     32                   3                      0                      59.37                       1              v Bangladesh  Chattogram    2004-12-23    India   0.0   0.0    0-49                        NaN                 NaN                   NaN                    NaN                   NaN                  NaN        NaN        NaN          NaN                           NaN                  2004\n",
              "78054  SR Tendulkar   16                  16                       30                     1.0                  0                     17                   2                      0                      94.11                       1              v Pakistan    Kolkata       2004-11-13    India   0.0   0.0    0-49                        NaN                 NaN                   NaN                    NaN                   NaN                  NaN        NaN        NaN          NaN                           NaN                  2004\n",
              "79590  SR Tendulkar   74                  74                       170                    1.0                  0                     100                  7                      1                      74                          2              v Sri Lanka   Colombo (RPS) 2004-01-08    India   1.0   0.0    50-99                       NaN                 NaN                   NaN                    NaN                   NaN                  NaN        NaN        NaN          NaN                           NaN                  2004\n",
              "79681  SR Tendulkar   18                  18                       30                     1.0                  0                     21                   3                      0                      85.71                       1              v Sri Lanka   Colombo (RPS) 2004-07-27    India   0.0   0.0    0-49                        NaN                 NaN                   NaN                    NaN                   NaN                  NaN        NaN        NaN          NaN                           NaN                  2004"
            ]
          },
          "metadata": {},
          "execution_count": 53
        }
      ]
    },
    {
      "cell_type": "code",
      "metadata": {
        "colab": {
          "base_uri": "https://localhost:8080/"
        },
        "id": "ChLtRl_67one",
        "outputId": "3f0a893b-ef7e-4c33-db2f-36ff47eb63e3"
      },
      "source": [
        "sdf.groupby(['year'])['Innings Runs Scored Num'].sum()"
      ],
      "execution_count": 54,
      "outputs": [
        {
          "output_type": "execute_result",
          "data": {
            "text/plain": [
              "year\n",
              "1994    1089\n",
              "1995    444 \n",
              "1996    1611\n",
              "1997    1011\n",
              "1998    1894\n",
              "1999    843 \n",
              "2000    1328\n",
              "2001    904 \n",
              "2002    741 \n",
              "2003    1141\n",
              "2004    812 \n",
              "Name: Innings Runs Scored Num, dtype: int64"
            ]
          },
          "metadata": {},
          "execution_count": 54
        }
      ]
    },
    {
      "cell_type": "code",
      "metadata": {
        "colab": {
          "base_uri": "https://localhost:8080/",
          "height": 295
        },
        "id": "_qM3DKam7yhB",
        "outputId": "ee22a1b0-6467-4366-ec48-f4056f641488"
      },
      "source": [
        "sdf.groupby(['year'])['Innings Runs Scored Num'].sum().plot(kind='bar')\n",
        "plt.show()"
      ],
      "execution_count": 55,
      "outputs": [
        {
          "output_type": "display_data",
          "data": {
            "image/png": "[encoded data removed]",
            "text/plain": [
              "<Figure size 432x288 with 1 Axes>"
            ]
          },
          "metadata": {
            "needs_background": "light"
          }
        }
      ]
    },
    {
      "cell_type": "code",
      "metadata": {
        "colab": {
          "base_uri": "https://localhost:8080/"
        },
        "id": "n9swoSd98MtQ",
        "outputId": "0456138a-5823-4390-a06b-7d9f8efeb244"
      },
      "source": [
        "kdf.groupby(['year'])['Innings Runs Scored Num'].sum()"
      ],
      "execution_count": 56,
      "outputs": [
        {
          "output_type": "execute_result",
          "data": {
            "text/plain": [
              "year\n",
              "2009    325 \n",
              "2010    995 \n",
              "2011    1381\n",
              "2012    1026\n",
              "2013    1268\n",
              "2014    1054\n",
              "2015    623 \n",
              "2016    739 \n",
              "2017    1460\n",
              "2018    1202\n",
              "2019    1174\n",
              "Name: Innings Runs Scored Num, dtype: int64"
            ]
          },
          "metadata": {},
          "execution_count": 56
        }
      ]
    },
    {
      "cell_type": "code",
      "metadata": {
        "colab": {
          "base_uri": "https://localhost:8080/",
          "height": 295
        },
        "id": "w5TTa0dK742D",
        "outputId": "f2f5a1b5-fa2f-4596-fc5f-298af8e82d53"
      },
      "source": [
        "kdf.groupby(['year'])['Innings Runs Scored Num'].sum().plot(kind='bar')\n",
        "plt.show()"
      ],
      "execution_count": 57,
      "outputs": [
        {
          "output_type": "display_data",
          "data": {
            "image/png": "[encoded data removed]",
            "text/plain": [
              "<Figure size 432x288 with 1 Axes>"
            ]
          },
          "metadata": {
            "needs_background": "light"
          }
        }
      ]
    },
    {
      "cell_type": "markdown",
      "metadata": {
        "id": "Rs9GhQMQ8hnK"
      },
      "source": [
        "# Normalization \n",
        "\n"
      ]
    },
    {
      "cell_type": "code",
      "metadata": {
        "colab": {
          "base_uri": "https://localhost:8080/"
        },
        "id": "Zx3aJoG08nT7",
        "outputId": "4858241b-b23c-4cad-9e9e-34e58942bec6"
      },
      "source": [
        "# RPI -Kohli, Sachin\n",
        "\n",
        "sum(kdf['Innings Runs Scored Num'])/len(kdf),sum(sdf['Innings Runs Scored Num'])/len(sdf)"
      ],
      "execution_count": 58,
      "outputs": [
        {
          "output_type": "execute_result",
          "data": {
            "text/plain": [
              "(50.20982142857143, 43.608856088560884)"
            ]
          },
          "metadata": {},
          "execution_count": 58
        }
      ]
    },
    {
      "cell_type": "code",
      "metadata": {
        "colab": {
          "base_uri": "https://localhost:8080/"
        },
        "id": "y2ZDmsJ7877W",
        "outputId": "9f5c6c7a-fd69-4c12-c907-b08f28ccd9a5"
      },
      "source": [
        "sum(virat_df['Innings Runs Scored Num'])/len(virat_df)"
      ],
      "execution_count": 59,
      "outputs": [
        {
          "output_type": "execute_result",
          "data": {
            "text/plain": [
              "24.99673202614379"
            ]
          },
          "metadata": {},
          "execution_count": 59
        }
      ]
    },
    {
      "cell_type": "code",
      "metadata": {
        "id": "zR0yRKvn9Wpg"
      },
      "source": [
        "non_kohli_df = virat_df[virat_df['Innings Player'] != 'V Kohli']"
      ],
      "execution_count": 60,
      "outputs": []
    },
    {
      "cell_type": "code",
      "metadata": {
        "id": "_0nTpnD093em"
      },
      "source": [
        "non_sachin_df = sachin_df[sachin_df['Innings Player'] != 'SR Tendulkar']"
      ],
      "execution_count": 61,
      "outputs": []
    },
    {
      "cell_type": "markdown",
      "metadata": {
        "id": "oea3Yt26-k93"
      },
      "source": [
        ""
      ]
    },
    {
      "cell_type": "code",
      "metadata": {
        "colab": {
          "base_uri": "https://localhost:8080/"
        },
        "id": "ekcAg3Pt9mgi",
        "outputId": "a59c3c5f-107c-47f5-d26d-bb6ba1b96f82"
      },
      "source": [
        "sum(non_kohli_df['Innings Runs Scored Num'])/len(non_kohli_df)"
      ],
      "execution_count": 62,
      "outputs": [
        {
          "output_type": "execute_result",
          "data": {
            "text/plain": [
              "24.737756786500366"
            ]
          },
          "metadata": {},
          "execution_count": 62
        }
      ]
    },
    {
      "cell_type": "code",
      "metadata": {
        "id": "5CuqTMrq-lee"
      },
      "source": [
        ""
      ],
      "execution_count": 62,
      "outputs": []
    },
    {
      "cell_type": "code",
      "metadata": {
        "colab": {
          "base_uri": "https://localhost:8080/"
        },
        "id": "lBYvneRc-jCO",
        "outputId": "29a6848b-7e25-422f-d2dc-5d7c22b74186"
      },
      "source": [
        "sum(non_sachin_df['Innings Runs Scored Num'])/len(non_sachin_df)"
      ],
      "execution_count": 63,
      "outputs": [
        {
          "output_type": "execute_result",
          "data": {
            "text/plain": [
              "22.43512946754194"
            ]
          },
          "metadata": {},
          "execution_count": 63
        }
      ]
    },
    {
      "cell_type": "code",
      "metadata": {
        "colab": {
          "base_uri": "https://localhost:8080/"
        },
        "id": "AGVjYSUc9s8Z",
        "outputId": "236e0aa7-46b3-4fad-ecff-5eb7223df52b"
      },
      "source": [
        "# If team virat_df avarage is 25 when Kohli score 50\n",
        "# Average of kohli df / Average of non Kohli df\n",
        "sum(kdf['Innings Runs Scored Num'])/len(kdf)/(sum(non_kohli_df['Innings Runs Scored Num'])/len(non_kohli_df))"
      ],
      "execution_count": 64,
      "outputs": [
        {
          "output_type": "execute_result",
          "data": {
            "text/plain": [
              "2.029683688052565"
            ]
          },
          "metadata": {},
          "execution_count": 64
        }
      ]
    },
    {
      "cell_type": "code",
      "metadata": {
        "colab": {
          "base_uri": "https://localhost:8080/"
        },
        "id": "eHmtHlcN-Ieb",
        "outputId": "302e9d8b-2ff1-470b-bd27-d6734880ebc5"
      },
      "source": [
        "# Average of Sachin df / Average of non Sachin df\n",
        "sum(sdf['Innings Runs Scored Num'])/len(sdf)/(sum(non_sachin_df['Innings Runs Scored Num'])/len(non_sachin_df))"
      ],
      "execution_count": 65,
      "outputs": [
        {
          "output_type": "execute_result",
          "data": {
            "text/plain": [
              "1.9437755485945407"
            ]
          },
          "metadata": {},
          "execution_count": 65
        }
      ]
    },
    {
      "cell_type": "code",
      "metadata": {
        "id": "56b5Zvjl-rka"
      },
      "source": [
        "# Kohli vs Other\n",
        "# SR :  VK/Other  ST/other\n",
        "# 100's => Number of matches to score a 100\n",
        "# 50's => Number of matches to score a 50\n",
        "# Teams contribution   V/others and Sachin/others"
      ],
      "execution_count": 66,
      "outputs": []
    },
    {
      "cell_type": "markdown",
      "metadata": {
        "id": "Nf78Hj_rBpfa"
      },
      "source": [
        "# Strikerate:"
      ]
    },
    {
      "cell_type": "code",
      "metadata": {
        "colab": {
          "base_uri": "https://localhost:8080/",
          "height": 168
        },
        "id": "u79yKbuY-r-9",
        "outputId": "7eec1b0f-73b8-4687-d230-2bd9616c4bf3"
      },
      "source": [
        "kdf.head(1)"
      ],
      "execution_count": 67,
      "outputs": [
        {
          "output_type": "execute_result",
          "data": {
            "text/html": [
              "<div>\n",
              "<style scoped>\n",
              "    .dataframe tbody tr th:only-of-type {\n",
              "        vertical-align: middle;\n",
              "    }\n",
              "\n",
              "    .dataframe tbody tr th {\n",
              "        vertical-align: top;\n",
              "    }\n",
              "\n",
              "    .dataframe thead th {\n",
              "        text-align: right;\n",
              "    }\n",
              "</style>\n",
              "<table border=\"1\" class=\"dataframe\">\n",
              "  <thead>\n",
              "    <tr style=\"text-align: right;\">\n",
              "      <th></th>\n",
              "      <th>Innings Player</th>\n",
              "      <th>Innings Runs Scored</th>\n",
              "      <th>Innings Runs Scored Num</th>\n",
              "      <th>Innings Minutes Batted</th>\n",
              "      <th>Innings Batted Flag</th>\n",
              "      <th>Innings Not Out Flag</th>\n",
              "      <th>Innings Balls Faced</th>\n",
              "      <th>Innings Boundary Fours</th>\n",
              "      <th>Innings Boundary Sixes</th>\n",
              "      <th>Innings Batting Strike Rate</th>\n",
              "      <th>Innings Number</th>\n",
              "      <th>Opposition</th>\n",
              "      <th>Ground</th>\n",
              "      <th>Innings Date</th>\n",
              "      <th>Country</th>\n",
              "      <th>50's</th>\n",
              "      <th>100's</th>\n",
              "      <th>Innings Runs Scored Buckets</th>\n",
              "      <th>Innings Overs Bowled</th>\n",
              "      <th>Innings Bowled Flag</th>\n",
              "      <th>Innings Maidens Bowled</th>\n",
              "      <th>Innings Runs Conceded</th>\n",
              "      <th>Innings Wickets Taken</th>\n",
              "      <th>4 Wickets</th>\n",
              "      <th>5 Wickets</th>\n",
              "      <th>10 Wickets</th>\n",
              "      <th>Innings Wickets Taken Buckets</th>\n",
              "      <th>Innings Economy Rate</th>\n",
              "      <th>year</th>\n",
              "    </tr>\n",
              "  </thead>\n",
              "  <tbody>\n",
              "    <tr>\n",
              "      <th>11</th>\n",
              "      <td>V Kohli</td>\n",
              "      <td>120</td>\n",
              "      <td>120</td>\n",
              "      <td>179</td>\n",
              "      <td>1.0</td>\n",
              "      <td>0</td>\n",
              "      <td>125</td>\n",
              "      <td>14</td>\n",
              "      <td>1</td>\n",
              "      <td>96</td>\n",
              "      <td>1</td>\n",
              "      <td>v West Indies</td>\n",
              "      <td>Port of Spain</td>\n",
              "      <td>2019-11-08</td>\n",
              "      <td>India</td>\n",
              "      <td>0.0</td>\n",
              "      <td>1.0</td>\n",
              "      <td>100-149</td>\n",
              "      <td>NaN</td>\n",
              "      <td>NaN</td>\n",
              "      <td>NaN</td>\n",
              "      <td>NaN</td>\n",
              "      <td>NaN</td>\n",
              "      <td>NaN</td>\n",
              "      <td>NaN</td>\n",
              "      <td>NaN</td>\n",
              "      <td>NaN</td>\n",
              "      <td>NaN</td>\n",
              "      <td>2019</td>\n",
              "    </tr>\n",
              "  </tbody>\n",
              "</table>\n",
              "</div>"
            ],
            "text/plain": [
              "   Innings Player Innings Runs Scored  Innings Runs Scored Num Innings Minutes Batted  Innings Batted Flag  Innings Not Out Flag  Innings Balls Faced Innings Boundary Fours Innings Boundary Sixes Innings Batting Strike Rate Innings Number     Opposition         Ground Innings Date Country  50's  100's Innings Runs Scored Buckets Innings Overs Bowled  Innings Bowled Flag Innings Maidens Bowled Innings Runs Conceded Innings Wickets Taken  4 Wickets  5 Wickets  10 Wickets Innings Wickets Taken Buckets Innings Economy Rate  year\n",
              "11  V Kohli        120                 120                      179                    1.0                  0                     125                  14                     1                      96                          1              v West Indies  Port of Spain 2019-11-08    India   0.0   1.0    100-149                     NaN                 NaN                   NaN                    NaN                   NaN                  NaN        NaN        NaN          NaN                           NaN                  2019"
            ]
          },
          "metadata": {},
          "execution_count": 67
        }
      ]
    },
    {
      "cell_type": "code",
      "metadata": {
        "id": "kcl4iSPbBy5h"
      },
      "source": [
        "# Kohli's strikerate\n",
        "kohli_str = 100*sum(kdf['Innings Runs Scored Num'])/sum(kdf['Innings Balls Faced'])"
      ],
      "execution_count": 83,
      "outputs": []
    },
    {
      "cell_type": "code",
      "metadata": {
        "id": "52dxIoMYCCn4"
      },
      "source": [
        "# strikerate of kohli's peers, i.e non-kohli\n",
        "non_kohli_str = 100*sum(non_kohli_df['Innings Runs Scored Num'])/sum(non_kohli_df['Innings Balls Faced'])"
      ],
      "execution_count": 86,
      "outputs": []
    },
    {
      "cell_type": "code",
      "metadata": {
        "id": "8V2mLSLFCgcx"
      },
      "source": [
        "# Sachin's SR\n",
        "sachin_str = 100*sum(sdf['Innings Runs Scored Num'])/sum(sdf['Innings Balls Faced'])"
      ],
      "execution_count": 87,
      "outputs": []
    },
    {
      "cell_type": "code",
      "metadata": {
        "id": "T4p_Exf7CpGh"
      },
      "source": [
        "# SR of Sachin's peers. i.e non-sachin players\n",
        "non_sachin_str = 100*sum(non_sachin_df['Innings Runs Scored Num'])/sum(non_sachin_df['Innings Balls Faced'])"
      ],
      "execution_count": 90,
      "outputs": []
    },
    {
      "cell_type": "code",
      "metadata": {
        "colab": {
          "base_uri": "https://localhost:8080/"
        },
        "id": "kwjyKjYXDGDy",
        "outputId": "e29dea32-9633-446f-dc2b-15bdf1887208"
      },
      "source": [
        "# normalize sachin's value\n",
        "sachin_str/non_sachin_str"
      ],
      "execution_count": 91,
      "outputs": [
        {
          "output_type": "execute_result",
          "data": {
            "text/plain": [
              "1.2194651528391862"
            ]
          },
          "metadata": {},
          "execution_count": 91
        }
      ]
    },
    {
      "cell_type": "code",
      "metadata": {
        "colab": {
          "base_uri": "https://localhost:8080/"
        },
        "id": "tkhQjmlVDmDK",
        "outputId": "8887d684-8bcf-42b7-d04d-7aee64e1bfb1"
      },
      "source": [
        "# normalize kohli's value\n",
        "kohli_str/non_kohli_str"
      ],
      "execution_count": 92,
      "outputs": [
        {
          "output_type": "execute_result",
          "data": {
            "text/plain": [
              "1.121468839996732"
            ]
          },
          "metadata": {},
          "execution_count": 92
        }
      ]
    },
    {
      "cell_type": "markdown",
      "metadata": {
        "id": "42_7Uph_Dz0s"
      },
      "source": [
        "# 100's: Number of matches to score a 100:"
      ]
    },
    {
      "cell_type": "code",
      "metadata": {
        "id": "ecdywoiR-Yo_"
      },
      "source": [
        "# sachin matches per 100's\n",
        "sachin_hund = len(sdf)/sum(sdf[\"100's\"])"
      ],
      "execution_count": 97,
      "outputs": []
    },
    {
      "cell_type": "code",
      "metadata": {
        "id": "2My0Al55ERFG"
      },
      "source": [
        "# sachin's peers - matches per 100's\n",
        "non_sachin_hund = len(non_sachin_df)/sum(non_sachin_df[\"100's\"])"
      ],
      "execution_count": 98,
      "outputs": []
    },
    {
      "cell_type": "code",
      "metadata": {
        "id": "2j18ZwAoCdCG"
      },
      "source": [
        "# kohli matches per 100's\n",
        "kohli_hund = len(kdf)/sum(kdf[\"100's\"])"
      ],
      "execution_count": 100,
      "outputs": []
    },
    {
      "cell_type": "code",
      "metadata": {
        "id": "C_fl6gPm_IG_"
      },
      "source": [
        "# kohli's peers - matches per 100's\n",
        "non_kohli_hund = len(non_kohli_df)/sum(non_kohli_df[\"100's\"])"
      ],
      "execution_count": 101,
      "outputs": []
    },
    {
      "cell_type": "code",
      "metadata": {
        "colab": {
          "base_uri": "https://localhost:8080/"
        },
        "id": "qLHKPI5Q_n3K",
        "outputId": "266cb66f-890e-47af-9572-1dc6de165db9"
      },
      "source": [
        "# normalize sachin's value\n",
        "sachin_hund/non_sachin_hund"
      ],
      "execution_count": 102,
      "outputs": [
        {
          "output_type": "execute_result",
          "data": {
            "text/plain": [
              "0.15459346107595562"
            ]
          },
          "metadata": {},
          "execution_count": 102
        }
      ]
    },
    {
      "cell_type": "code",
      "metadata": {
        "colab": {
          "base_uri": "https://localhost:8080/"
        },
        "id": "nAnMdeVT_5nd",
        "outputId": "aea3d937-12d2-4efe-ea58-97d9ed5ff7e3"
      },
      "source": [
        "# normalize kohli's value\n",
        "kohli_hund/non_kohli_hund"
      ],
      "execution_count": 103,
      "outputs": [
        {
          "output_type": "execute_result",
          "data": {
            "text/plain": [
              "0.18195157740278795"
            ]
          },
          "metadata": {},
          "execution_count": 103
        }
      ]
    },
    {
      "cell_type": "markdown",
      "metadata": {
        "id": "rzf2XHJmFURr"
      },
      "source": [
        "# 50's: Number of matches to score a 50"
      ]
    },
    {
      "cell_type": "code",
      "metadata": {
        "id": "C1OpGocnASce"
      },
      "source": [
        "# Sachin matches per 50's\n",
        "\n",
        "sachin_match_fifty = len(sdf)/sum(sdf[\"50's\"])"
      ],
      "execution_count": 104,
      "outputs": []
    },
    {
      "cell_type": "code",
      "metadata": {
        "id": "OcK8_iS3FmE4"
      },
      "source": [
        "# Sachin's peers -matches per 50's\n",
        "sachin_peers_matches_fifty = len(non_sachin_df)/sum(non_sachin_df[\"50's\"])"
      ],
      "execution_count": 105,
      "outputs": []
    },
    {
      "cell_type": "code",
      "metadata": {
        "id": "L2_aQbAvF1Aq"
      },
      "source": [
        "# Kohli matches per 50's\n",
        "kohli_matches_fifty = len(kdf)/sum(kdf[\"50's\"])"
      ],
      "execution_count": 106,
      "outputs": []
    },
    {
      "cell_type": "code",
      "metadata": {
        "id": "pqFscreSF_PG"
      },
      "source": [
        "# kohli's peers -matches per 50's\n",
        "kohli_peer_matches_fifty = len(non_kohli_df)/sum(non_kohli_df[\"50's\"])"
      ],
      "execution_count": 107,
      "outputs": []
    },
    {
      "cell_type": "code",
      "metadata": {
        "colab": {
          "base_uri": "https://localhost:8080/"
        },
        "id": "JpsbcSxLGMvj",
        "outputId": "3f0144ce-a2b4-4515-8d42-be1b24913981"
      },
      "source": [
        "# normalize sachin's value\n",
        "sachin_match_fifty/sachin_peers_matches_fifty"
      ],
      "execution_count": 108,
      "outputs": [
        {
          "output_type": "execute_result",
          "data": {
            "text/plain": [
              "0.5702402203539483"
            ]
          },
          "metadata": {},
          "execution_count": 108
        }
      ]
    },
    {
      "cell_type": "code",
      "metadata": {
        "colab": {
          "base_uri": "https://localhost:8080/"
        },
        "id": "Dw_7rATxGRrr",
        "outputId": "135e3a2e-d8fe-4e5b-a556-5c6358d59894"
      },
      "source": [
        "# normalize sachin's value\n",
        "kohli_matches_fifty/kohli_peer_matches_fifty"
      ],
      "execution_count": 109,
      "outputs": [
        {
          "output_type": "execute_result",
          "data": {
            "text/plain": [
              "0.5507828181453231"
            ]
          },
          "metadata": {},
          "execution_count": 109
        }
      ]
    },
    {
      "cell_type": "markdown",
      "metadata": {
        "id": "TR1F7rZDGf9V"
      },
      "source": [
        "## Team Contribution: Here we are already comparing with peers, hence no need of a normalization"
      ]
    },
    {
      "cell_type": "code",
      "metadata": {
        "colab": {
          "base_uri": "https://localhost:8080/"
        },
        "id": "qyZKMx00GV8y",
        "outputId": "87e4d54e-2356-4b9b-dd1a-ba561a49875c"
      },
      "source": [
        "# % of team runs by sachin\n",
        "(100*sum(sdf['Innings Runs Scored Num']))/(sum(non_sachin_df[non_sachin_df.Country == 'India']['Innings Runs Scored Num'])+ sum(sdf['Innings Runs Scored Num']))"
      ],
      "execution_count": 118,
      "outputs": [
        {
          "output_type": "execute_result",
          "data": {
            "text/plain": [
              "16.951875493078965"
            ]
          },
          "metadata": {},
          "execution_count": 118
        }
      ]
    },
    {
      "cell_type": "code",
      "metadata": {
        "colab": {
          "base_uri": "https://localhost:8080/"
        },
        "id": "ds2voVCzHBLG",
        "outputId": "4fa2a681-f6cd-47b0-914f-97f28ddc9ec9"
      },
      "source": [
        "# % of teams runs by kohli\n",
        "(100*sum(kdf['Innings Runs Scored Num']))/(sum(non_kohli_df[non_kohli_df.Country == 'India']['Innings Runs Scored Num'])+ sum(kdf['Innings Runs Scored Num']))"
      ],
      "execution_count": 119,
      "outputs": [
        {
          "output_type": "execute_result",
          "data": {
            "text/plain": [
              "17.610033350556627"
            ]
          },
          "metadata": {},
          "execution_count": 119
        }
      ]
    },
    {
      "cell_type": "code",
      "metadata": {
        "id": "Z6orN9p1Ihjt"
      },
      "source": [
        ""
      ],
      "execution_count": null,
      "outputs": []
    }
  ]
}