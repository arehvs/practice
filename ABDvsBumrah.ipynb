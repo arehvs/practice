{
  "nbformat": 4,
  "nbformat_minor": 0,
  "metadata": {
    "colab": {
      "name": "ABDvsBumrah.ipynb",
      "provenance": [],
      "authorship_tag": "ABX9TyNuJNIAzaAdig5dmEn31BGU",
      "include_colab_link": true
    },
    "kernelspec": {
      "name": "python3",
      "display_name": "Python 3"
    },
    "language_info": {
      "name": "python"
    }
  },
  "cells": [
    {
      "cell_type": "markdown",
      "metadata": {
        "id": "view-in-github",
        "colab_type": "text"
      },
      "source": [
        "<a href=\"https://colab.research.google.com/github/arehvs/practice/blob/main/ABDvsBumrah.ipynb\" target=\"_parent\"><img src=\"https://colab.research.google.com/assets/colab-badge.svg\" alt=\"Open In Colab\"/></a>"
      ]
    },
    {
      "cell_type": "code",
      "metadata": {
        "colab": {
          "base_uri": "https://localhost:8080/"
        },
        "id": "279SUsBySPuW",
        "outputId": "d73f3d3e-867d-4134-a5ed-178e79ca9c1a"
      },
      "source": [
        "import warnings\n",
        "warnings.filterwarnings('ignore')\n",
        "\n",
        "from google.colab import drive\n",
        "drive.mount('/content/drive')\n",
        "\n",
        "import pandas as pd\n",
        "import numpy as np\n",
        "\n",
        "import matplotlib.pyplot as plt\n",
        "\n",
        "pd.set_option('display.max_rows',None)\n",
        "pd.set_option('display.max_columns',None)\n",
        "pd.set_option('display.expand_frame.repr',False)\n",
        "pd.set_option('max_colwidth',-1)"
      ],
      "execution_count": 7,
      "outputs": [
        {
          "output_type": "stream",
          "name": "stdout",
          "text": [
            "Drive already mounted at /content/drive; to attempt to forcibly remount, call drive.mount(\"/content/drive\", force_remount=True).\n"
          ]
        }
      ]
    },
    {
      "cell_type": "code",
      "metadata": {
        "id": "gFrkV3eaUnmx"
      },
      "source": [
        "df = pd.read_csv('/content/drive/MyDrive/Colab Notebooks/CSV_files/ipl_ball_by_ball_data.csv')"
      ],
      "execution_count": 9,
      "outputs": []
    },
    {
      "cell_type": "code",
      "metadata": {
        "colab": {
          "base_uri": "https://localhost:8080/",
          "height": 216
        },
        "id": "tLQMW3OAVzn8",
        "outputId": "f5c6093d-abbc-4e10-dfbe-b420f2649633"
      },
      "source": [
        "df.tail(2)"
      ],
      "execution_count": 11,
      "outputs": [
        {
          "output_type": "execute_result",
          "data": {
            "text/html": [
              "<div>\n",
              "<style scoped>\n",
              "    .dataframe tbody tr th:only-of-type {\n",
              "        vertical-align: middle;\n",
              "    }\n",
              "\n",
              "    .dataframe tbody tr th {\n",
              "        vertical-align: top;\n",
              "    }\n",
              "\n",
              "    .dataframe thead th {\n",
              "        text-align: right;\n",
              "    }\n",
              "</style>\n",
              "<table border=\"1\" class=\"dataframe\">\n",
              "  <thead>\n",
              "    <tr style=\"text-align: right;\">\n",
              "      <th></th>\n",
              "      <th>match_id</th>\n",
              "      <th>season</th>\n",
              "      <th>start_date</th>\n",
              "      <th>venue</th>\n",
              "      <th>innings</th>\n",
              "      <th>ball</th>\n",
              "      <th>batting_team</th>\n",
              "      <th>bowling_team</th>\n",
              "      <th>striker</th>\n",
              "      <th>non_striker</th>\n",
              "      <th>bowler</th>\n",
              "      <th>runs_off_bat</th>\n",
              "      <th>extras</th>\n",
              "      <th>wides</th>\n",
              "      <th>noballs</th>\n",
              "      <th>byes</th>\n",
              "      <th>legbyes</th>\n",
              "      <th>penalty</th>\n",
              "      <th>wicket_type</th>\n",
              "      <th>player_dismissed</th>\n",
              "      <th>other_wicket_type</th>\n",
              "      <th>other_player_dismissed</th>\n",
              "    </tr>\n",
              "  </thead>\n",
              "  <tbody>\n",
              "    <tr>\n",
              "      <th>200661</th>\n",
              "      <td>1254085</td>\n",
              "      <td>2021</td>\n",
              "      <td>2021-05-02</td>\n",
              "      <td>Arun Jaitley Stadium, Delhi</td>\n",
              "      <td>2</td>\n",
              "      <td>8.4</td>\n",
              "      <td>Sunrisers Hyderabad</td>\n",
              "      <td>Rajasthan Royals</td>\n",
              "      <td>KS Williamson</td>\n",
              "      <td>V Shankar</td>\n",
              "      <td>C Sakariya</td>\n",
              "      <td>1</td>\n",
              "      <td>0</td>\n",
              "      <td>NaN</td>\n",
              "      <td>NaN</td>\n",
              "      <td>NaN</td>\n",
              "      <td>NaN</td>\n",
              "      <td>NaN</td>\n",
              "      <td>NaN</td>\n",
              "      <td>NaN</td>\n",
              "      <td>NaN</td>\n",
              "      <td>NaN</td>\n",
              "    </tr>\n",
              "    <tr>\n",
              "      <th>200662</th>\n",
              "      <td>1254086</td>\n",
              "      <td>2021</td>\n",
              "      <td>2021-05-02</td>\n",
              "      <td>Narendra Modi Stadium, Ahmedabad</td>\n",
              "      <td>2</td>\n",
              "      <td>17.6</td>\n",
              "      <td>Delhi Capitals</td>\n",
              "      <td>Punjab Kings</td>\n",
              "      <td>SO Hetmyer</td>\n",
              "      <td>S Dhawan</td>\n",
              "      <td>RP Meredith</td>\n",
              "      <td>0</td>\n",
              "      <td>1</td>\n",
              "      <td>1.0</td>\n",
              "      <td>NaN</td>\n",
              "      <td>NaN</td>\n",
              "      <td>NaN</td>\n",
              "      <td>NaN</td>\n",
              "      <td>NaN</td>\n",
              "      <td>NaN</td>\n",
              "      <td>NaN</td>\n",
              "      <td>NaN</td>\n",
              "    </tr>\n",
              "  </tbody>\n",
              "</table>\n",
              "</div>"
            ],
            "text/plain": [
              "        match_id  season  start_date                             venue  innings  ball         batting_team      bowling_team        striker non_striker       bowler  runs_off_bat  extras  wides  noballs  byes  legbyes  penalty wicket_type player_dismissed  other_wicket_type  other_player_dismissed\n",
              "200661  1254085   2021    2021-05-02  Arun Jaitley Stadium, Delhi       2        8.4   Sunrisers Hyderabad  Rajasthan Royals  KS Williamson  V Shankar   C Sakariya   1             0      NaN    NaN      NaN   NaN      NaN       NaN         NaN             NaN                NaN                    \n",
              "200662  1254086   2021    2021-05-02  Narendra Modi Stadium, Ahmedabad  2        17.6  Delhi Capitals       Punjab Kings      SO Hetmyer     S Dhawan    RP Meredith  0             1       1.0   NaN      NaN   NaN      NaN       NaN         NaN             NaN                NaN                    "
            ]
          },
          "metadata": {},
          "execution_count": 11
        }
      ]
    },
    {
      "cell_type": "code",
      "metadata": {
        "id": "uwYUYPW9WoFE"
      },
      "source": [
        ""
      ],
      "execution_count": null,
      "outputs": []
    }
  ]
}