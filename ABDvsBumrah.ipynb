{
  "nbformat": 4,
  "nbformat_minor": 0,
  "metadata": {
    "colab": {
      "name": "ABDvsBumrah.ipynb",
      "provenance": [],
      "authorship_tag": "ABX9TyOooBxj6dsFzP3y4GPTSLEh",
      "include_colab_link": true
    },
    "kernelspec": {
      "name": "python3",
      "display_name": "Python 3"
    },
    "language_info": {
      "name": "python"
    }
  },
  "cells": [
    {
      "cell_type": "markdown",
      "metadata": {
        "id": "view-in-github",
        "colab_type": "text"
      },
      "source": [
        "<a href=\"https://colab.research.google.com/github/arehvs/practice/blob/main/ABDvsBumrah.ipynb\" target=\"_parent\"><img src=\"https://colab.research.google.com/assets/colab-badge.svg\" alt=\"Open In Colab\"/></a>"
      ]
    },
    {
      "cell_type": "code",
      "metadata": {
        "colab": {
          "base_uri": "https://localhost:8080/"
        },
        "id": "279SUsBySPuW",
        "outputId": "20ce4b95-fef5-4fcb-d08b-4eeb950386c0"
      },
      "source": [
        "import warnings\n",
        "warnings.filterwarnings('ignore')\n",
        "\n",
        "from google.colab import drive\n",
        "drive.mount('/content/drive')\n",
        "\n",
        "import pandas as pd\n",
        "import numpy as np\n",
        "\n",
        "import matplotlib.pyplot as plt\n",
        "\n",
        "pd.set_option('display.max_rows',None)\n",
        "pd.set_option('display.max_columns',None)\n",
        "pd.set_option('display.expand_frame.repr',False)\n",
        "pd.set_option('max_colwidth',-1)"
      ],
      "execution_count": 1,
      "outputs": [
        {
          "output_type": "stream",
          "name": "stdout",
          "text": [
            "Mounted at /content/drive\n"
          ]
        }
      ]
    },
    {
      "cell_type": "code",
      "metadata": {
        "id": "gFrkV3eaUnmx"
      },
      "source": [
        "df = pd.read_csv('/content/drive/MyDrive/Colab Notebooks/CSV_files/ipl_ball_by_ball_data.csv')"
      ],
      "execution_count": 2,
      "outputs": []
    },
    {
      "cell_type": "code",
      "metadata": {
        "colab": {
          "base_uri": "https://localhost:8080/",
          "height": 219
        },
        "id": "tLQMW3OAVzn8",
        "outputId": "5ba2cc52-ff21-46e3-fcba-ca2bd7c99b10"
      },
      "source": [
        "df.tail(2)"
      ],
      "execution_count": 3,
      "outputs": [
        {
          "output_type": "execute_result",
          "data": {
            "text/html": [
              "<div>\n",
              "<style scoped>\n",
              "    .dataframe tbody tr th:only-of-type {\n",
              "        vertical-align: middle;\n",
              "    }\n",
              "\n",
              "    .dataframe tbody tr th {\n",
              "        vertical-align: top;\n",
              "    }\n",
              "\n",
              "    .dataframe thead th {\n",
              "        text-align: right;\n",
              "    }\n",
              "</style>\n",
              "<table border=\"1\" class=\"dataframe\">\n",
              "  <thead>\n",
              "    <tr style=\"text-align: right;\">\n",
              "      <th></th>\n",
              "      <th>match_id</th>\n",
              "      <th>season</th>\n",
              "      <th>start_date</th>\n",
              "      <th>venue</th>\n",
              "      <th>innings</th>\n",
              "      <th>ball</th>\n",
              "      <th>batting_team</th>\n",
              "      <th>bowling_team</th>\n",
              "      <th>striker</th>\n",
              "      <th>non_striker</th>\n",
              "      <th>bowler</th>\n",
              "      <th>runs_off_bat</th>\n",
              "      <th>extras</th>\n",
              "      <th>wides</th>\n",
              "      <th>noballs</th>\n",
              "      <th>byes</th>\n",
              "      <th>legbyes</th>\n",
              "      <th>penalty</th>\n",
              "      <th>wicket_type</th>\n",
              "      <th>player_dismissed</th>\n",
              "      <th>other_wicket_type</th>\n",
              "      <th>other_player_dismissed</th>\n",
              "    </tr>\n",
              "  </thead>\n",
              "  <tbody>\n",
              "    <tr>\n",
              "      <th>200661</th>\n",
              "      <td>1254085</td>\n",
              "      <td>2021</td>\n",
              "      <td>2021-05-02</td>\n",
              "      <td>Arun Jaitley Stadium, Delhi</td>\n",
              "      <td>2</td>\n",
              "      <td>8.4</td>\n",
              "      <td>Sunrisers Hyderabad</td>\n",
              "      <td>Rajasthan Royals</td>\n",
              "      <td>KS Williamson</td>\n",
              "      <td>V Shankar</td>\n",
              "      <td>C Sakariya</td>\n",
              "      <td>1</td>\n",
              "      <td>0</td>\n",
              "      <td>NaN</td>\n",
              "      <td>NaN</td>\n",
              "      <td>NaN</td>\n",
              "      <td>NaN</td>\n",
              "      <td>NaN</td>\n",
              "      <td>NaN</td>\n",
              "      <td>NaN</td>\n",
              "      <td>NaN</td>\n",
              "      <td>NaN</td>\n",
              "    </tr>\n",
              "    <tr>\n",
              "      <th>200662</th>\n",
              "      <td>1254086</td>\n",
              "      <td>2021</td>\n",
              "      <td>2021-05-02</td>\n",
              "      <td>Narendra Modi Stadium, Ahmedabad</td>\n",
              "      <td>2</td>\n",
              "      <td>17.6</td>\n",
              "      <td>Delhi Capitals</td>\n",
              "      <td>Punjab Kings</td>\n",
              "      <td>SO Hetmyer</td>\n",
              "      <td>S Dhawan</td>\n",
              "      <td>RP Meredith</td>\n",
              "      <td>0</td>\n",
              "      <td>1</td>\n",
              "      <td>1.0</td>\n",
              "      <td>NaN</td>\n",
              "      <td>NaN</td>\n",
              "      <td>NaN</td>\n",
              "      <td>NaN</td>\n",
              "      <td>NaN</td>\n",
              "      <td>NaN</td>\n",
              "      <td>NaN</td>\n",
              "      <td>NaN</td>\n",
              "    </tr>\n",
              "  </tbody>\n",
              "</table>\n",
              "</div>"
            ],
            "text/plain": [
              "        match_id  season  start_date                             venue  innings  ball         batting_team      bowling_team        striker non_striker       bowler  runs_off_bat  extras  wides  noballs  byes  legbyes  penalty wicket_type player_dismissed  other_wicket_type  other_player_dismissed\n",
              "200661  1254085   2021    2021-05-02  Arun Jaitley Stadium, Delhi       2        8.4   Sunrisers Hyderabad  Rajasthan Royals  KS Williamson  V Shankar   C Sakariya   1             0      NaN    NaN      NaN   NaN      NaN       NaN         NaN             NaN                NaN                    \n",
              "200662  1254086   2021    2021-05-02  Narendra Modi Stadium, Ahmedabad  2        17.6  Delhi Capitals       Punjab Kings      SO Hetmyer     S Dhawan    RP Meredith  0             1       1.0   NaN      NaN   NaN      NaN       NaN         NaN             NaN                NaN                    "
            ]
          },
          "metadata": {},
          "execution_count": 3
        }
      ]
    },
    {
      "cell_type": "code",
      "metadata": {
        "id": "uwYUYPW9WoFE",
        "colab": {
          "base_uri": "https://localhost:8080/"
        },
        "outputId": "0e443fc2-c466-461d-8784-1c4ca1dc44c8"
      },
      "source": [
        "df.innings.unique()"
      ],
      "execution_count": 4,
      "outputs": [
        {
          "output_type": "execute_result",
          "data": {
            "text/plain": [
              "array([1, 2, 4, 3, 5, 6])"
            ]
          },
          "metadata": {},
          "execution_count": 4
        }
      ]
    },
    {
      "cell_type": "code",
      "metadata": {
        "id": "13pFhNF2fi7O"
      },
      "source": [
        "df = df[(df.innings == 1) | (df.innings == 2)]"
      ],
      "execution_count": 5,
      "outputs": []
    },
    {
      "cell_type": "code",
      "metadata": {
        "colab": {
          "base_uri": "https://localhost:8080/"
        },
        "id": "svsv027KlOJd",
        "outputId": "db62e216-8d5a-47a8-a2b4-ea35bfcff612"
      },
      "source": [
        "df.innings.unique()"
      ],
      "execution_count": 6,
      "outputs": [
        {
          "output_type": "execute_result",
          "data": {
            "text/plain": [
              "array([1, 2])"
            ]
          },
          "metadata": {},
          "execution_count": 6
        }
      ]
    },
    {
      "cell_type": "code",
      "metadata": {
        "colab": {
          "base_uri": "https://localhost:8080/",
          "height": 400
        },
        "id": "EYQd6ZIHfswV",
        "outputId": "0faf4c40-48d9-476a-83f8-817a8f24335c"
      },
      "source": [
        "df.head()"
      ],
      "execution_count": 7,
      "outputs": [
        {
          "output_type": "execute_result",
          "data": {
            "text/html": [
              "<div>\n",
              "<style scoped>\n",
              "    .dataframe tbody tr th:only-of-type {\n",
              "        vertical-align: middle;\n",
              "    }\n",
              "\n",
              "    .dataframe tbody tr th {\n",
              "        vertical-align: top;\n",
              "    }\n",
              "\n",
              "    .dataframe thead th {\n",
              "        text-align: right;\n",
              "    }\n",
              "</style>\n",
              "<table border=\"1\" class=\"dataframe\">\n",
              "  <thead>\n",
              "    <tr style=\"text-align: right;\">\n",
              "      <th></th>\n",
              "      <th>match_id</th>\n",
              "      <th>season</th>\n",
              "      <th>start_date</th>\n",
              "      <th>venue</th>\n",
              "      <th>innings</th>\n",
              "      <th>ball</th>\n",
              "      <th>batting_team</th>\n",
              "      <th>bowling_team</th>\n",
              "      <th>striker</th>\n",
              "      <th>non_striker</th>\n",
              "      <th>bowler</th>\n",
              "      <th>runs_off_bat</th>\n",
              "      <th>extras</th>\n",
              "      <th>wides</th>\n",
              "      <th>noballs</th>\n",
              "      <th>byes</th>\n",
              "      <th>legbyes</th>\n",
              "      <th>penalty</th>\n",
              "      <th>wicket_type</th>\n",
              "      <th>player_dismissed</th>\n",
              "      <th>other_wicket_type</th>\n",
              "      <th>other_player_dismissed</th>\n",
              "    </tr>\n",
              "  </thead>\n",
              "  <tbody>\n",
              "    <tr>\n",
              "      <th>0</th>\n",
              "      <td>335982</td>\n",
              "      <td>2008</td>\n",
              "      <td>2008-04-18</td>\n",
              "      <td>M Chinnaswamy Stadium</td>\n",
              "      <td>1</td>\n",
              "      <td>0.1</td>\n",
              "      <td>Kolkata Knight Riders</td>\n",
              "      <td>Royal Challengers Bangalore</td>\n",
              "      <td>SC Ganguly</td>\n",
              "      <td>BB McCullum</td>\n",
              "      <td>P Kumar</td>\n",
              "      <td>0</td>\n",
              "      <td>1</td>\n",
              "      <td>NaN</td>\n",
              "      <td>NaN</td>\n",
              "      <td>NaN</td>\n",
              "      <td>1.0</td>\n",
              "      <td>NaN</td>\n",
              "      <td>NaN</td>\n",
              "      <td>NaN</td>\n",
              "      <td>NaN</td>\n",
              "      <td>NaN</td>\n",
              "    </tr>\n",
              "    <tr>\n",
              "      <th>1</th>\n",
              "      <td>335982</td>\n",
              "      <td>2008</td>\n",
              "      <td>2008-04-18</td>\n",
              "      <td>M Chinnaswamy Stadium</td>\n",
              "      <td>2</td>\n",
              "      <td>3.1</td>\n",
              "      <td>Royal Challengers Bangalore</td>\n",
              "      <td>Kolkata Knight Riders</td>\n",
              "      <td>W Jaffer</td>\n",
              "      <td>JH Kallis</td>\n",
              "      <td>I Sharma</td>\n",
              "      <td>2</td>\n",
              "      <td>0</td>\n",
              "      <td>NaN</td>\n",
              "      <td>NaN</td>\n",
              "      <td>NaN</td>\n",
              "      <td>NaN</td>\n",
              "      <td>NaN</td>\n",
              "      <td>NaN</td>\n",
              "      <td>NaN</td>\n",
              "      <td>NaN</td>\n",
              "      <td>NaN</td>\n",
              "    </tr>\n",
              "    <tr>\n",
              "      <th>2</th>\n",
              "      <td>335982</td>\n",
              "      <td>2008</td>\n",
              "      <td>2008-04-18</td>\n",
              "      <td>M Chinnaswamy Stadium</td>\n",
              "      <td>2</td>\n",
              "      <td>3.2</td>\n",
              "      <td>Royal Challengers Bangalore</td>\n",
              "      <td>Kolkata Knight Riders</td>\n",
              "      <td>W Jaffer</td>\n",
              "      <td>JH Kallis</td>\n",
              "      <td>I Sharma</td>\n",
              "      <td>1</td>\n",
              "      <td>0</td>\n",
              "      <td>NaN</td>\n",
              "      <td>NaN</td>\n",
              "      <td>NaN</td>\n",
              "      <td>NaN</td>\n",
              "      <td>NaN</td>\n",
              "      <td>NaN</td>\n",
              "      <td>NaN</td>\n",
              "      <td>NaN</td>\n",
              "      <td>NaN</td>\n",
              "    </tr>\n",
              "    <tr>\n",
              "      <th>3</th>\n",
              "      <td>335982</td>\n",
              "      <td>2008</td>\n",
              "      <td>2008-04-18</td>\n",
              "      <td>M Chinnaswamy Stadium</td>\n",
              "      <td>2</td>\n",
              "      <td>3.3</td>\n",
              "      <td>Royal Challengers Bangalore</td>\n",
              "      <td>Kolkata Knight Riders</td>\n",
              "      <td>JH Kallis</td>\n",
              "      <td>W Jaffer</td>\n",
              "      <td>I Sharma</td>\n",
              "      <td>0</td>\n",
              "      <td>0</td>\n",
              "      <td>NaN</td>\n",
              "      <td>NaN</td>\n",
              "      <td>NaN</td>\n",
              "      <td>NaN</td>\n",
              "      <td>NaN</td>\n",
              "      <td>NaN</td>\n",
              "      <td>NaN</td>\n",
              "      <td>NaN</td>\n",
              "      <td>NaN</td>\n",
              "    </tr>\n",
              "    <tr>\n",
              "      <th>4</th>\n",
              "      <td>335982</td>\n",
              "      <td>2008</td>\n",
              "      <td>2008-04-18</td>\n",
              "      <td>M Chinnaswamy Stadium</td>\n",
              "      <td>2</td>\n",
              "      <td>3.4</td>\n",
              "      <td>Royal Challengers Bangalore</td>\n",
              "      <td>Kolkata Knight Riders</td>\n",
              "      <td>JH Kallis</td>\n",
              "      <td>W Jaffer</td>\n",
              "      <td>I Sharma</td>\n",
              "      <td>0</td>\n",
              "      <td>1</td>\n",
              "      <td>NaN</td>\n",
              "      <td>NaN</td>\n",
              "      <td>NaN</td>\n",
              "      <td>1.0</td>\n",
              "      <td>NaN</td>\n",
              "      <td>NaN</td>\n",
              "      <td>NaN</td>\n",
              "      <td>NaN</td>\n",
              "      <td>NaN</td>\n",
              "    </tr>\n",
              "  </tbody>\n",
              "</table>\n",
              "</div>"
            ],
            "text/plain": [
              "   match_id  season  start_date                  venue  innings  ball                 batting_team                 bowling_team     striker  non_striker    bowler  runs_off_bat  extras  wides  noballs  byes  legbyes  penalty wicket_type player_dismissed  other_wicket_type  other_player_dismissed\n",
              "0  335982    2008    2008-04-18  M Chinnaswamy Stadium  1        0.1   Kolkata Knight Riders        Royal Challengers Bangalore  SC Ganguly  BB McCullum  P Kumar   0             1      NaN    NaN      NaN    1.0     NaN       NaN         NaN             NaN                NaN                    \n",
              "1  335982    2008    2008-04-18  M Chinnaswamy Stadium  2        3.1   Royal Challengers Bangalore  Kolkata Knight Riders        W Jaffer    JH Kallis    I Sharma  2             0      NaN    NaN      NaN   NaN      NaN       NaN         NaN             NaN                NaN                    \n",
              "2  335982    2008    2008-04-18  M Chinnaswamy Stadium  2        3.2   Royal Challengers Bangalore  Kolkata Knight Riders        W Jaffer    JH Kallis    I Sharma  1             0      NaN    NaN      NaN   NaN      NaN       NaN         NaN             NaN                NaN                    \n",
              "3  335982    2008    2008-04-18  M Chinnaswamy Stadium  2        3.3   Royal Challengers Bangalore  Kolkata Knight Riders        JH Kallis   W Jaffer     I Sharma  0             0      NaN    NaN      NaN   NaN      NaN       NaN         NaN             NaN                NaN                    \n",
              "4  335982    2008    2008-04-18  M Chinnaswamy Stadium  2        3.4   Royal Challengers Bangalore  Kolkata Knight Riders        JH Kallis   W Jaffer     I Sharma  0             1      NaN    NaN      NaN    1.0     NaN       NaN         NaN             NaN                NaN                    "
            ]
          },
          "metadata": {},
          "execution_count": 7
        }
      ]
    },
    {
      "cell_type": "code",
      "metadata": {
        "colab": {
          "base_uri": "https://localhost:8080/"
        },
        "id": "5b3s7TYRkx_5",
        "outputId": "ccbc0b18-679a-47e5-d763-70aef9530d46"
      },
      "source": [
        "len(df)"
      ],
      "execution_count": 8,
      "outputs": [
        {
          "output_type": "execute_result",
          "data": {
            "text/plain": [
              "200502"
            ]
          },
          "metadata": {},
          "execution_count": 8
        }
      ]
    },
    {
      "cell_type": "code",
      "metadata": {
        "colab": {
          "base_uri": "https://localhost:8080/"
        },
        "id": "nh7pYnQ2k1Ey",
        "outputId": "5b8f8f8d-e10a-4f3f-8ee2-c131eb20a87a"
      },
      "source": [
        "len(df.columns)"
      ],
      "execution_count": 9,
      "outputs": [
        {
          "output_type": "execute_result",
          "data": {
            "text/plain": [
              "22"
            ]
          },
          "metadata": {},
          "execution_count": 9
        }
      ]
    },
    {
      "cell_type": "code",
      "metadata": {
        "id": "AUNcGtHhmQhi"
      },
      "source": [
        "# What are numbers between ABD faces Bumrah\n",
        "# Filter by players name\n",
        "# Use this name and assign it to striker and bowler\n",
        "# Get the required columns\n"
      ],
      "execution_count": 10,
      "outputs": []
    },
    {
      "cell_type": "code",
      "metadata": {
        "id": "ri1eeWFsjJHH",
        "colab": {
          "base_uri": "https://localhost:8080/"
        },
        "outputId": "0a853677-baf7-40f7-9ccc-67b7650be051"
      },
      "source": [
        "df[df.batting_team == 'Royal Challengers Bangalore'].striker.unique()"
      ],
      "execution_count": 11,
      "outputs": [
        {
          "output_type": "execute_result",
          "data": {
            "text/plain": [
              "array(['W Jaffer', 'JH Kallis', 'CL White', 'MV Boucher', 'R Dravid',\n",
              "       'V Kohli', 'P Kumar', 'Z Khan', 'SB Joshi', 'AA Noffke', 'B Akhil',\n",
              "       'LRPL Taylor', 'S Chanderpaul', 'R Vinay Kumar', 'DW Steyn',\n",
              "       'B Chipli', 'Misbah-ul-Haq', 'DT Patil', 'A Kumble', 'J Arunkumar',\n",
              "       'Abdur Razzak', 'SP Goswami', 'KP Pietersen', 'RV Uthappa',\n",
              "       'JD Ryder', 'R Bishnoi', 'KV Sharma', 'Pankaj Singh', 'MK Pandey',\n",
              "       'RE van der Merwe', 'KP Appanna', 'D du Preez', 'EJG Morgan',\n",
              "       'A Mithun', 'S Sriram', 'MA Agarwal', 'AB de Villiers',\n",
              "       'TM Dilshan', 'SS Tiwary', 'AUK Pathan', 'S Aravind', 'CA Pujara',\n",
              "       'JJ van der Wath', 'R Ninan', 'DL Vettori', 'CH Gayle',\n",
              "       'J Syed Mohammad', 'M Kaif', 'LA Pomersbach', 'KB Arun Karthik',\n",
              "       'CK Langeveldt', 'AB McDonald', 'HV Patel', 'RR Bhatkal',\n",
              "       'M Muralitharan', 'P Parameswaran', 'DT Christian', 'KK Nair',\n",
              "       'MC Henriques', 'M Kartik', 'JD Unadkat', 'R Rampaul', 'KL Rahul',\n",
              "       'A Mukund', 'PA Patel', 'NJ Maddinson', 'Yuvraj Singh',\n",
              "       'YV Takawale', 'JA Morkel', 'MA Starc', 'AB Dinda', 'S Rana',\n",
              "       'VR Aaron', 'RR Rossouw', 'YS Chahal', 'VH Zol', 'AN Ahmed',\n",
              "       'DJG Sammy', 'SA Abbott', 'Mandeep Singh', 'KD Karthik', 'D Wiese',\n",
              "       'Iqbal Abdulla', 'MS Bisla', 'SN Khan', 'SR Watson', 'KM Jadhav',\n",
              "       'STR Binny', 'TM Head', 'KW Richardson', 'Sachin Baby',\n",
              "       'Parvez Rasool', 'CJ Jordan', 'TS Mills', 'A Choudhary', 'P Negi',\n",
              "       'Vishnu Vinod', 'AF Milne', 'S Badree', 'CR Woakes', 'BB McCullum',\n",
              "       'Q de Kock', 'Washington Sundar', 'CJ Anderson', 'Mohammed Siraj',\n",
              "       'UT Yadav', 'M Vohra', 'C de Grandhomme', 'TG Southee', 'M Ashwin',\n",
              "       'MM Ali', 'SO Hetmyer', 'S Dube', 'NA Saini', 'P Ray Barman',\n",
              "       'MP Stoinis', 'AD Nath', 'Gurkeerat Singh', 'H Klaasen',\n",
              "       'AJ Finch', 'D Padikkal', 'JR Philippe', 'I Udana', 'CH Morris',\n",
              "       'Shahbaz Ahmed', 'RM Patidar', 'GJ Maxwell', 'KA Jamieson',\n",
              "       'DR Sams'], dtype=object)"
            ]
          },
          "metadata": {},
          "execution_count": 11
        }
      ]
    },
    {
      "cell_type": "code",
      "metadata": {
        "colab": {
          "base_uri": "https://localhost:8080/"
        },
        "id": "S0DoTHE_jrUP",
        "outputId": "6d0a76cb-d640-43ea-ecc8-5b84e51bd7d5"
      },
      "source": [
        "sum(df[df.striker == 'AB de Villiers'].runs_off_bat)"
      ],
      "execution_count": 12,
      "outputs": [
        {
          "output_type": "execute_result",
          "data": {
            "text/plain": [
              "5056"
            ]
          },
          "metadata": {},
          "execution_count": 12
        }
      ]
    },
    {
      "cell_type": "code",
      "metadata": {
        "id": "R0LPGqbPkeeI"
      },
      "source": [
        "# Create ABD data frame using the striker name\n",
        "abd_df = df[df.striker == 'AB de Villiers']"
      ],
      "execution_count": 13,
      "outputs": []
    },
    {
      "cell_type": "code",
      "metadata": {
        "colab": {
          "base_uri": "https://localhost:8080/",
          "height": 153
        },
        "id": "xtRzbiTzmwy7",
        "outputId": "c5e1f0cd-f5e4-4f79-9d48-596c66f861a4"
      },
      "source": [
        "abd_df.head(1)"
      ],
      "execution_count": 14,
      "outputs": [
        {
          "output_type": "execute_result",
          "data": {
            "text/html": [
              "<div>\n",
              "<style scoped>\n",
              "    .dataframe tbody tr th:only-of-type {\n",
              "        vertical-align: middle;\n",
              "    }\n",
              "\n",
              "    .dataframe tbody tr th {\n",
              "        vertical-align: top;\n",
              "    }\n",
              "\n",
              "    .dataframe thead th {\n",
              "        text-align: right;\n",
              "    }\n",
              "</style>\n",
              "<table border=\"1\" class=\"dataframe\">\n",
              "  <thead>\n",
              "    <tr style=\"text-align: right;\">\n",
              "      <th></th>\n",
              "      <th>match_id</th>\n",
              "      <th>season</th>\n",
              "      <th>start_date</th>\n",
              "      <th>venue</th>\n",
              "      <th>innings</th>\n",
              "      <th>ball</th>\n",
              "      <th>batting_team</th>\n",
              "      <th>bowling_team</th>\n",
              "      <th>striker</th>\n",
              "      <th>non_striker</th>\n",
              "      <th>bowler</th>\n",
              "      <th>runs_off_bat</th>\n",
              "      <th>extras</th>\n",
              "      <th>wides</th>\n",
              "      <th>noballs</th>\n",
              "      <th>byes</th>\n",
              "      <th>legbyes</th>\n",
              "      <th>penalty</th>\n",
              "      <th>wicket_type</th>\n",
              "      <th>player_dismissed</th>\n",
              "      <th>other_wicket_type</th>\n",
              "      <th>other_player_dismissed</th>\n",
              "    </tr>\n",
              "  </thead>\n",
              "  <tbody>\n",
              "    <tr>\n",
              "      <th>4574</th>\n",
              "      <td>336001</td>\n",
              "      <td>2008</td>\n",
              "      <td>2008-05-02</td>\n",
              "      <td>MA Chidambaram Stadium, Chepauk</td>\n",
              "      <td>2</td>\n",
              "      <td>14.6</td>\n",
              "      <td>Delhi Daredevils</td>\n",
              "      <td>Chennai Super Kings</td>\n",
              "      <td>AB de Villiers</td>\n",
              "      <td>S Dhawan</td>\n",
              "      <td>MS Gony</td>\n",
              "      <td>2</td>\n",
              "      <td>0</td>\n",
              "      <td>NaN</td>\n",
              "      <td>NaN</td>\n",
              "      <td>NaN</td>\n",
              "      <td>NaN</td>\n",
              "      <td>NaN</td>\n",
              "      <td>NaN</td>\n",
              "      <td>NaN</td>\n",
              "      <td>NaN</td>\n",
              "      <td>NaN</td>\n",
              "    </tr>\n",
              "  </tbody>\n",
              "</table>\n",
              "</div>"
            ],
            "text/plain": [
              "      match_id  season  start_date                            venue  innings  ball      batting_team         bowling_team         striker non_striker   bowler  runs_off_bat  extras  wides  noballs  byes  legbyes  penalty wicket_type player_dismissed  other_wicket_type  other_player_dismissed\n",
              "4574  336001    2008    2008-05-02  MA Chidambaram Stadium, Chepauk  2        14.6  Delhi Daredevils  Chennai Super Kings  AB de Villiers  S Dhawan    MS Gony  2             0      NaN    NaN      NaN   NaN      NaN       NaN         NaN             NaN                NaN                    "
            ]
          },
          "metadata": {},
          "execution_count": 14
        }
      ]
    },
    {
      "cell_type": "code",
      "metadata": {
        "colab": {
          "base_uri": "https://localhost:8080/"
        },
        "id": "UcK_-zrimzrt",
        "outputId": "d45a1686-4e3a-4ef0-c25e-256b04954c14"
      },
      "source": [
        "df.bowling_team.unique()"
      ],
      "execution_count": 15,
      "outputs": [
        {
          "output_type": "execute_result",
          "data": {
            "text/plain": [
              "array(['Royal Challengers Bangalore', 'Kolkata Knight Riders',\n",
              "       'Delhi Daredevils', 'Chennai Super Kings', 'Rajasthan Royals',\n",
              "       'Kings XI Punjab', 'Deccan Chargers', 'Mumbai Indians',\n",
              "       'Kochi Tuskers Kerala', 'Pune Warriors', 'Sunrisers Hyderabad',\n",
              "       'Rising Pune Supergiants', 'Gujarat Lions',\n",
              "       'Rising Pune Supergiant', 'Delhi Capitals', 'Punjab Kings'],\n",
              "      dtype=object)"
            ]
          },
          "metadata": {},
          "execution_count": 15
        }
      ]
    },
    {
      "cell_type": "code",
      "metadata": {
        "id": "UO5BoFeFnFq5",
        "colab": {
          "base_uri": "https://localhost:8080/"
        },
        "outputId": "e0ce102a-0bda-4918-9c4a-aa0ce562f592"
      },
      "source": [
        "df[df.bowling_team == 'Mumbai Indians'].bowler.unique()"
      ],
      "execution_count": 16,
      "outputs": [
        {
          "output_type": "execute_result",
          "data": {
            "text/plain": [
              "array(['DS Kulkarni', 'A Nehra', 'AM Nayar', 'Harbhajan Singh',\n",
              "       'ST Jayasuriya', 'SM Pollock', 'MA Khote', 'DJ Bravo',\n",
              "       'VS Yeligati', 'SD Chitnis', 'CRD Fernando', 'DJ Thornely',\n",
              "       'RR Raje', 'DR Smith', 'A Nel', 'SL Malinga', 'Z Khan',\n",
              "       'SR Tendulkar', 'JP Duminy', 'GR Napier', 'C Nanda', 'AM Rahane',\n",
              "       'RA Shaikh', 'R McLaren', 'R Sathish', 'AG Murtaza', 'KA Pollard',\n",
              "       'AN Ahmed', 'STR Binny', 'MM Patel', 'JEC Franklin', 'RG Sharma',\n",
              "       'A Symonds', 'TL Suman', 'RW Price', 'PP Ojha', 'RP Singh',\n",
              "       'CJ McKay', 'NLTC Perera', 'RJ Peterson', 'R Shukla', 'JDP Oram',\n",
              "       'JJ Bumrah', 'MG Johnson', 'R Dhawan', 'YS Chahal', 'P Suyal',\n",
              "       'GJ Maxwell', 'NM Coulter-Nile', 'CJ Anderson', 'P Kumar',\n",
              "       'LMP Simmons', 'S Gopal', 'K Santokie', 'M de Lange',\n",
              "       'R Vinay Kumar', 'J Suchith', 'MJ McClenaghan', 'HH Pandya',\n",
              "       'TG Southee', 'KH Pandya', 'N Rana', 'KV Sharma', 'M Markande',\n",
              "       'Mustafizur Rahman', 'PJ Sangwan', 'BCJ Cutting', 'A Dananjaya',\n",
              "       'Rasikh Salam', 'RD Chahar', 'JP Behrendorff', 'AS Joseph',\n",
              "       'J Yadav', 'AS Roy', 'BB Sran', 'TA Boult', 'JL Pattinson',\n",
              "       'M Jansen', 'AF Milne', 'JDS Neesham'], dtype=object)"
            ]
          },
          "metadata": {},
          "execution_count": 16
        }
      ]
    },
    {
      "cell_type": "code",
      "metadata": {
        "id": "i6Qmh-WPsxfb"
      },
      "source": [
        "bumrah_df = df[df.bowler== 'JJ Bumrah']"
      ],
      "execution_count": 17,
      "outputs": []
    },
    {
      "cell_type": "code",
      "metadata": {
        "colab": {
          "base_uri": "https://localhost:8080/",
          "height": 135
        },
        "id": "Afrcu0VJtABo",
        "outputId": "21c77b31-744c-4662-f4f4-73cd59d9bcd8"
      },
      "source": [
        "bumrah_df.head(1)"
      ],
      "execution_count": 18,
      "outputs": [
        {
          "output_type": "execute_result",
          "data": {
            "text/html": [
              "<div>\n",
              "<style scoped>\n",
              "    .dataframe tbody tr th:only-of-type {\n",
              "        vertical-align: middle;\n",
              "    }\n",
              "\n",
              "    .dataframe tbody tr th {\n",
              "        vertical-align: top;\n",
              "    }\n",
              "\n",
              "    .dataframe thead th {\n",
              "        text-align: right;\n",
              "    }\n",
              "</style>\n",
              "<table border=\"1\" class=\"dataframe\">\n",
              "  <thead>\n",
              "    <tr style=\"text-align: right;\">\n",
              "      <th></th>\n",
              "      <th>match_id</th>\n",
              "      <th>season</th>\n",
              "      <th>start_date</th>\n",
              "      <th>venue</th>\n",
              "      <th>innings</th>\n",
              "      <th>ball</th>\n",
              "      <th>batting_team</th>\n",
              "      <th>bowling_team</th>\n",
              "      <th>striker</th>\n",
              "      <th>non_striker</th>\n",
              "      <th>bowler</th>\n",
              "      <th>runs_off_bat</th>\n",
              "      <th>extras</th>\n",
              "      <th>wides</th>\n",
              "      <th>noballs</th>\n",
              "      <th>byes</th>\n",
              "      <th>legbyes</th>\n",
              "      <th>penalty</th>\n",
              "      <th>wicket_type</th>\n",
              "      <th>player_dismissed</th>\n",
              "      <th>other_wicket_type</th>\n",
              "      <th>other_player_dismissed</th>\n",
              "    </tr>\n",
              "  </thead>\n",
              "  <tbody>\n",
              "    <tr>\n",
              "      <th>76731</th>\n",
              "      <td>597999</td>\n",
              "      <td>2013</td>\n",
              "      <td>2013-04-04</td>\n",
              "      <td>M Chinnaswamy Stadium</td>\n",
              "      <td>1</td>\n",
              "      <td>6.1</td>\n",
              "      <td>Royal Challengers Bangalore</td>\n",
              "      <td>Mumbai Indians</td>\n",
              "      <td>MA Agarwal</td>\n",
              "      <td>CH Gayle</td>\n",
              "      <td>JJ Bumrah</td>\n",
              "      <td>0</td>\n",
              "      <td>0</td>\n",
              "      <td>NaN</td>\n",
              "      <td>NaN</td>\n",
              "      <td>NaN</td>\n",
              "      <td>NaN</td>\n",
              "      <td>NaN</td>\n",
              "      <td>caught</td>\n",
              "      <td>MA Agarwal</td>\n",
              "      <td>NaN</td>\n",
              "      <td>NaN</td>\n",
              "    </tr>\n",
              "  </tbody>\n",
              "</table>\n",
              "</div>"
            ],
            "text/plain": [
              "       match_id  season  start_date                  venue  innings  ball                 batting_team    bowling_team     striker non_striker     bowler  runs_off_bat  extras  wides  noballs  byes  legbyes  penalty wicket_type player_dismissed  other_wicket_type  other_player_dismissed\n",
              "76731  597999    2013    2013-04-04  M Chinnaswamy Stadium  1        6.1   Royal Challengers Bangalore  Mumbai Indians  MA Agarwal  CH Gayle    JJ Bumrah  0             0      NaN    NaN      NaN   NaN      NaN       caught      MA Agarwal      NaN                NaN                    "
            ]
          },
          "metadata": {},
          "execution_count": 18
        }
      ]
    },
    {
      "cell_type": "code",
      "metadata": {
        "id": "vwd0C-SgxN-T"
      },
      "source": [
        "# Creating a requierd df - Performance of ABD against Bumrah\n",
        "required_df = df[(df.bowler== 'JJ Bumrah') & (df.striker == 'AB de Villiers')]"
      ],
      "execution_count": 41,
      "outputs": []
    },
    {
      "cell_type": "code",
      "metadata": {
        "colab": {
          "base_uri": "https://localhost:8080/",
          "height": 236
        },
        "id": "M17mKSRHxjul",
        "outputId": "6bf3eef5-385f-4d11-afd7-a23c97659ca0"
      },
      "source": [
        "required_df.head(2)"
      ],
      "execution_count": 42,
      "outputs": [
        {
          "output_type": "execute_result",
          "data": {
            "text/html": [
              "<div>\n",
              "<style scoped>\n",
              "    .dataframe tbody tr th:only-of-type {\n",
              "        vertical-align: middle;\n",
              "    }\n",
              "\n",
              "    .dataframe tbody tr th {\n",
              "        vertical-align: top;\n",
              "    }\n",
              "\n",
              "    .dataframe thead th {\n",
              "        text-align: right;\n",
              "    }\n",
              "</style>\n",
              "<table border=\"1\" class=\"dataframe\">\n",
              "  <thead>\n",
              "    <tr style=\"text-align: right;\">\n",
              "      <th></th>\n",
              "      <th>match_id</th>\n",
              "      <th>season</th>\n",
              "      <th>start_date</th>\n",
              "      <th>venue</th>\n",
              "      <th>innings</th>\n",
              "      <th>ball</th>\n",
              "      <th>batting_team</th>\n",
              "      <th>bowling_team</th>\n",
              "      <th>striker</th>\n",
              "      <th>non_striker</th>\n",
              "      <th>bowler</th>\n",
              "      <th>runs_off_bat</th>\n",
              "      <th>extras</th>\n",
              "      <th>wides</th>\n",
              "      <th>noballs</th>\n",
              "      <th>byes</th>\n",
              "      <th>legbyes</th>\n",
              "      <th>penalty</th>\n",
              "      <th>wicket_type</th>\n",
              "      <th>player_dismissed</th>\n",
              "      <th>other_wicket_type</th>\n",
              "      <th>other_player_dismissed</th>\n",
              "    </tr>\n",
              "  </thead>\n",
              "  <tbody>\n",
              "    <tr>\n",
              "      <th>95889</th>\n",
              "      <td>729287</td>\n",
              "      <td>2014</td>\n",
              "      <td>2014-04-19</td>\n",
              "      <td>Dubai International Cricket Stadium</td>\n",
              "      <td>2</td>\n",
              "      <td>11.6</td>\n",
              "      <td>Royal Challengers Bangalore</td>\n",
              "      <td>Mumbai Indians</td>\n",
              "      <td>AB de Villiers</td>\n",
              "      <td>PA Patel</td>\n",
              "      <td>JJ Bumrah</td>\n",
              "      <td>0</td>\n",
              "      <td>0</td>\n",
              "      <td>NaN</td>\n",
              "      <td>NaN</td>\n",
              "      <td>NaN</td>\n",
              "      <td>NaN</td>\n",
              "      <td>NaN</td>\n",
              "      <td>NaN</td>\n",
              "      <td>NaN</td>\n",
              "      <td>NaN</td>\n",
              "      <td>NaN</td>\n",
              "    </tr>\n",
              "    <tr>\n",
              "      <th>95890</th>\n",
              "      <td>729287</td>\n",
              "      <td>2014</td>\n",
              "      <td>2014-04-19</td>\n",
              "      <td>Dubai International Cricket Stadium</td>\n",
              "      <td>2</td>\n",
              "      <td>11.5</td>\n",
              "      <td>Royal Challengers Bangalore</td>\n",
              "      <td>Mumbai Indians</td>\n",
              "      <td>AB de Villiers</td>\n",
              "      <td>PA Patel</td>\n",
              "      <td>JJ Bumrah</td>\n",
              "      <td>0</td>\n",
              "      <td>0</td>\n",
              "      <td>NaN</td>\n",
              "      <td>NaN</td>\n",
              "      <td>NaN</td>\n",
              "      <td>NaN</td>\n",
              "      <td>NaN</td>\n",
              "      <td>NaN</td>\n",
              "      <td>NaN</td>\n",
              "      <td>NaN</td>\n",
              "      <td>NaN</td>\n",
              "    </tr>\n",
              "  </tbody>\n",
              "</table>\n",
              "</div>"
            ],
            "text/plain": [
              "       match_id  season  start_date                                venue  innings  ball                 batting_team    bowling_team         striker non_striker     bowler  runs_off_bat  extras  wides  noballs  byes  legbyes  penalty wicket_type player_dismissed  other_wicket_type  other_player_dismissed\n",
              "95889  729287    2014    2014-04-19  Dubai International Cricket Stadium  2        11.6  Royal Challengers Bangalore  Mumbai Indians  AB de Villiers  PA Patel    JJ Bumrah  0             0      NaN    NaN      NaN   NaN      NaN       NaN         NaN             NaN                NaN                    \n",
              "95890  729287    2014    2014-04-19  Dubai International Cricket Stadium  2        11.5  Royal Challengers Bangalore  Mumbai Indians  AB de Villiers  PA Patel    JJ Bumrah  0             0      NaN    NaN      NaN   NaN      NaN       NaN         NaN             NaN                NaN                    "
            ]
          },
          "metadata": {},
          "execution_count": 42
        }
      ]
    },
    {
      "cell_type": "code",
      "metadata": {
        "id": "jHuVVGS-xqoB"
      },
      "source": [
        "# We have to find \n",
        "# 1. number of runs scored\n",
        "# 2. number of balls faced\n",
        "# 3. number of times dismissed"
      ],
      "execution_count": null,
      "outputs": []
    },
    {
      "cell_type": "code",
      "metadata": {
        "colab": {
          "base_uri": "https://localhost:8080/"
        },
        "id": "h5cSfxMux3B_",
        "outputId": "99d2d61b-795b-402d-d033-18a51f56ee11"
      },
      "source": [
        "# Total number of runs scored by ABD\n",
        "sum(required_df.runs_off_bat)"
      ],
      "execution_count": 43,
      "outputs": [
        {
          "output_type": "execute_result",
          "data": {
            "text/plain": [
              "114"
            ]
          },
          "metadata": {},
          "execution_count": 43
        }
      ]
    },
    {
      "cell_type": "code",
      "metadata": {
        "colab": {
          "base_uri": "https://localhost:8080/"
        },
        "id": "hvb1DetXyF3g",
        "outputId": "7d6cc846-ef75-4158-815e-f72b241c34e9"
      },
      "source": [
        "# number of falls faced by ABD\n",
        "len(required_df)"
      ],
      "execution_count": 44,
      "outputs": [
        {
          "output_type": "execute_result",
          "data": {
            "text/plain": [
              "79"
            ]
          },
          "metadata": {},
          "execution_count": 44
        }
      ]
    },
    {
      "cell_type": "code",
      "metadata": {
        "colab": {
          "base_uri": "https://localhost:8080/"
        },
        "id": "UUaKlQhFyOyj",
        "outputId": "80723c89-0b04-4529-e6d7-22e361b68619"
      },
      "source": [
        "# ABD strike rate against Bumrah\n",
        "100*(sum(required_df.runs_off_bat)/len(required_df))"
      ],
      "execution_count": 45,
      "outputs": [
        {
          "output_type": "execute_result",
          "data": {
            "text/plain": [
              "144.30379746835442"
            ]
          },
          "metadata": {},
          "execution_count": 45
        }
      ]
    },
    {
      "cell_type": "code",
      "metadata": {
        "colab": {
          "base_uri": "https://localhost:8080/"
        },
        "id": "eaZIYaN6yY_6",
        "outputId": "f468e3e8-36ba-4c17-9812-3e1c56055634"
      },
      "source": [
        "# No.of times ABD get dismissed by Bumrah\n",
        "len(required_df[required_df.player_dismissed == 'AB de Villiers'])"
      ],
      "execution_count": 46,
      "outputs": [
        {
          "output_type": "execute_result",
          "data": {
            "text/plain": [
              "2"
            ]
          },
          "metadata": {},
          "execution_count": 46
        }
      ]
    },
    {
      "cell_type": "code",
      "metadata": {
        "id": "ZNDPrpjQyxIB"
      },
      "source": [
        "# Comparision against all batsman Bumrah has bowled to"
      ],
      "execution_count": null,
      "outputs": []
    },
    {
      "cell_type": "code",
      "metadata": {
        "id": "Saz8PKSCtC4d"
      },
      "source": [
        "# Runs scored by the batters\n",
        "\n",
        "bdf1 = pd.DataFrame(bumrah_df.groupby('striker')['runs_off_bat'].sum()).reset_index()"
      ],
      "execution_count": 25,
      "outputs": []
    },
    {
      "cell_type": "code",
      "metadata": {
        "colab": {
          "base_uri": "https://localhost:8080/",
          "height": 206
        },
        "id": "vJom8mfttc3v",
        "outputId": "09ffc839-fe34-486c-eadf-1a407c3752a6"
      },
      "source": [
        "bdf1.head()"
      ],
      "execution_count": 27,
      "outputs": [
        {
          "output_type": "execute_result",
          "data": {
            "text/html": [
              "<div>\n",
              "<style scoped>\n",
              "    .dataframe tbody tr th:only-of-type {\n",
              "        vertical-align: middle;\n",
              "    }\n",
              "\n",
              "    .dataframe tbody tr th {\n",
              "        vertical-align: top;\n",
              "    }\n",
              "\n",
              "    .dataframe thead th {\n",
              "        text-align: right;\n",
              "    }\n",
              "</style>\n",
              "<table border=\"1\" class=\"dataframe\">\n",
              "  <thead>\n",
              "    <tr style=\"text-align: right;\">\n",
              "      <th></th>\n",
              "      <th>striker</th>\n",
              "      <th>runs_off_bat</th>\n",
              "    </tr>\n",
              "  </thead>\n",
              "  <tbody>\n",
              "    <tr>\n",
              "      <th>0</th>\n",
              "      <td>A Mishra</td>\n",
              "      <td>1</td>\n",
              "    </tr>\n",
              "    <tr>\n",
              "      <th>1</th>\n",
              "      <td>AB de Villiers</td>\n",
              "      <td>114</td>\n",
              "    </tr>\n",
              "    <tr>\n",
              "      <th>2</th>\n",
              "      <td>AD Nath</td>\n",
              "      <td>4</td>\n",
              "    </tr>\n",
              "    <tr>\n",
              "      <th>3</th>\n",
              "      <td>AD Russell</td>\n",
              "      <td>51</td>\n",
              "    </tr>\n",
              "    <tr>\n",
              "      <th>4</th>\n",
              "      <td>AJ Finch</td>\n",
              "      <td>24</td>\n",
              "    </tr>\n",
              "  </tbody>\n",
              "</table>\n",
              "</div>"
            ],
            "text/plain": [
              "          striker  runs_off_bat\n",
              "0  A Mishra        1           \n",
              "1  AB de Villiers  114         \n",
              "2  AD Nath         4           \n",
              "3  AD Russell      51          \n",
              "4  AJ Finch        24          "
            ]
          },
          "metadata": {},
          "execution_count": 27
        }
      ]
    },
    {
      "cell_type": "code",
      "metadata": {
        "id": "34vLNMqOtuap"
      },
      "source": [
        "# Balls faced by batter\n",
        "bdf2 = pd.DataFrame(bumrah_df.groupby('striker')['ball'].count()).reset_index()"
      ],
      "execution_count": 28,
      "outputs": []
    },
    {
      "cell_type": "code",
      "metadata": {
        "colab": {
          "base_uri": "https://localhost:8080/",
          "height": 206
        },
        "id": "M0tq_RdAudKG",
        "outputId": "7bcb176c-74e4-415b-ef5d-865983172002"
      },
      "source": [
        "bdf2.head()"
      ],
      "execution_count": 29,
      "outputs": [
        {
          "output_type": "execute_result",
          "data": {
            "text/html": [
              "<div>\n",
              "<style scoped>\n",
              "    .dataframe tbody tr th:only-of-type {\n",
              "        vertical-align: middle;\n",
              "    }\n",
              "\n",
              "    .dataframe tbody tr th {\n",
              "        vertical-align: top;\n",
              "    }\n",
              "\n",
              "    .dataframe thead th {\n",
              "        text-align: right;\n",
              "    }\n",
              "</style>\n",
              "<table border=\"1\" class=\"dataframe\">\n",
              "  <thead>\n",
              "    <tr style=\"text-align: right;\">\n",
              "      <th></th>\n",
              "      <th>striker</th>\n",
              "      <th>ball</th>\n",
              "    </tr>\n",
              "  </thead>\n",
              "  <tbody>\n",
              "    <tr>\n",
              "      <th>0</th>\n",
              "      <td>A Mishra</td>\n",
              "      <td>5</td>\n",
              "    </tr>\n",
              "    <tr>\n",
              "      <th>1</th>\n",
              "      <td>AB de Villiers</td>\n",
              "      <td>79</td>\n",
              "    </tr>\n",
              "    <tr>\n",
              "      <th>2</th>\n",
              "      <td>AD Nath</td>\n",
              "      <td>4</td>\n",
              "    </tr>\n",
              "    <tr>\n",
              "      <th>3</th>\n",
              "      <td>AD Russell</td>\n",
              "      <td>41</td>\n",
              "    </tr>\n",
              "    <tr>\n",
              "      <th>4</th>\n",
              "      <td>AJ Finch</td>\n",
              "      <td>29</td>\n",
              "    </tr>\n",
              "  </tbody>\n",
              "</table>\n",
              "</div>"
            ],
            "text/plain": [
              "          striker  ball\n",
              "0  A Mishra        5   \n",
              "1  AB de Villiers  79  \n",
              "2  AD Nath         4   \n",
              "3  AD Russell      41  \n",
              "4  AJ Finch        29  "
            ]
          },
          "metadata": {},
          "execution_count": 29
        }
      ]
    },
    {
      "cell_type": "code",
      "metadata": {
        "id": "4ZzlF5Fhuh94"
      },
      "source": [
        "bdf3 = bdf1.merge(bdf2, on='striker', how='left')"
      ],
      "execution_count": 31,
      "outputs": []
    },
    {
      "cell_type": "code",
      "metadata": {
        "colab": {
          "base_uri": "https://localhost:8080/",
          "height": 206
        },
        "id": "Je4fCAJFu3XY",
        "outputId": "bda64e72-44aa-4400-905d-e8b2681494e0"
      },
      "source": [
        "bdf3.head()"
      ],
      "execution_count": 32,
      "outputs": [
        {
          "output_type": "execute_result",
          "data": {
            "text/html": [
              "<div>\n",
              "<style scoped>\n",
              "    .dataframe tbody tr th:only-of-type {\n",
              "        vertical-align: middle;\n",
              "    }\n",
              "\n",
              "    .dataframe tbody tr th {\n",
              "        vertical-align: top;\n",
              "    }\n",
              "\n",
              "    .dataframe thead th {\n",
              "        text-align: right;\n",
              "    }\n",
              "</style>\n",
              "<table border=\"1\" class=\"dataframe\">\n",
              "  <thead>\n",
              "    <tr style=\"text-align: right;\">\n",
              "      <th></th>\n",
              "      <th>striker</th>\n",
              "      <th>runs_off_bat</th>\n",
              "      <th>ball</th>\n",
              "    </tr>\n",
              "  </thead>\n",
              "  <tbody>\n",
              "    <tr>\n",
              "      <th>0</th>\n",
              "      <td>A Mishra</td>\n",
              "      <td>1</td>\n",
              "      <td>5</td>\n",
              "    </tr>\n",
              "    <tr>\n",
              "      <th>1</th>\n",
              "      <td>AB de Villiers</td>\n",
              "      <td>114</td>\n",
              "      <td>79</td>\n",
              "    </tr>\n",
              "    <tr>\n",
              "      <th>2</th>\n",
              "      <td>AD Nath</td>\n",
              "      <td>4</td>\n",
              "      <td>4</td>\n",
              "    </tr>\n",
              "    <tr>\n",
              "      <th>3</th>\n",
              "      <td>AD Russell</td>\n",
              "      <td>51</td>\n",
              "      <td>41</td>\n",
              "    </tr>\n",
              "    <tr>\n",
              "      <th>4</th>\n",
              "      <td>AJ Finch</td>\n",
              "      <td>24</td>\n",
              "      <td>29</td>\n",
              "    </tr>\n",
              "  </tbody>\n",
              "</table>\n",
              "</div>"
            ],
            "text/plain": [
              "          striker  runs_off_bat  ball\n",
              "0  A Mishra        1             5   \n",
              "1  AB de Villiers  114           79  \n",
              "2  AD Nath         4             4   \n",
              "3  AD Russell      51            41  \n",
              "4  AJ Finch        24            29  "
            ]
          },
          "metadata": {},
          "execution_count": 32
        }
      ]
    },
    {
      "cell_type": "code",
      "metadata": {
        "id": "wPzLjKs8vBRQ"
      },
      "source": [
        "# Adding strikerate\n",
        "bdf3['strikerate'] = 100*(bdf3['runs_off_bat']/bdf3['ball'])"
      ],
      "execution_count": 36,
      "outputs": []
    },
    {
      "cell_type": "code",
      "metadata": {
        "colab": {
          "base_uri": "https://localhost:8080/",
          "height": 81
        },
        "id": "ID5NFyzavKjn",
        "outputId": "549aedf7-e00a-47d0-dbe5-6d1961edfb56"
      },
      "source": [
        "bdf3.head(1)"
      ],
      "execution_count": 37,
      "outputs": [
        {
          "output_type": "execute_result",
          "data": {
            "text/html": [
              "<div>\n",
              "<style scoped>\n",
              "    .dataframe tbody tr th:only-of-type {\n",
              "        vertical-align: middle;\n",
              "    }\n",
              "\n",
              "    .dataframe tbody tr th {\n",
              "        vertical-align: top;\n",
              "    }\n",
              "\n",
              "    .dataframe thead th {\n",
              "        text-align: right;\n",
              "    }\n",
              "</style>\n",
              "<table border=\"1\" class=\"dataframe\">\n",
              "  <thead>\n",
              "    <tr style=\"text-align: right;\">\n",
              "      <th></th>\n",
              "      <th>striker</th>\n",
              "      <th>runs_off_bat</th>\n",
              "      <th>ball</th>\n",
              "      <th>strikerate</th>\n",
              "    </tr>\n",
              "  </thead>\n",
              "  <tbody>\n",
              "    <tr>\n",
              "      <th>0</th>\n",
              "      <td>A Mishra</td>\n",
              "      <td>1</td>\n",
              "      <td>5</td>\n",
              "      <td>20.0</td>\n",
              "    </tr>\n",
              "  </tbody>\n",
              "</table>\n",
              "</div>"
            ],
            "text/plain": [
              "    striker  runs_off_bat  ball  strikerate\n",
              "0  A Mishra  1             5     20.0      "
            ]
          },
          "metadata": {},
          "execution_count": 37
        }
      ]
    },
    {
      "cell_type": "code",
      "metadata": {
        "id": "bXJP143Zvkba"
      },
      "source": [
        "# We have a criteria min of 30 balls faced.\n",
        "bdf3 = bdf3[bdf3.ball >= 30]"
      ],
      "execution_count": 38,
      "outputs": []
    },
    {
      "cell_type": "code",
      "metadata": {
        "colab": {
          "base_uri": "https://localhost:8080/",
          "height": 206
        },
        "id": "LismRrIWwg4G",
        "outputId": "146ff274-1c1b-424f-c195-56b0de955c1d"
      },
      "source": [
        "bdf3.head()"
      ],
      "execution_count": 39,
      "outputs": [
        {
          "output_type": "execute_result",
          "data": {
            "text/html": [
              "<div>\n",
              "<style scoped>\n",
              "    .dataframe tbody tr th:only-of-type {\n",
              "        vertical-align: middle;\n",
              "    }\n",
              "\n",
              "    .dataframe tbody tr th {\n",
              "        vertical-align: top;\n",
              "    }\n",
              "\n",
              "    .dataframe thead th {\n",
              "        text-align: right;\n",
              "    }\n",
              "</style>\n",
              "<table border=\"1\" class=\"dataframe\">\n",
              "  <thead>\n",
              "    <tr style=\"text-align: right;\">\n",
              "      <th></th>\n",
              "      <th>striker</th>\n",
              "      <th>runs_off_bat</th>\n",
              "      <th>ball</th>\n",
              "      <th>strikerate</th>\n",
              "    </tr>\n",
              "  </thead>\n",
              "  <tbody>\n",
              "    <tr>\n",
              "      <th>1</th>\n",
              "      <td>AB de Villiers</td>\n",
              "      <td>114</td>\n",
              "      <td>79</td>\n",
              "      <td>144.303797</td>\n",
              "    </tr>\n",
              "    <tr>\n",
              "      <th>3</th>\n",
              "      <td>AD Russell</td>\n",
              "      <td>51</td>\n",
              "      <td>41</td>\n",
              "      <td>124.390244</td>\n",
              "    </tr>\n",
              "    <tr>\n",
              "      <th>7</th>\n",
              "      <td>AM Rahane</td>\n",
              "      <td>43</td>\n",
              "      <td>35</td>\n",
              "      <td>122.857143</td>\n",
              "    </tr>\n",
              "    <tr>\n",
              "      <th>8</th>\n",
              "      <td>AR Patel</td>\n",
              "      <td>21</td>\n",
              "      <td>32</td>\n",
              "      <td>65.625000</td>\n",
              "    </tr>\n",
              "    <tr>\n",
              "      <th>11</th>\n",
              "      <td>AT Rayudu</td>\n",
              "      <td>48</td>\n",
              "      <td>34</td>\n",
              "      <td>141.176471</td>\n",
              "    </tr>\n",
              "  </tbody>\n",
              "</table>\n",
              "</div>"
            ],
            "text/plain": [
              "           striker  runs_off_bat  ball  strikerate\n",
              "1   AB de Villiers  114           79    144.303797\n",
              "3   AD Russell      51            41    124.390244\n",
              "7   AM Rahane       43            35    122.857143\n",
              "8   AR Patel        21            32    65.625000 \n",
              "11  AT Rayudu       48            34    141.176471"
            ]
          },
          "metadata": {},
          "execution_count": 39
        }
      ]
    },
    {
      "cell_type": "code",
      "metadata": {
        "id": "GLcSSytIwjrQ"
      },
      "source": [
        "# Listing No.of runs scored by ABD against each player.\n",
        "\n",
        "abd1 = pd.DataFrame(abd_df.groupby('bowler')['runs_off_bat'].sum()).reset_index()"
      ],
      "execution_count": 47,
      "outputs": []
    },
    {
      "cell_type": "code",
      "metadata": {
        "colab": {
          "base_uri": "https://localhost:8080/",
          "height": 206
        },
        "id": "80gufglR8cTs",
        "outputId": "7728ba94-9499-46fd-d067-32610d114a0b"
      },
      "source": [
        "abd1.head()"
      ],
      "execution_count": 48,
      "outputs": [
        {
          "output_type": "execute_result",
          "data": {
            "text/html": [
              "<div>\n",
              "<style scoped>\n",
              "    .dataframe tbody tr th:only-of-type {\n",
              "        vertical-align: middle;\n",
              "    }\n",
              "\n",
              "    .dataframe tbody tr th {\n",
              "        vertical-align: top;\n",
              "    }\n",
              "\n",
              "    .dataframe thead th {\n",
              "        text-align: right;\n",
              "    }\n",
              "</style>\n",
              "<table border=\"1\" class=\"dataframe\">\n",
              "  <thead>\n",
              "    <tr style=\"text-align: right;\">\n",
              "      <th></th>\n",
              "      <th>bowler</th>\n",
              "      <th>runs_off_bat</th>\n",
              "    </tr>\n",
              "  </thead>\n",
              "  <tbody>\n",
              "    <tr>\n",
              "      <th>0</th>\n",
              "      <td>A Ashish Reddy</td>\n",
              "      <td>46</td>\n",
              "    </tr>\n",
              "    <tr>\n",
              "      <th>1</th>\n",
              "      <td>A Chandila</td>\n",
              "      <td>26</td>\n",
              "    </tr>\n",
              "    <tr>\n",
              "      <th>2</th>\n",
              "      <td>A Flintoff</td>\n",
              "      <td>34</td>\n",
              "    </tr>\n",
              "    <tr>\n",
              "      <th>3</th>\n",
              "      <td>A Kumble</td>\n",
              "      <td>39</td>\n",
              "    </tr>\n",
              "    <tr>\n",
              "      <th>4</th>\n",
              "      <td>A Mishra</td>\n",
              "      <td>40</td>\n",
              "    </tr>\n",
              "  </tbody>\n",
              "</table>\n",
              "</div>"
            ],
            "text/plain": [
              "           bowler  runs_off_bat\n",
              "0  A Ashish Reddy  46          \n",
              "1  A Chandila      26          \n",
              "2  A Flintoff      34          \n",
              "3  A Kumble        39          \n",
              "4  A Mishra        40          "
            ]
          },
          "metadata": {},
          "execution_count": 48
        }
      ]
    },
    {
      "cell_type": "code",
      "metadata": {
        "id": "My2rj-R-8esC"
      },
      "source": [
        "# No.of balls faced\n",
        "abd2 = pd.DataFrame(abd_df.groupby('bowler')['ball'].count()).reset_index()"
      ],
      "execution_count": 49,
      "outputs": []
    },
    {
      "cell_type": "code",
      "metadata": {
        "colab": {
          "base_uri": "https://localhost:8080/",
          "height": 206
        },
        "id": "iD-5d3SD9CvA",
        "outputId": "7aa90fa4-a2ee-4c8e-be43-bae8aa8ffeee"
      },
      "source": [
        "abd2.head()"
      ],
      "execution_count": 50,
      "outputs": [
        {
          "output_type": "execute_result",
          "data": {
            "text/html": [
              "<div>\n",
              "<style scoped>\n",
              "    .dataframe tbody tr th:only-of-type {\n",
              "        vertical-align: middle;\n",
              "    }\n",
              "\n",
              "    .dataframe tbody tr th {\n",
              "        vertical-align: top;\n",
              "    }\n",
              "\n",
              "    .dataframe thead th {\n",
              "        text-align: right;\n",
              "    }\n",
              "</style>\n",
              "<table border=\"1\" class=\"dataframe\">\n",
              "  <thead>\n",
              "    <tr style=\"text-align: right;\">\n",
              "      <th></th>\n",
              "      <th>bowler</th>\n",
              "      <th>ball</th>\n",
              "    </tr>\n",
              "  </thead>\n",
              "  <tbody>\n",
              "    <tr>\n",
              "      <th>0</th>\n",
              "      <td>A Ashish Reddy</td>\n",
              "      <td>18</td>\n",
              "    </tr>\n",
              "    <tr>\n",
              "      <th>1</th>\n",
              "      <td>A Chandila</td>\n",
              "      <td>11</td>\n",
              "    </tr>\n",
              "    <tr>\n",
              "      <th>2</th>\n",
              "      <td>A Flintoff</td>\n",
              "      <td>12</td>\n",
              "    </tr>\n",
              "    <tr>\n",
              "      <th>3</th>\n",
              "      <td>A Kumble</td>\n",
              "      <td>41</td>\n",
              "    </tr>\n",
              "    <tr>\n",
              "      <th>4</th>\n",
              "      <td>A Mishra</td>\n",
              "      <td>37</td>\n",
              "    </tr>\n",
              "  </tbody>\n",
              "</table>\n",
              "</div>"
            ],
            "text/plain": [
              "           bowler  ball\n",
              "0  A Ashish Reddy  18  \n",
              "1  A Chandila      11  \n",
              "2  A Flintoff      12  \n",
              "3  A Kumble        41  \n",
              "4  A Mishra        37  "
            ]
          },
          "metadata": {},
          "execution_count": 50
        }
      ]
    },
    {
      "cell_type": "code",
      "metadata": {
        "id": "L3yk6Lqz9FKV"
      },
      "source": [
        "abd3 = abd1.merge(abd2, on=\"bowler\", how=\"left\")"
      ],
      "execution_count": 53,
      "outputs": []
    },
    {
      "cell_type": "code",
      "metadata": {
        "colab": {
          "base_uri": "https://localhost:8080/",
          "height": 206
        },
        "id": "gRlVZRJQ9Qc0",
        "outputId": "ac027a35-c1ee-44ec-b15a-cc21d4b34f7c"
      },
      "source": [
        "abd3.head()"
      ],
      "execution_count": 54,
      "outputs": [
        {
          "output_type": "execute_result",
          "data": {
            "text/html": [
              "<div>\n",
              "<style scoped>\n",
              "    .dataframe tbody tr th:only-of-type {\n",
              "        vertical-align: middle;\n",
              "    }\n",
              "\n",
              "    .dataframe tbody tr th {\n",
              "        vertical-align: top;\n",
              "    }\n",
              "\n",
              "    .dataframe thead th {\n",
              "        text-align: right;\n",
              "    }\n",
              "</style>\n",
              "<table border=\"1\" class=\"dataframe\">\n",
              "  <thead>\n",
              "    <tr style=\"text-align: right;\">\n",
              "      <th></th>\n",
              "      <th>bowler</th>\n",
              "      <th>runs_off_bat</th>\n",
              "      <th>ball</th>\n",
              "    </tr>\n",
              "  </thead>\n",
              "  <tbody>\n",
              "    <tr>\n",
              "      <th>0</th>\n",
              "      <td>A Ashish Reddy</td>\n",
              "      <td>46</td>\n",
              "      <td>18</td>\n",
              "    </tr>\n",
              "    <tr>\n",
              "      <th>1</th>\n",
              "      <td>A Chandila</td>\n",
              "      <td>26</td>\n",
              "      <td>11</td>\n",
              "    </tr>\n",
              "    <tr>\n",
              "      <th>2</th>\n",
              "      <td>A Flintoff</td>\n",
              "      <td>34</td>\n",
              "      <td>12</td>\n",
              "    </tr>\n",
              "    <tr>\n",
              "      <th>3</th>\n",
              "      <td>A Kumble</td>\n",
              "      <td>39</td>\n",
              "      <td>41</td>\n",
              "    </tr>\n",
              "    <tr>\n",
              "      <th>4</th>\n",
              "      <td>A Mishra</td>\n",
              "      <td>40</td>\n",
              "      <td>37</td>\n",
              "    </tr>\n",
              "  </tbody>\n",
              "</table>\n",
              "</div>"
            ],
            "text/plain": [
              "           bowler  runs_off_bat  ball\n",
              "0  A Ashish Reddy  46            18  \n",
              "1  A Chandila      26            11  \n",
              "2  A Flintoff      34            12  \n",
              "3  A Kumble        39            41  \n",
              "4  A Mishra        40            37  "
            ]
          },
          "metadata": {},
          "execution_count": 54
        }
      ]
    },
    {
      "cell_type": "code",
      "metadata": {
        "colab": {
          "base_uri": "https://localhost:8080/",
          "height": 206
        },
        "id": "7I4rcIAA9ccS",
        "outputId": "513c58c6-d49f-4d09-c413-4ef0b3e6e232"
      },
      "source": [
        "abd3['strikerate'] = 100*(abd3.runs_off_bat/abd3.ball)\n",
        "abd3.head()"
      ],
      "execution_count": 55,
      "outputs": [
        {
          "output_type": "execute_result",
          "data": {
            "text/html": [
              "<div>\n",
              "<style scoped>\n",
              "    .dataframe tbody tr th:only-of-type {\n",
              "        vertical-align: middle;\n",
              "    }\n",
              "\n",
              "    .dataframe tbody tr th {\n",
              "        vertical-align: top;\n",
              "    }\n",
              "\n",
              "    .dataframe thead th {\n",
              "        text-align: right;\n",
              "    }\n",
              "</style>\n",
              "<table border=\"1\" class=\"dataframe\">\n",
              "  <thead>\n",
              "    <tr style=\"text-align: right;\">\n",
              "      <th></th>\n",
              "      <th>bowler</th>\n",
              "      <th>runs_off_bat</th>\n",
              "      <th>ball</th>\n",
              "      <th>strikerate</th>\n",
              "    </tr>\n",
              "  </thead>\n",
              "  <tbody>\n",
              "    <tr>\n",
              "      <th>0</th>\n",
              "      <td>A Ashish Reddy</td>\n",
              "      <td>46</td>\n",
              "      <td>18</td>\n",
              "      <td>255.555556</td>\n",
              "    </tr>\n",
              "    <tr>\n",
              "      <th>1</th>\n",
              "      <td>A Chandila</td>\n",
              "      <td>26</td>\n",
              "      <td>11</td>\n",
              "      <td>236.363636</td>\n",
              "    </tr>\n",
              "    <tr>\n",
              "      <th>2</th>\n",
              "      <td>A Flintoff</td>\n",
              "      <td>34</td>\n",
              "      <td>12</td>\n",
              "      <td>283.333333</td>\n",
              "    </tr>\n",
              "    <tr>\n",
              "      <th>3</th>\n",
              "      <td>A Kumble</td>\n",
              "      <td>39</td>\n",
              "      <td>41</td>\n",
              "      <td>95.121951</td>\n",
              "    </tr>\n",
              "    <tr>\n",
              "      <th>4</th>\n",
              "      <td>A Mishra</td>\n",
              "      <td>40</td>\n",
              "      <td>37</td>\n",
              "      <td>108.108108</td>\n",
              "    </tr>\n",
              "  </tbody>\n",
              "</table>\n",
              "</div>"
            ],
            "text/plain": [
              "           bowler  runs_off_bat  ball  strikerate\n",
              "0  A Ashish Reddy  46            18    255.555556\n",
              "1  A Chandila      26            11    236.363636\n",
              "2  A Flintoff      34            12    283.333333\n",
              "3  A Kumble        39            41    95.121951 \n",
              "4  A Mishra        40            37    108.108108"
            ]
          },
          "metadata": {},
          "execution_count": 55
        }
      ]
    },
    {
      "cell_type": "code",
      "metadata": {
        "id": "wAG6ICOs9pIL"
      },
      "source": [
        "# We have a min criteria, Min ball 30\n",
        "abd3 = abd3[abd3.ball >= 30]"
      ],
      "execution_count": 56,
      "outputs": []
    },
    {
      "cell_type": "code",
      "metadata": {
        "colab": {
          "base_uri": "https://localhost:8080/",
          "height": 206
        },
        "id": "1XhV4JTQ9yl1",
        "outputId": "ea7c1081-6d2b-447d-8dd5-e24e546343b1"
      },
      "source": [
        "abd3.head()"
      ],
      "execution_count": 57,
      "outputs": [
        {
          "output_type": "execute_result",
          "data": {
            "text/html": [
              "<div>\n",
              "<style scoped>\n",
              "    .dataframe tbody tr th:only-of-type {\n",
              "        vertical-align: middle;\n",
              "    }\n",
              "\n",
              "    .dataframe tbody tr th {\n",
              "        vertical-align: top;\n",
              "    }\n",
              "\n",
              "    .dataframe thead th {\n",
              "        text-align: right;\n",
              "    }\n",
              "</style>\n",
              "<table border=\"1\" class=\"dataframe\">\n",
              "  <thead>\n",
              "    <tr style=\"text-align: right;\">\n",
              "      <th></th>\n",
              "      <th>bowler</th>\n",
              "      <th>runs_off_bat</th>\n",
              "      <th>ball</th>\n",
              "      <th>strikerate</th>\n",
              "    </tr>\n",
              "  </thead>\n",
              "  <tbody>\n",
              "    <tr>\n",
              "      <th>3</th>\n",
              "      <td>A Kumble</td>\n",
              "      <td>39</td>\n",
              "      <td>41</td>\n",
              "      <td>95.121951</td>\n",
              "    </tr>\n",
              "    <tr>\n",
              "      <th>4</th>\n",
              "      <td>A Mishra</td>\n",
              "      <td>40</td>\n",
              "      <td>37</td>\n",
              "      <td>108.108108</td>\n",
              "    </tr>\n",
              "    <tr>\n",
              "      <th>16</th>\n",
              "      <td>AD Russell</td>\n",
              "      <td>87</td>\n",
              "      <td>38</td>\n",
              "      <td>228.947368</td>\n",
              "    </tr>\n",
              "    <tr>\n",
              "      <th>20</th>\n",
              "      <td>AR Patel</td>\n",
              "      <td>70</td>\n",
              "      <td>65</td>\n",
              "      <td>107.692308</td>\n",
              "    </tr>\n",
              "    <tr>\n",
              "      <th>31</th>\n",
              "      <td>B Kumar</td>\n",
              "      <td>61</td>\n",
              "      <td>39</td>\n",
              "      <td>156.410256</td>\n",
              "    </tr>\n",
              "  </tbody>\n",
              "</table>\n",
              "</div>"
            ],
            "text/plain": [
              "        bowler  runs_off_bat  ball  strikerate\n",
              "3   A Kumble    39            41    95.121951 \n",
              "4   A Mishra    40            37    108.108108\n",
              "16  AD Russell  87            38    228.947368\n",
              "20  AR Patel    70            65    107.692308\n",
              "31  B Kumar     61            39    156.410256"
            ]
          },
          "metadata": {},
          "execution_count": 57
        }
      ]
    },
    {
      "cell_type": "code",
      "metadata": {
        "id": "njbGkyIr91Ei"
      },
      "source": [
        "bdf3.reset_index(inplace=True,drop=True)\n",
        "abd3.reset_index(inplace=True, drop=True)"
      ],
      "execution_count": 59,
      "outputs": []
    },
    {
      "cell_type": "code",
      "metadata": {
        "colab": {
          "base_uri": "https://localhost:8080/",
          "height": 206
        },
        "id": "ReisCQn8-Hqq",
        "outputId": "7c6c05cd-931e-4a3e-fe74-593fe581e849"
      },
      "source": [
        "abd3.head()"
      ],
      "execution_count": 60,
      "outputs": [
        {
          "output_type": "execute_result",
          "data": {
            "text/html": [
              "<div>\n",
              "<style scoped>\n",
              "    .dataframe tbody tr th:only-of-type {\n",
              "        vertical-align: middle;\n",
              "    }\n",
              "\n",
              "    .dataframe tbody tr th {\n",
              "        vertical-align: top;\n",
              "    }\n",
              "\n",
              "    .dataframe thead th {\n",
              "        text-align: right;\n",
              "    }\n",
              "</style>\n",
              "<table border=\"1\" class=\"dataframe\">\n",
              "  <thead>\n",
              "    <tr style=\"text-align: right;\">\n",
              "      <th></th>\n",
              "      <th>bowler</th>\n",
              "      <th>runs_off_bat</th>\n",
              "      <th>ball</th>\n",
              "      <th>strikerate</th>\n",
              "    </tr>\n",
              "  </thead>\n",
              "  <tbody>\n",
              "    <tr>\n",
              "      <th>0</th>\n",
              "      <td>A Kumble</td>\n",
              "      <td>39</td>\n",
              "      <td>41</td>\n",
              "      <td>95.121951</td>\n",
              "    </tr>\n",
              "    <tr>\n",
              "      <th>1</th>\n",
              "      <td>A Mishra</td>\n",
              "      <td>40</td>\n",
              "      <td>37</td>\n",
              "      <td>108.108108</td>\n",
              "    </tr>\n",
              "    <tr>\n",
              "      <th>2</th>\n",
              "      <td>AD Russell</td>\n",
              "      <td>87</td>\n",
              "      <td>38</td>\n",
              "      <td>228.947368</td>\n",
              "    </tr>\n",
              "    <tr>\n",
              "      <th>3</th>\n",
              "      <td>AR Patel</td>\n",
              "      <td>70</td>\n",
              "      <td>65</td>\n",
              "      <td>107.692308</td>\n",
              "    </tr>\n",
              "    <tr>\n",
              "      <th>4</th>\n",
              "      <td>B Kumar</td>\n",
              "      <td>61</td>\n",
              "      <td>39</td>\n",
              "      <td>156.410256</td>\n",
              "    </tr>\n",
              "  </tbody>\n",
              "</table>\n",
              "</div>"
            ],
            "text/plain": [
              "       bowler  runs_off_bat  ball  strikerate\n",
              "0  A Kumble    39            41    95.121951 \n",
              "1  A Mishra    40            37    108.108108\n",
              "2  AD Russell  87            38    228.947368\n",
              "3  AR Patel    70            65    107.692308\n",
              "4  B Kumar     61            39    156.410256"
            ]
          },
          "metadata": {},
          "execution_count": 60
        }
      ]
    },
    {
      "cell_type": "code",
      "metadata": {
        "colab": {
          "base_uri": "https://localhost:8080/",
          "height": 409
        },
        "id": "0h1SLqNp-PX6",
        "outputId": "6741433e-6235-471d-9149-4a2dd6375af6"
      },
      "source": [
        "# Ploat bdf3 as a diagram\n",
        "plt.figure(figsize=(16,6))\n",
        "plt.scatter(bdf3.strikerate, bdf3.runs_off_bat)\n",
        "for i in range(len(bdf3)):\n",
        "  # plt.text(x,y,text)\n",
        "  if(bdf3['striker'][i] == 'V Kohli'):\n",
        "    plt.text(bdf3['strikerate'][i]-7, bdf3['runs_off_bat'][i]-1, bdf3['striker'][i])\n",
        "  else:\n",
        "    plt.text(bdf3['strikerate'][i] + 1, bdf3['runs_off_bat'][i] - 1, bdf3['striker'][i] )\n",
        "plt.xlabel(\"Strikerate\")\n",
        "plt.ylabel(\"Runs scored\")\n",
        "plt.title(\"Batter against Bumrah in IPL (Minimum of 30 balls) \", fontsize=20)\n",
        "plt.axvline(120, ls='--', color = \"grey\")\n",
        "plt.axhline(60, ls='--', color = \"grey\")\n",
        "plt.show()"
      ],
      "execution_count": 74,
      "outputs": [
        {
          "output_type": "display_data",
          "data": {
            "image/png": "[encoded data removed]",
            "text/plain": [
              "<Figure size 1152x432 with 1 Axes>"
            ]
          },
          "metadata": {
            "needs_background": "light"
          }
        }
      ]
    },
    {
      "cell_type": "code",
      "metadata": {
        "colab": {
          "base_uri": "https://localhost:8080/",
          "height": 409
        },
        "id": "JaMYiwhX-ggh",
        "outputId": "7bd1e9e9-7283-460d-bf11-023e9887b094"
      },
      "source": [
        "# plotting ABD's performance against different bowlers\n",
        "\n",
        "plt.figure(figsize=(16,6))\n",
        "plt.title(\"ABD's favourite bowler in IPL\", fontsize=20)\n",
        "plt.scatter(abd3['strikerate'],abd3['runs_off_bat'])\n",
        "for i in range(len(abd3)):\n",
        "  if abd3['bowler'][i] == 'JJ Bumrah':\n",
        "    plt.text(abd3['strikerate'][i]+2, abd3['runs_off_bat'][i]-1, abd3['bowler'][i], color='maroon')\n",
        "  elif (abd3['strikerate'][i] >= 200 | abd3['runs_off_bat'][i] >= 100):\n",
        "    plt.text(abd3['strikerate'][i]+2, abd3['runs_off_bat'][i]-1, abd3['bowler'][i], color='green')\n",
        "  elif abd3['strikerate'][i] < 100:\n",
        "    plt.text(abd3['strikerate'][i]+2, abd3['runs_off_bat'][i]-1, abd3['bowler'][i], color='red')\n",
        "  elif (abd3.bowler[i] == 'HH Pandya'):\n",
        "      plt.text(abd3.strikerate[i], abd3.runs_off_bat[i] + 3, abd3.bowler[i])\n",
        "  else:\n",
        "    plt.text(abd3['strikerate'][i]+2, abd3['runs_off_bat'][i]-1, abd3['bowler'][i])\n",
        "plt.axvline(120, ls='--', color='grey')\n",
        "plt.axhline(60, ls='--', color='grey')\n",
        "plt.xlabel('Strike rate')\n",
        "plt.ylabel('Runs scored')\n",
        "plt.show()"
      ],
      "execution_count": 93,
      "outputs": [
        {
          "output_type": "display_data",
          "data": {
            "image/png": "[encoded data removed]",
            "text/plain": [
              "<Figure size 1152x432 with 1 Axes>"
            ]
          },
          "metadata": {
            "needs_background": "light"
          }
        }
      ]
    },
    {
      "cell_type": "code",
      "metadata": {
        "id": "GtXPFzaICKnb"
      },
      "source": [
        ""
      ],
      "execution_count": null,
      "outputs": []
    }
  ]
}